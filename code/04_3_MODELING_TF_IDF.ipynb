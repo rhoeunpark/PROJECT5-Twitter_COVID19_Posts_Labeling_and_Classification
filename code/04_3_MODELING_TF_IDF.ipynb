{
 "cells": [
  {
   "cell_type": "markdown",
   "id": "e8c4e087",
   "metadata": {},
   "source": [
    "# 04_3: TF-IDF Vectorization Modeling"
   ]
  },
  {
   "cell_type": "markdown",
   "id": "25e96d8a",
   "metadata": {},
   "source": [
    "---"
   ]
  },
  {
   "cell_type": "markdown",
   "id": "fcbabe52",
   "metadata": {},
   "source": [
    "## Imports"
   ]
  },
  {
   "cell_type": "code",
   "execution_count": 373,
   "id": "90bc9dbc",
   "metadata": {},
   "outputs": [],
   "source": [
    "import pandas as pd\n",
    "import numpy as np\n",
    "import matplotlib.pyplot as plt\n",
    "import preprocessor as p\n",
    "import re\n",
    "\n",
    "from nltk.tokenize import word_tokenize\n",
    "from nltk.tokenize import TweetTokenizer\n",
    "from nltk.stem import WordNetLemmatizer\n",
    "from nltk.corpus import stopwords\n",
    "\n",
    "from sklearn.feature_extraction.text import TfidfVectorizer\n",
    "from sklearn.pipeline import Pipeline\n",
    "\n",
    "from sklearn.model_selection import train_test_split, cross_val_score, RandomizedSearchCV\n",
    "from sklearn.ensemble import RandomForestClassifier, AdaBoostClassifier\n",
    "from sklearn.linear_model import LogisticRegression\n",
    "from sklearn.neighbors import KNeighborsClassifier\n",
    "from sklearn.tree import DecisionTreeClassifier\n",
    "from sklearn.ensemble import AdaBoostClassifier, GradientBoostingClassifier\n",
    "from xgboost import XGBClassifier\n",
    "from sklearn.svm import SVC\n",
    "from sklearn.naive_bayes import BernoulliNB\n",
    "from sklearn.naive_bayes import MultinomialNB\n",
    "\n",
    "from sklearn.metrics import accuracy_score, precision_score, recall_score, f1_score, confusion_matrix, classification_report, ConfusionMatrixDisplay\n",
    "\n",
    "\n",
    "import warnings\n",
    "warnings.simplefilter(action='ignore', category=FutureWarning)\n",
    "\n",
    "pd.options.display.max_colwidth = 400"
   ]
  },
  {
   "cell_type": "markdown",
   "id": "093112a8",
   "metadata": {},
   "source": [
    "---"
   ]
  },
  {
   "cell_type": "markdown",
   "id": "74ccbeeb",
   "metadata": {},
   "source": [
    "## Load Data"
   ]
  },
  {
   "cell_type": "code",
   "execution_count": 293,
   "id": "5168f6c2",
   "metadata": {},
   "outputs": [
    {
     "data": {
      "text/plain": [
       "(25466, 5)"
      ]
     },
     "execution_count": 293,
     "metadata": {},
     "output_type": "execute_result"
    }
   ],
   "source": [
    "# Hashtag labeled data\n",
    "tweets_h = pd.read_csv('../data/hashlabeled_tweets_train.csv')\n",
    "tweets_h.shape"
   ]
  },
  {
   "cell_type": "code",
   "execution_count": 294,
   "id": "e46d7c31",
   "metadata": {
    "scrolled": false
   },
   "outputs": [
    {
     "data": {
      "text/plain": [
       "datetime       0\n",
       "text           0\n",
       "p_text         0\n",
       "hashtag        0\n",
       "get_vaccine    0\n",
       "dtype: int64"
      ]
     },
     "execution_count": 294,
     "metadata": {},
     "output_type": "execute_result"
    }
   ],
   "source": [
    "tweets_h.isnull().sum()"
   ]
  },
  {
   "cell_type": "code",
   "execution_count": 299,
   "id": "76e847b5",
   "metadata": {},
   "outputs": [
    {
     "data": {
      "text/plain": [
       "0    0.509424\n",
       "1    0.490576\n",
       "Name: get_vaccine, dtype: float64"
      ]
     },
     "execution_count": 299,
     "metadata": {},
     "output_type": "execute_result"
    }
   ],
   "source": [
    "tweets_h['get_vaccine'].value_counts(normalize=True)"
   ]
  },
  {
   "cell_type": "code",
   "execution_count": 290,
   "id": "20313b91",
   "metadata": {},
   "outputs": [
    {
     "data": {
      "text/plain": [
       "(60515, 3)"
      ]
     },
     "execution_count": 290,
     "metadata": {},
     "output_type": "execute_result"
    }
   ],
   "source": [
    "# Snorkel labeled data\n",
    "tweets_s = pd.read_csv('../data/snorklabeled_tweets_train.csv')\n",
    "tweets_s.shape"
   ]
  },
  {
   "cell_type": "code",
   "execution_count": 292,
   "id": "c1999152",
   "metadata": {
    "scrolled": false
   },
   "outputs": [
    {
     "data": {
      "text/plain": [
       "datetime    0\n",
       "text        0\n",
       "label       0\n",
       "dtype: int64"
      ]
     },
     "execution_count": 292,
     "metadata": {},
     "output_type": "execute_result"
    }
   ],
   "source": [
    "tweets_s.isnull().sum()"
   ]
  },
  {
   "cell_type": "code",
   "execution_count": 297,
   "id": "07fb1218",
   "metadata": {
    "scrolled": true
   },
   "outputs": [
    {
     "data": {
      "text/plain": [
       "1    0.863455\n",
       "0    0.136545\n",
       "Name: label, dtype: float64"
      ]
     },
     "execution_count": 297,
     "metadata": {},
     "output_type": "execute_result"
    }
   ],
   "source": [
    "tweets_s['label'].value_counts(normalize=True)"
   ]
  },
  {
   "cell_type": "markdown",
   "id": "5a7d26d3",
   "metadata": {},
   "source": [
    "Hashtag-labeled data is balanced, given the method of collection. Snorkel-labeled data is highly imbalanced and will require some adjustment before modeling. "
   ]
  },
  {
   "cell_type": "markdown",
   "id": "156fd6f7",
   "metadata": {},
   "source": [
    "## Hashtag-labeled Data Modeling"
   ]
  },
  {
   "cell_type": "markdown",
   "id": "46e0c85e",
   "metadata": {},
   "source": [
    "**Train-Test Split**"
   ]
  },
  {
   "cell_type": "code",
   "execution_count": 329,
   "id": "bf81beb4",
   "metadata": {},
   "outputs": [],
   "source": [
    "X = tweets_h['p_text'] # will use processed text column\n",
    "y = tweets_h['get_vaccine']\n",
    "\n",
    "X_train, X_val, y_train, y_val = train_test_split(X, \n",
    "                                                  y, \n",
    "                                                  test_size=0.2, \n",
    "                                                  random_state=42, \n",
    "                                                  stratify=y)"
   ]
  },
  {
   "cell_type": "markdown",
   "id": "495445ee",
   "metadata": {},
   "source": [
    "**Baseline Accuracies**"
   ]
  },
  {
   "cell_type": "code",
   "execution_count": 46,
   "id": "7d9f48ad",
   "metadata": {},
   "outputs": [
    {
     "name": "stdout",
     "output_type": "stream",
     "text": [
      "0    0.509424\n",
      "1    0.490576\n",
      "Name: get_vaccine, dtype: float64\n",
      "0    0.509425\n",
      "1    0.490575\n",
      "Name: get_vaccine, dtype: float64\n",
      "0    0.509423\n",
      "1    0.490577\n",
      "Name: get_vaccine, dtype: float64\n"
     ]
    }
   ],
   "source": [
    "print(y.value_counts(normalize=True))\n",
    "print(y_train.value_counts(normalize=True))\n",
    "print(y_val.value_counts(normalize=True))"
   ]
  },
  {
   "cell_type": "markdown",
   "id": "19900e16",
   "metadata": {},
   "source": [
    "Baseline accuracy is about 0.5; the model should at the least beat accuracy of 0.5."
   ]
  },
  {
   "cell_type": "markdown",
   "id": "75a578ec",
   "metadata": {},
   "source": [
    "**TF-IDF Vectorizer**"
   ]
  },
  {
   "cell_type": "code",
   "execution_count": 47,
   "id": "b034b2aa",
   "metadata": {},
   "outputs": [],
   "source": [
    "# following lemmatizer object will be used as the tokenizer when creating Tfidf vectors, so that \n",
    "# the tokens created will be lemmatized. \n",
    "class LemmaTokenizer(object):\n",
    "    def __init__(self):\n",
    "        self.wnl = WordNetLemmatizer()\n",
    "    def __call__(self, articles):\n",
    "        return [self.wnl.lemmatize(t) for t in word_tokenize(articles)]"
   ]
  },
  {
   "cell_type": "code",
   "execution_count": 304,
   "id": "9340831d",
   "metadata": {},
   "outputs": [],
   "source": [
    "# Update the stopwords according the the warning recieved when tokenizing. \n",
    "# This is resulted due to words being tokenized before stopwords get removed. \n",
    "stopwords = stopwords.words('english')\n",
    "new_stop_words = [\"'d\", \"'ll\", \"'re\", \"'s\", \"'ve\", 'could', 'doe', 'ha', 'might', 'must', \"n't\", 'need', 'sha', 'wa', 'wo', 'would']\n",
    "stopwords.extend(new_stop_words)"
   ]
  },
  {
   "cell_type": "code",
   "execution_count": 330,
   "id": "48bcf19e",
   "metadata": {},
   "outputs": [],
   "source": [
    "tvec = TfidfVectorizer(lowercase=True, \n",
    "                        preprocessor=None, \n",
    "                        tokenizer=LemmaTokenizer(), \n",
    "                        stop_words=stopwords, \n",
    "                        analyzer='word')\n",
    "\n",
    "X_train_tvec = tvec.fit_transform(X_train)\n",
    "X_val_tvec = tvec.transform(X_val)"
   ]
  },
  {
   "cell_type": "markdown",
   "id": "08880a15",
   "metadata": {},
   "source": [
    "### Model Selection"
   ]
  },
  {
   "cell_type": "code",
   "execution_count": 50,
   "id": "fe76fe08",
   "metadata": {},
   "outputs": [],
   "source": [
    "# Following are the classifiers that will be tested for the text binary classification\n",
    "classifiers = {\n",
    "    'logreg' : LogisticRegression(random_state=42, max_iter=1000),\n",
    "    'svc' : SVC(random_state=42),\n",
    "    'random_forests' : RandomForestClassifier(random_state=42),\n",
    "    'multinomialNB' : MultinomialNB(),\n",
    "    'knearestneighbors' : KNeighborsClassifier(),\n",
    "    'adaboost' : AdaBoostClassifier(random_state=42, base_estimator=DecisionTreeClassifier()),\n",
    "    'xgboost' : XGBClassifier()\n",
    "}"
   ]
  },
  {
   "cell_type": "code",
   "execution_count": 51,
   "id": "3270539b",
   "metadata": {},
   "outputs": [],
   "source": [
    "# Define a function that fits a model and compiles the metrics\n",
    "def run_models(model, \n",
    "               X_train, y_train, X_test, y_test,\n",
    "               verbose=True):\n",
    "\n",
    "    results = {} # instantiate results dictionary to store different metric scores\n",
    "    \n",
    "    model.fit(X_train, y_train) # fit the model\n",
    "\n",
    "    y_pred_train = model.predict(X_train) # make train and test predictions \n",
    "    y_pred_test = model.predict(X_test)\n",
    "    \n",
    "    tn, fp, fn, tp = confusion_matrix(y_test, y_pred_test).ravel()\n",
    "    \n",
    "    results['train_accuracy'] = accuracy_score(y_train, y_pred_train)\n",
    "    results['test_accuracy'] = accuracy_score(y_test, y_pred_test)\n",
    "    results['variance'] = results['train_accuracy'] - results['test_accuracy']\n",
    "    results['test_precision'] = precision_score(y_test, y_pred_test, pos_label=1, zero_division=0)\n",
    "    results['test_recall'] = recall_score(y_test, y_pred_test)\n",
    "    results['test_specificity'] = tn / (tn + fp)\n",
    "    results['test_f1'] = f1_score(y_test, y_pred_test, pos_label=1, zero_division=0)\n",
    "    \n",
    "    return results"
   ]
  },
  {
   "cell_type": "code",
   "execution_count": 52,
   "id": "3dbf836f",
   "metadata": {},
   "outputs": [],
   "source": [
    "# Define a function that accepts a dictionary of classifiers and applies the run_model function defined above\n",
    "# Then, the function compiles all the model results into a dataframe\n",
    "def model_results(models, X_train, y_train, X_test, y_test, verbose=False):\n",
    "    \n",
    "    results = {}\n",
    "    \n",
    "    for name, model in models.items():\n",
    "        if verbose:\n",
    "            print('\\nRunning {} - {}'.format(name, model))\n",
    "        \n",
    "        results[name] = run_models(model, X_train, y_train, X_test, y_test, verbose=False)\n",
    "\n",
    "    return pd.DataFrame.from_dict(results, orient='index')\n"
   ]
  },
  {
   "cell_type": "code",
   "execution_count": 53,
   "id": "6fa83611",
   "metadata": {},
   "outputs": [
    {
     "data": {
      "text/html": [
       "<div>\n",
       "<style scoped>\n",
       "    .dataframe tbody tr th:only-of-type {\n",
       "        vertical-align: middle;\n",
       "    }\n",
       "\n",
       "    .dataframe tbody tr th {\n",
       "        vertical-align: top;\n",
       "    }\n",
       "\n",
       "    .dataframe thead th {\n",
       "        text-align: right;\n",
       "    }\n",
       "</style>\n",
       "<table border=\"1\" class=\"dataframe\">\n",
       "  <thead>\n",
       "    <tr style=\"text-align: right;\">\n",
       "      <th></th>\n",
       "      <th>train_accuracy</th>\n",
       "      <th>test_accuracy</th>\n",
       "      <th>variance</th>\n",
       "      <th>test_precision</th>\n",
       "      <th>test_recall</th>\n",
       "      <th>test_specificity</th>\n",
       "      <th>test_f1</th>\n",
       "    </tr>\n",
       "  </thead>\n",
       "  <tbody>\n",
       "    <tr>\n",
       "      <th>logreg</th>\n",
       "      <td>0.848861</td>\n",
       "      <td>0.779348</td>\n",
       "      <td>0.069513</td>\n",
       "      <td>0.796720</td>\n",
       "      <td>0.738695</td>\n",
       "      <td>0.818497</td>\n",
       "      <td>0.766611</td>\n",
       "    </tr>\n",
       "    <tr>\n",
       "      <th>svc</th>\n",
       "      <td>0.959798</td>\n",
       "      <td>0.789164</td>\n",
       "      <td>0.170634</td>\n",
       "      <td>0.814848</td>\n",
       "      <td>0.737895</td>\n",
       "      <td>0.838536</td>\n",
       "      <td>0.774465</td>\n",
       "    </tr>\n",
       "    <tr>\n",
       "      <th>random_forests</th>\n",
       "      <td>0.989299</td>\n",
       "      <td>0.762073</td>\n",
       "      <td>0.227226</td>\n",
       "      <td>0.762332</td>\n",
       "      <td>0.748299</td>\n",
       "      <td>0.775337</td>\n",
       "      <td>0.755250</td>\n",
       "    </tr>\n",
       "    <tr>\n",
       "      <th>multinomialNB</th>\n",
       "      <td>0.844738</td>\n",
       "      <td>0.773852</td>\n",
       "      <td>0.070886</td>\n",
       "      <td>0.788190</td>\n",
       "      <td>0.737095</td>\n",
       "      <td>0.809249</td>\n",
       "      <td>0.761787</td>\n",
       "    </tr>\n",
       "    <tr>\n",
       "      <th>knearestneighbors</th>\n",
       "      <td>0.733752</td>\n",
       "      <td>0.579898</td>\n",
       "      <td>0.153854</td>\n",
       "      <td>0.552501</td>\n",
       "      <td>0.755902</td>\n",
       "      <td>0.410405</td>\n",
       "      <td>0.638391</td>\n",
       "    </tr>\n",
       "    <tr>\n",
       "      <th>adaboost</th>\n",
       "      <td>0.989299</td>\n",
       "      <td>0.700824</td>\n",
       "      <td>0.288475</td>\n",
       "      <td>0.696970</td>\n",
       "      <td>0.690276</td>\n",
       "      <td>0.710983</td>\n",
       "      <td>0.693607</td>\n",
       "    </tr>\n",
       "    <tr>\n",
       "      <th>xgboost</th>\n",
       "      <td>0.823925</td>\n",
       "      <td>0.747939</td>\n",
       "      <td>0.075986</td>\n",
       "      <td>0.779567</td>\n",
       "      <td>0.677871</td>\n",
       "      <td>0.815414</td>\n",
       "      <td>0.725171</td>\n",
       "    </tr>\n",
       "  </tbody>\n",
       "</table>\n",
       "</div>"
      ],
      "text/plain": [
       "                   train_accuracy  test_accuracy  variance  test_precision  \\\n",
       "logreg                   0.848861       0.779348  0.069513        0.796720   \n",
       "svc                      0.959798       0.789164  0.170634        0.814848   \n",
       "random_forests           0.989299       0.762073  0.227226        0.762332   \n",
       "multinomialNB            0.844738       0.773852  0.070886        0.788190   \n",
       "knearestneighbors        0.733752       0.579898  0.153854        0.552501   \n",
       "adaboost                 0.989299       0.700824  0.288475        0.696970   \n",
       "xgboost                  0.823925       0.747939  0.075986        0.779567   \n",
       "\n",
       "                   test_recall  test_specificity   test_f1  \n",
       "logreg                0.738695          0.818497  0.766611  \n",
       "svc                   0.737895          0.838536  0.774465  \n",
       "random_forests        0.748299          0.775337  0.755250  \n",
       "multinomialNB         0.737095          0.809249  0.761787  \n",
       "knearestneighbors     0.755902          0.410405  0.638391  \n",
       "adaboost              0.690276          0.710983  0.693607  \n",
       "xgboost               0.677871          0.815414  0.725171  "
      ]
     },
     "execution_count": 53,
     "metadata": {},
     "output_type": "execute_result"
    }
   ],
   "source": [
    "# baseline model results for hash-labeled data\n",
    "model_results(classifiers,\n",
    "              X_train_tvec,\n",
    "              y_train,\n",
    "              X_val_tvec,\n",
    "              y_val\n",
    "             )"
   ]
  },
  {
   "cell_type": "markdown",
   "id": "0eca7561",
   "metadata": {},
   "source": [
    "Overall, the models generally have high variance. SVC is the best performer in terms of the test accuracy and logreg is somewhat comparable with lower variance. The two models have comparable recall and specificity scores. Taking training time into account, I will choose to tune logistic regression model with regularization. \n",
    "\n",
    "\n",
    "The error metric to optimize for would depend on the application of the labels, but as a general application, I will be looking at the accuracy and f1 score. "
   ]
  },
  {
   "cell_type": "markdown",
   "id": "6a61b393",
   "metadata": {},
   "source": [
    "### RadomizedGridSearch Pipeline"
   ]
  },
  {
   "cell_type": "code",
   "execution_count": 307,
   "id": "be01b034",
   "metadata": {},
   "outputs": [],
   "source": [
    "# logistic regression\n",
    "logr_pipe = Pipeline([\n",
    "    ('logr_tvec', TfidfVectorizer(lowercase=True, \n",
    "                                  preprocessor=None,\n",
    "                                  tokenizer=LemmaTokenizer(),\n",
    "                                  stop_words=stopwords,\n",
    "                                  analyzer='word')), \n",
    "    ('logr', LogisticRegression(penalty='elasticnet',\n",
    "                                solver='saga'\n",
    "                               ))\n",
    "])"
   ]
  },
  {
   "cell_type": "code",
   "execution_count": 318,
   "id": "9114e03a",
   "metadata": {},
   "outputs": [],
   "source": [
    "logr_pipe_params = {\n",
    "    'logr_tvec__max_features' : [None, 2000, 4000],\n",
    "    'logr_tvec__ngram_range' : [(1,1),(1,2)],\n",
    "    'logr__C': [0.001, 0.01, 0.1, 0.5],\n",
    "    'logr__l1_ratio': [0.01, 0.1, 0.5, 0.9]\n",
    "}"
   ]
  },
  {
   "cell_type": "code",
   "execution_count": 319,
   "id": "e44472a9",
   "metadata": {},
   "outputs": [],
   "source": [
    "logr_rs = RandomizedSearchCV(logr_pipe,\n",
    "                             param_distributions = logr_pipe_params, \n",
    "                             n_iter=10,\n",
    "                             cv = 3,\n",
    "                             random_state=42)"
   ]
  },
  {
   "cell_type": "code",
   "execution_count": 324,
   "id": "5113d903",
   "metadata": {
    "collapsed": true
   },
   "outputs": [
    {
     "data": {
      "text/plain": [
       "RandomizedSearchCV(cv=3,\n",
       "                   estimator=Pipeline(steps=[('logr_tvec',\n",
       "                                              TfidfVectorizer(stop_words=['i',\n",
       "                                                                          'me',\n",
       "                                                                          'my',\n",
       "                                                                          'myself',\n",
       "                                                                          'we',\n",
       "                                                                          'our',\n",
       "                                                                          'ours',\n",
       "                                                                          'ourselves',\n",
       "                                                                          'you',\n",
       "                                                                          \"you're\",\n",
       "                                                                          \"you've\",\n",
       "                                                                          \"you'll\",\n",
       "                                                                          \"you'd\",\n",
       "                                                                          'your',\n",
       "                                                                          'yours',\n",
       "                                                                          'yourself',\n",
       "                                                                          'yourselves',\n",
       "                                                                          'he',\n",
       "                                                                          'him',\n",
       "                                                                          'his',\n",
       "                                                                          'himself',\n",
       "                                                                          'she',\n",
       "                                                                          \"she's\",\n",
       "                                                                          'her',\n",
       "                                                                          'hers',\n",
       "                                                                          'herself',\n",
       "                                                                          'it',\n",
       "                                                                          \"it's\",\n",
       "                                                                          'its',\n",
       "                                                                          'itself', ...],\n",
       "                                                              tokenizer=<__main__.LemmaTokenizer object at 0x7fb3f3121fa0>)),\n",
       "                                             ('logr',\n",
       "                                              LogisticRegression(penalty='elasticnet',\n",
       "                                                                 solver='saga'))]),\n",
       "                   param_distributions={'logr__C': [0.001, 0.01, 0.1, 0.5],\n",
       "                                        'logr__l1_ratio': [0.01, 0.1, 0.5, 0.9],\n",
       "                                        'logr_tvec__max_features': [None, 2000,\n",
       "                                                                    4000],\n",
       "                                        'logr_tvec__ngram_range': [(1, 1),\n",
       "                                                                   (1, 2)]},\n",
       "                   random_state=42)"
      ]
     },
     "execution_count": 324,
     "metadata": {},
     "output_type": "execute_result"
    }
   ],
   "source": [
    "logr_rs.fit(X_train, y_train)"
   ]
  },
  {
   "cell_type": "code",
   "execution_count": 325,
   "id": "fbde203a",
   "metadata": {},
   "outputs": [
    {
     "data": {
      "text/plain": [
       "{'logr_tvec__ngram_range': (1, 2),\n",
       " 'logr_tvec__max_features': None,\n",
       " 'logr__l1_ratio': 0.01,\n",
       " 'logr__C': 0.5}"
      ]
     },
     "execution_count": 325,
     "metadata": {},
     "output_type": "execute_result"
    }
   ],
   "source": [
    "logr_rs.best_params_"
   ]
  },
  {
   "cell_type": "code",
   "execution_count": 327,
   "id": "36d8b039",
   "metadata": {
    "scrolled": true
   },
   "outputs": [
    {
     "data": {
      "text/plain": [
       "0.7718437300458381"
      ]
     },
     "execution_count": 327,
     "metadata": {},
     "output_type": "execute_result"
    }
   ],
   "source": [
    "logr_rs.best_score_"
   ]
  },
  {
   "cell_type": "code",
   "execution_count": 331,
   "id": "166cc216",
   "metadata": {},
   "outputs": [
    {
     "data": {
      "text/plain": [
       "0.7771888496270122"
      ]
     },
     "execution_count": 331,
     "metadata": {},
     "output_type": "execute_result"
    }
   ],
   "source": [
    "logr_rs.score(X_val, y_val)"
   ]
  },
  {
   "cell_type": "markdown",
   "id": "f0d4f593",
   "metadata": {},
   "source": [
    "The score isn't particularly better than the baseline model, but incorporating the regularization seems to have reduced the variance of the model. "
   ]
  },
  {
   "cell_type": "markdown",
   "id": "94e25549",
   "metadata": {},
   "source": [
    "### Test Model"
   ]
  },
  {
   "cell_type": "code",
   "execution_count": 332,
   "id": "7a792915",
   "metadata": {},
   "outputs": [],
   "source": [
    "# load test set\n",
    "test_h = pd.read_csv(\"../data/hashlabeled_tweets_test.csv\")"
   ]
  },
  {
   "cell_type": "code",
   "execution_count": 333,
   "id": "dd05186a",
   "metadata": {},
   "outputs": [],
   "source": [
    "X_test_h = test_h['p_text']\n",
    "y_test_h = test_h['get_vaccine']"
   ]
  },
  {
   "cell_type": "code",
   "execution_count": 334,
   "id": "398f2c71",
   "metadata": {},
   "outputs": [],
   "source": [
    "# pipeline\n",
    "logr_pipe_f = Pipeline([\n",
    "    ('logr_tvec', TfidfVectorizer(lowercase=True, \n",
    "                                  preprocessor=None,\n",
    "                                  tokenizer=LemmaTokenizer(),\n",
    "                                  stop_words=stopwords,\n",
    "                                  analyzer='word',\n",
    "                                  ngram_range=(1, 2),\n",
    "                                 )), \n",
    "    ('logr', LogisticRegression(penalty='elasticnet',\n",
    "                                solver='saga',\n",
    "                                l1_ratio=0.01,\n",
    "                                C=0.5\n",
    "                               ))\n",
    "])"
   ]
  },
  {
   "cell_type": "code",
   "execution_count": 338,
   "id": "4d961813",
   "metadata": {},
   "outputs": [
    {
     "data": {
      "text/plain": [
       "0.7708136977693999"
      ]
     },
     "execution_count": 338,
     "metadata": {},
     "output_type": "execute_result"
    }
   ],
   "source": [
    "logr_rs.score(X_test_h, y_test_h)"
   ]
  },
  {
   "cell_type": "code",
   "execution_count": 337,
   "id": "3eb921b8",
   "metadata": {},
   "outputs": [],
   "source": [
    "preds_h = logr_rs.predict(X_test_h)"
   ]
  },
  {
   "cell_type": "code",
   "execution_count": 342,
   "id": "84a6acfa",
   "metadata": {},
   "outputs": [],
   "source": [
    "def test_result(y_true, y_pred):\n",
    "    results = {}\n",
    "    \n",
    "    tn, fp, fn, tp = confusion_matrix(y_true, y_pred).ravel()\n",
    "    \n",
    "    results['accuracy'] = accuracy_score(y_true, y_pred)\n",
    "    results['precision'] = precision_score(y_true, y_pred, pos_label=1, zero_division=0)\n",
    "    results['recall'] = recall_score(y_true, y_pred)\n",
    "    results['specificity'] = tn / (tn + fp)\n",
    "    results['f1'] = f1_score(y_true, y_pred, pos_label=1, zero_division=0)\n",
    "    \n",
    "    return results"
   ]
  },
  {
   "cell_type": "code",
   "execution_count": 343,
   "id": "c31cfc6a",
   "metadata": {},
   "outputs": [
    {
     "data": {
      "text/plain": [
       "{'accuracy': 0.7708136977693999,\n",
       " 'precision': 0.7922077922077922,\n",
       " 'recall': 0.7224711907810499,\n",
       " 'specificity': 0.8173966687230105,\n",
       " 'f1': 0.7557341369496066}"
      ]
     },
     "execution_count": 343,
     "metadata": {},
     "output_type": "execute_result"
    }
   ],
   "source": [
    "test_result(y_test_h, preds_h)"
   ]
  },
  {
   "cell_type": "markdown",
   "id": "8fa7a64d",
   "metadata": {},
   "source": [
    "final accuracy score of hash labeled dataset prediction model is 0.77."
   ]
  },
  {
   "cell_type": "markdown",
   "id": "348bdb7e",
   "metadata": {},
   "source": [
    "___"
   ]
  },
  {
   "cell_type": "markdown",
   "id": "b7ee032a",
   "metadata": {},
   "source": [
    "## Snorkel-Labeled Data Modeling"
   ]
  },
  {
   "cell_type": "code",
   "execution_count": 350,
   "id": "1e219a4a",
   "metadata": {},
   "outputs": [],
   "source": [
    "# processing function\n",
    "def text_process(df, text):\n",
    "    # Removing hashtags, URLs, mentions, reserved words, emojis, smileys\n",
    "    df['p_text'] = df[text].apply(lambda x: p.clean(x))\n",
    "    \n",
    "    # Remove digits\n",
    "    df['p_text'] = df['p_text'].str.replace('\\d+', '', regex=True)\n",
    "    \n",
    "    # remove punctuations\n",
    "    df['p_text'] = df['p_text'].str.replace('&amp', '')\n",
    "    df['p_text'] = df['p_text'].apply(lambda x: re.sub(r'[^\\w\\s]', ' ', x))\n",
    "    \n",
    "    # lower case\n",
    "    df['p_text'] = df['p_text'].str.lower()\n",
    "    \n",
    "    # remove stopwords first\n",
    "    stop_words = stopwords\n",
    "    df['p_text'] = df['p_text'].apply(lambda x: \" \".join([item for item in x.split(' ') if item not in stop_words]))\n",
    "    \n",
    "    # tokenize and lemmatize\n",
    "    lem = WordNetLemmatizer()\n",
    "    tok = TweetTokenizer()\n",
    "    \n",
    "    for i, txt in enumerate(df['p_text']):\n",
    "        lem_words = [lem.lemmatize(word) for word in tok.tokenize(txt)]\n",
    "        df.at[i, 'p_text'] = ' '.join(lem_words)"
   ]
  },
  {
   "cell_type": "code",
   "execution_count": 84,
   "id": "ccb2a5f7",
   "metadata": {},
   "outputs": [],
   "source": [
    "# process the text data, as it wasn't done so previously\n",
    "text_process(tweets_s, 'text')"
   ]
  },
  {
   "cell_type": "markdown",
   "id": "8aec8c52",
   "metadata": {},
   "source": [
    "**Train/Test Split**"
   ]
  },
  {
   "cell_type": "code",
   "execution_count": 191,
   "id": "ae0c27f7",
   "metadata": {},
   "outputs": [],
   "source": [
    "X = tweets_s[['p_text']]\n",
    "y = tweets_s['label']"
   ]
  },
  {
   "cell_type": "code",
   "execution_count": 192,
   "id": "b773ff05",
   "metadata": {},
   "outputs": [],
   "source": [
    "X_train, X_val, y_train, y_val = train_test_split(X, y, test_size=0.2, random_state=42, stratify=y)"
   ]
  },
  {
   "cell_type": "code",
   "execution_count": 193,
   "id": "e8814c68",
   "metadata": {},
   "outputs": [],
   "source": [
    "X_val = X_val['p_text']"
   ]
  },
  {
   "cell_type": "code",
   "execution_count": 196,
   "id": "7fc23572",
   "metadata": {
    "scrolled": true
   },
   "outputs": [
    {
     "data": {
      "text/plain": [
       "1    41802\n",
       "0     6610\n",
       "Name: label, dtype: int64"
      ]
     },
     "execution_count": 196,
     "metadata": {},
     "output_type": "execute_result"
    }
   ],
   "source": [
    "y_train.value_counts()"
   ]
  },
  {
   "cell_type": "markdown",
   "id": "b143c1c5",
   "metadata": {},
   "source": [
    "**Balancing Dataset**"
   ]
  },
  {
   "cell_type": "markdown",
   "id": "2344e7f5",
   "metadata": {},
   "source": [
    "I will have to deal with the imbalance of data. In this model, I will chose to do ensemble of undersampled datasets. This means that I will divide the training data with majority label into subsets that balance with the minority label. The final prediction of the test set will be the label that majority of the subset trained models predicted. "
   ]
  },
  {
   "cell_type": "code",
   "execution_count": 197,
   "id": "cc974fd9",
   "metadata": {},
   "outputs": [
    {
     "data": {
      "text/plain": [
       "7.324054462934947"
      ]
     },
     "execution_count": 197,
     "metadata": {},
     "output_type": "execute_result"
    }
   ],
   "source": [
    "# check how many training subsets need to be created\n",
    "48412/6610"
   ]
  },
  {
   "cell_type": "code",
   "execution_count": 198,
   "id": "ccd042b7",
   "metadata": {},
   "outputs": [
    {
     "data": {
      "text/plain": [
       "6916.0"
      ]
     },
     "execution_count": 198,
     "metadata": {},
     "output_type": "execute_result"
    }
   ],
   "source": [
    "# Divide the training data with class 1 into the number of subsets calculated above\n",
    "48412/7"
   ]
  },
  {
   "cell_type": "markdown",
   "id": "213848d5",
   "metadata": {},
   "source": [
    "Each subset will contain 6916 rows with label 1 and 6610 rows with label 0. For each subset training, same set of rows with label 0 will be used. "
   ]
  },
  {
   "cell_type": "code",
   "execution_count": null,
   "id": "fe3f817b",
   "metadata": {},
   "outputs": [],
   "source": [
    "# Range of indexs for each subset; since the dataset is already shuffled during train-test split, \n",
    "# it is not necessary to take random samples.\n",
    "\n",
    "# 0-6916, 6916-13832, 13832-20748, 20748-27664, 27664-34580, 34580-41496, 41496-48412"
   ]
  },
  {
   "cell_type": "code",
   "execution_count": 194,
   "id": "68649f48",
   "metadata": {},
   "outputs": [],
   "source": [
    "# create dataframe to split on just with train data\n",
    "df = X_train.copy()\n",
    "df['label'] = y_train"
   ]
  },
  {
   "cell_type": "code",
   "execution_count": 195,
   "id": "86e24e20",
   "metadata": {
    "scrolled": true
   },
   "outputs": [
    {
     "data": {
      "text/plain": [
       "(48412, 2)"
      ]
     },
     "execution_count": 195,
     "metadata": {},
     "output_type": "execute_result"
    }
   ],
   "source": [
    "df.shape"
   ]
  },
  {
   "cell_type": "code",
   "execution_count": 207,
   "id": "22cfb2a8",
   "metadata": {
    "scrolled": true
   },
   "outputs": [
    {
     "data": {
      "text/html": [
       "<div>\n",
       "<style scoped>\n",
       "    .dataframe tbody tr th:only-of-type {\n",
       "        vertical-align: middle;\n",
       "    }\n",
       "\n",
       "    .dataframe tbody tr th {\n",
       "        vertical-align: top;\n",
       "    }\n",
       "\n",
       "    .dataframe thead th {\n",
       "        text-align: right;\n",
       "    }\n",
       "</style>\n",
       "<table border=\"1\" class=\"dataframe\">\n",
       "  <thead>\n",
       "    <tr style=\"text-align: right;\">\n",
       "      <th></th>\n",
       "      <th>p_text</th>\n",
       "      <th>label</th>\n",
       "    </tr>\n",
       "  </thead>\n",
       "  <tbody>\n",
       "    <tr>\n",
       "      <th>8755</th>\n",
       "      <td>de blasio insists nyc vaccine equity issue even time new york post mayor bill de blasio monday insisted massive gap covid vaccination betwee add highlight</td>\n",
       "      <td>1</td>\n",
       "    </tr>\n",
       "    <tr>\n",
       "      <th>543</th>\n",
       "      <td>youve mingles dont need worry abt whats covid vaccine</td>\n",
       "      <td>1</td>\n",
       "    </tr>\n",
       "    <tr>\n",
       "      <th>25489</th>\n",
       "      <td>sinovac vaccine help thailand control covid pandemic thailand news asean</td>\n",
       "      <td>1</td>\n",
       "    </tr>\n",
       "    <tr>\n",
       "      <th>20125</th>\n",
       "      <td>vaccine dos give protection death covid delta variant centre</td>\n",
       "      <td>1</td>\n",
       "    </tr>\n",
       "    <tr>\n",
       "      <th>47337</th>\n",
       "      <td>prosecutor said motivated conspiracy theory surrounding covid vaccine</td>\n",
       "      <td>1</td>\n",
       "    </tr>\n",
       "  </tbody>\n",
       "</table>\n",
       "</div>"
      ],
      "text/plain": [
       "                                                                                                                                                           p_text  \\\n",
       "8755   de blasio insists nyc vaccine equity issue even time new york post mayor bill de blasio monday insisted massive gap covid vaccination betwee add highlight   \n",
       "543                                                                                                         youve mingles dont need worry abt whats covid vaccine   \n",
       "25489                                                                                    sinovac vaccine help thailand control covid pandemic thailand news asean   \n",
       "20125                                                                                                vaccine dos give protection death covid delta variant centre   \n",
       "47337                                                                                       prosecutor said motivated conspiracy theory surrounding covid vaccine   \n",
       "\n",
       "       label  \n",
       "8755       1  \n",
       "543        1  \n",
       "25489      1  \n",
       "20125      1  \n",
       "47337      1  "
      ]
     },
     "execution_count": 207,
     "metadata": {},
     "output_type": "execute_result"
    }
   ],
   "source": [
    "df.head()"
   ]
  },
  {
   "cell_type": "code",
   "execution_count": 208,
   "id": "3811e496",
   "metadata": {},
   "outputs": [],
   "source": [
    "# divide the train df by its class\n",
    "df_class0 = df[df.label==0] # minority class\n",
    "df_class1 = df[df.label==1] # majority class"
   ]
  },
  {
   "cell_type": "code",
   "execution_count": 209,
   "id": "9c4a5132",
   "metadata": {},
   "outputs": [],
   "source": [
    "# This is a function that will put together subset of majorty class of specified range with a minority class\n",
    "# Then, it splits the data into X and y train again\n",
    "def get_train_batch(df_majority, df_minority, start, end):\n",
    "    df_train = pd.concat([df_majority[start:end], df_minority], axis=0)\n",
    "\n",
    "    X_train = df_train['p_text']\n",
    "    y_train = df_train['label']\n",
    "    return X_train, y_train    "
   ]
  },
  {
   "cell_type": "code",
   "execution_count": 359,
   "id": "1f96361f",
   "metadata": {},
   "outputs": [],
   "source": [
    "# Create subsets\n",
    "X_train1, y_train1 = get_train_batch(df_class1, df_class0, 0, 6916)\n",
    "X_train2, y_train2 = get_train_batch(df_class1, df_class0, 6916, 18342)\n",
    "X_train3, y_train3 = get_train_batch(df_class1, df_class0, 13832, 20748)\n",
    "X_train4, y_train4 = get_train_batch(df_class1, df_class0, 20748, 27664)\n",
    "X_train5, y_train5 = get_train_batch(df_class1, df_class0, 27664, 34580)\n",
    "X_train6, y_train6 = get_train_batch(df_class1, df_class0, 34580, 41496)\n",
    "X_train7, y_train7 = get_train_batch(df_class1, df_class0, 41496, 48412)"
   ]
  },
  {
   "cell_type": "markdown",
   "id": "f8107d72",
   "metadata": {},
   "source": [
    "**TF-IDF Vectorizer**"
   ]
  },
  {
   "cell_type": "code",
   "execution_count": 226,
   "id": "6c361311",
   "metadata": {},
   "outputs": [],
   "source": [
    "# instanitate tvec for the first set of data\n",
    "tvec1 = TfidfVectorizer(lowercase=True, \n",
    "                        preprocessor=None, \n",
    "                        tokenizer=LemmaTokenizer(), \n",
    "                        stop_words=stopwords, \n",
    "                        analyzer='word')\n",
    "\n",
    "X_train1 = tvec1.fit_transform(X_train1)\n",
    "X_val1 = tvec1.transform(X_val)"
   ]
  },
  {
   "cell_type": "code",
   "execution_count": 227,
   "id": "fccfc3ae",
   "metadata": {
    "scrolled": true
   },
   "outputs": [
    {
     "data": {
      "text/html": [
       "<div>\n",
       "<style scoped>\n",
       "    .dataframe tbody tr th:only-of-type {\n",
       "        vertical-align: middle;\n",
       "    }\n",
       "\n",
       "    .dataframe tbody tr th {\n",
       "        vertical-align: top;\n",
       "    }\n",
       "\n",
       "    .dataframe thead th {\n",
       "        text-align: right;\n",
       "    }\n",
       "</style>\n",
       "<table border=\"1\" class=\"dataframe\">\n",
       "  <thead>\n",
       "    <tr style=\"text-align: right;\">\n",
       "      <th></th>\n",
       "      <th>train_accuracy</th>\n",
       "      <th>test_accuracy</th>\n",
       "      <th>variance</th>\n",
       "      <th>test_precision</th>\n",
       "      <th>test_recall</th>\n",
       "      <th>test_specificity</th>\n",
       "      <th>test_f1</th>\n",
       "    </tr>\n",
       "  </thead>\n",
       "  <tbody>\n",
       "    <tr>\n",
       "      <th>logreg</th>\n",
       "      <td>0.920154</td>\n",
       "      <td>0.869536</td>\n",
       "      <td>0.050617</td>\n",
       "      <td>0.975555</td>\n",
       "      <td>0.870718</td>\n",
       "      <td>0.862069</td>\n",
       "      <td>0.920160</td>\n",
       "    </tr>\n",
       "    <tr>\n",
       "      <th>svc</th>\n",
       "      <td>0.991276</td>\n",
       "      <td>0.876229</td>\n",
       "      <td>0.115047</td>\n",
       "      <td>0.976576</td>\n",
       "      <td>0.877703</td>\n",
       "      <td>0.866909</td>\n",
       "      <td>0.924504</td>\n",
       "    </tr>\n",
       "    <tr>\n",
       "      <th>random_forests</th>\n",
       "      <td>0.999926</td>\n",
       "      <td>0.832851</td>\n",
       "      <td>0.167075</td>\n",
       "      <td>0.979843</td>\n",
       "      <td>0.823349</td>\n",
       "      <td>0.892922</td>\n",
       "      <td>0.894805</td>\n",
       "    </tr>\n",
       "    <tr>\n",
       "      <th>multinomialNB</th>\n",
       "      <td>0.868180</td>\n",
       "      <td>0.706602</td>\n",
       "      <td>0.161578</td>\n",
       "      <td>0.976384</td>\n",
       "      <td>0.676555</td>\n",
       "      <td>0.896552</td>\n",
       "      <td>0.799276</td>\n",
       "    </tr>\n",
       "    <tr>\n",
       "      <th>knearestneighbors</th>\n",
       "      <td>0.718542</td>\n",
       "      <td>0.834256</td>\n",
       "      <td>-0.115714</td>\n",
       "      <td>0.896879</td>\n",
       "      <td>0.913014</td>\n",
       "      <td>0.336358</td>\n",
       "      <td>0.904875</td>\n",
       "    </tr>\n",
       "    <tr>\n",
       "      <th>adaboost</th>\n",
       "      <td>0.999926</td>\n",
       "      <td>0.859869</td>\n",
       "      <td>0.140057</td>\n",
       "      <td>0.963469</td>\n",
       "      <td>0.870718</td>\n",
       "      <td>0.791289</td>\n",
       "      <td>0.914748</td>\n",
       "    </tr>\n",
       "    <tr>\n",
       "      <th>xgboost</th>\n",
       "      <td>0.925699</td>\n",
       "      <td>0.901429</td>\n",
       "      <td>0.024269</td>\n",
       "      <td>0.974377</td>\n",
       "      <td>0.909761</td>\n",
       "      <td>0.848760</td>\n",
       "      <td>0.940961</td>\n",
       "    </tr>\n",
       "  </tbody>\n",
       "</table>\n",
       "</div>"
      ],
      "text/plain": [
       "                   train_accuracy  test_accuracy  variance  test_precision  \\\n",
       "logreg                   0.920154       0.869536  0.050617        0.975555   \n",
       "svc                      0.991276       0.876229  0.115047        0.976576   \n",
       "random_forests           0.999926       0.832851  0.167075        0.979843   \n",
       "multinomialNB            0.868180       0.706602  0.161578        0.976384   \n",
       "knearestneighbors        0.718542       0.834256 -0.115714        0.896879   \n",
       "adaboost                 0.999926       0.859869  0.140057        0.963469   \n",
       "xgboost                  0.925699       0.901429  0.024269        0.974377   \n",
       "\n",
       "                   test_recall  test_specificity   test_f1  \n",
       "logreg                0.870718          0.862069  0.920160  \n",
       "svc                   0.877703          0.866909  0.924504  \n",
       "random_forests        0.823349          0.892922  0.894805  \n",
       "multinomialNB         0.676555          0.896552  0.799276  \n",
       "knearestneighbors     0.913014          0.336358  0.904875  \n",
       "adaboost              0.870718          0.791289  0.914748  \n",
       "xgboost               0.909761          0.848760  0.940961  "
      ]
     },
     "execution_count": 227,
     "metadata": {},
     "output_type": "execute_result"
    }
   ],
   "source": [
    "# Quick run through of all of the models\n",
    "model_results(classifiers,\n",
    "              X_train1,\n",
    "              y_train1,\n",
    "              X_val1,\n",
    "              y_val\n",
    "             )"
   ]
  },
  {
   "cell_type": "markdown",
   "id": "3d6f1f76",
   "metadata": {},
   "source": [
    "With the baseline run of the first subset, we can see that xgboost is the strongest performer with a low variance. Therefore, the rest of the subsets will be trained with XGBoost Classifier. "
   ]
  },
  {
   "cell_type": "code",
   "execution_count": 100,
   "id": "fe160f7f",
   "metadata": {},
   "outputs": [],
   "source": [
    "# specifically with XGBoost for other subsets\n",
    "def run_xgb(X_train, y_train, X_test, y_test):\n",
    "    xgb = XGBClassifier()\n",
    "    xgb.fit(X_train, y_train)\n",
    "    \n",
    "    y_pred_train = xgb.predict(X_train)\n",
    "    y_pred_test = xgb.predict(X_test)\n",
    "    \n",
    "    tn, fp, fn, tp = confusion_matrix(y_test, y_pred_test).ravel()\n",
    "    \n",
    "    results = {} \n",
    "    \n",
    "    results['train_accuracy'] = accuracy_score(y_train, y_pred_train)\n",
    "    results['test_accuracy'] = accuracy_score(y_test, y_pred_test)\n",
    "    results['variance'] = results['train_accuracy'] - results['test_accuracy']\n",
    "    results['test_precision'] = precision_score(y_test, y_pred_test, pos_label=1, zero_division=0)\n",
    "    results['test_recall'] = recall_score(y_test, y_pred_test)\n",
    "    results['test_specificity'] = tn / (tn + fp)\n",
    "    results['test_f1'] = f1_score(y_test, y_pred_test, pos_label=1, zero_division=0)\n",
    "    \n",
    "    model_dict = {'results': results, \"preds_train\": y_pred_train, \"preds_test\": y_pred_test}\n",
    "    \n",
    "    return model_dict # The function will return a dictionary that stores the metric result and the predictions"
   ]
  },
  {
   "cell_type": "code",
   "execution_count": 229,
   "id": "68106ba8",
   "metadata": {},
   "outputs": [],
   "source": [
    "# re-analyze subset 1\n",
    "subset1 = run_xgb(X_train1,\n",
    "                  y_train1,\n",
    "                  X_val1,\n",
    "                  y_val)"
   ]
  },
  {
   "cell_type": "code",
   "execution_count": 230,
   "id": "6231290a",
   "metadata": {},
   "outputs": [],
   "source": [
    "# Instantiate tfidf and run the function for all of the subsets. \n",
    "tvec2 = TfidfVectorizer(lowercase=True, \n",
    "                        preprocessor=None, \n",
    "                        tokenizer=LemmaTokenizer(), \n",
    "                        stop_words=stopwords, \n",
    "                        analyzer='word')\n",
    "\n",
    "X_train2 = tvec2.fit_transform(X_train2)\n",
    "X_val2 = tvec2.transform(X_val)\n",
    "\n",
    "subset2 = run_xgb(X_train2,\n",
    "                  y_train2,\n",
    "                  X_val2,\n",
    "                  y_val)"
   ]
  },
  {
   "cell_type": "code",
   "execution_count": 231,
   "id": "99e3e7c5",
   "metadata": {},
   "outputs": [],
   "source": [
    "tvec3 = TfidfVectorizer(lowercase=True, \n",
    "                        preprocessor=None, \n",
    "                        tokenizer=LemmaTokenizer(), \n",
    "                        stop_words=stopwords, \n",
    "                        analyzer='word')\n",
    "\n",
    "X_train3 = tvec3.fit_transform(X_train3)\n",
    "X_val3 = tvec3.transform(X_val)\n",
    "\n",
    "subset3 = run_xgb(X_train3,\n",
    "                  y_train3,\n",
    "                  X_val3,\n",
    "                  y_val)"
   ]
  },
  {
   "cell_type": "code",
   "execution_count": 232,
   "id": "e41acf7f",
   "metadata": {},
   "outputs": [],
   "source": [
    "tvec4 = TfidfVectorizer(lowercase=True, \n",
    "                        preprocessor=None, \n",
    "                        tokenizer=LemmaTokenizer(), \n",
    "                        stop_words=stopwords, \n",
    "                        analyzer='word')\n",
    "\n",
    "X_train4 = tvec4.fit_transform(X_train4)\n",
    "X_val4 = tvec4.transform(X_val)\n",
    "\n",
    "subset4 = run_xgb(X_train4,\n",
    "                  y_train4,\n",
    "                  X_val4,\n",
    "                  y_val)"
   ]
  },
  {
   "cell_type": "code",
   "execution_count": 233,
   "id": "09920664",
   "metadata": {},
   "outputs": [],
   "source": [
    "tvec5 = TfidfVectorizer(lowercase=True, \n",
    "                        preprocessor=None, \n",
    "                        tokenizer=LemmaTokenizer(), \n",
    "                        stop_words=stopwords, \n",
    "                        analyzer='word')\n",
    "\n",
    "X_train5 = tvec5.fit_transform(X_train5)\n",
    "X_val5 = tvec5.transform(X_val)\n",
    "\n",
    "subset5 = run_xgb(X_train5,\n",
    "                  y_train5,\n",
    "                  X_val5,\n",
    "                  y_val)"
   ]
  },
  {
   "cell_type": "code",
   "execution_count": 236,
   "id": "26636aab",
   "metadata": {},
   "outputs": [],
   "source": [
    "tvec6 = TfidfVectorizer(lowercase=True, \n",
    "                        preprocessor=None, \n",
    "                        tokenizer=LemmaTokenizer(), \n",
    "                        stop_words=stopwords, \n",
    "                        analyzer='word')\n",
    "\n",
    "X_train6 = tvec6.fit_transform(X_train6)\n",
    "X_val6 = tvec6.transform(X_val)\n",
    "\n",
    "subset6 = run_xgb(X_train6,\n",
    "                  y_train6,\n",
    "                  X_val6,\n",
    "                  y_val)"
   ]
  },
  {
   "cell_type": "code",
   "execution_count": 237,
   "id": "b1fa5fd3",
   "metadata": {},
   "outputs": [],
   "source": [
    "tvec7 = TfidfVectorizer(lowercase=True, \n",
    "                        preprocessor=None, \n",
    "                        tokenizer=LemmaTokenizer(), \n",
    "                        stop_words=stopwords, \n",
    "                        analyzer='word')\n",
    "\n",
    "X_train7 = tvec7.fit_transform(X_train7)\n",
    "X_val7 = tvec7.transform(X_val)\n",
    "\n",
    "subset7 = run_xgb(X_train7,\n",
    "                  y_train7,\n",
    "                  X_val7,\n",
    "                  y_val)"
   ]
  },
  {
   "cell_type": "code",
   "execution_count": 238,
   "id": "8ac1c48a",
   "metadata": {},
   "outputs": [],
   "source": [
    "# metric compiled into dataframe\n",
    "subsets = [subset1['results'], \n",
    "           subset2['results'],\n",
    "           subset3['results'],\n",
    "           subset4['results'],\n",
    "           subset5['results'],\n",
    "           subset6['results'],\n",
    "           subset7['results']]"
   ]
  },
  {
   "cell_type": "code",
   "execution_count": 239,
   "id": "2efd357d",
   "metadata": {},
   "outputs": [],
   "source": [
    "xgb_results = pd.DataFrame.from_dict(subsets)"
   ]
  },
  {
   "cell_type": "code",
   "execution_count": 240,
   "id": "b10372fe",
   "metadata": {
    "scrolled": true
   },
   "outputs": [
    {
     "data": {
      "text/html": [
       "<div>\n",
       "<style scoped>\n",
       "    .dataframe tbody tr th:only-of-type {\n",
       "        vertical-align: middle;\n",
       "    }\n",
       "\n",
       "    .dataframe tbody tr th {\n",
       "        vertical-align: top;\n",
       "    }\n",
       "\n",
       "    .dataframe thead th {\n",
       "        text-align: right;\n",
       "    }\n",
       "</style>\n",
       "<table border=\"1\" class=\"dataframe\">\n",
       "  <thead>\n",
       "    <tr style=\"text-align: right;\">\n",
       "      <th></th>\n",
       "      <th>train_accuracy</th>\n",
       "      <th>test_accuracy</th>\n",
       "      <th>variance</th>\n",
       "      <th>test_precision</th>\n",
       "      <th>test_recall</th>\n",
       "      <th>test_specificity</th>\n",
       "      <th>test_f1</th>\n",
       "    </tr>\n",
       "  </thead>\n",
       "  <tbody>\n",
       "    <tr>\n",
       "      <th>0</th>\n",
       "      <td>0.925699</td>\n",
       "      <td>0.901429</td>\n",
       "      <td>0.024269</td>\n",
       "      <td>0.974377</td>\n",
       "      <td>0.909761</td>\n",
       "      <td>0.848760</td>\n",
       "      <td>0.940961</td>\n",
       "    </tr>\n",
       "    <tr>\n",
       "      <th>1</th>\n",
       "      <td>0.926425</td>\n",
       "      <td>0.924316</td>\n",
       "      <td>0.002109</td>\n",
       "      <td>0.966256</td>\n",
       "      <td>0.945359</td>\n",
       "      <td>0.791289</td>\n",
       "      <td>0.955693</td>\n",
       "    </tr>\n",
       "    <tr>\n",
       "      <th>2</th>\n",
       "      <td>0.922372</td>\n",
       "      <td>0.906965</td>\n",
       "      <td>0.015407</td>\n",
       "      <td>0.974552</td>\n",
       "      <td>0.916172</td>\n",
       "      <td>0.848760</td>\n",
       "      <td>0.944461</td>\n",
       "    </tr>\n",
       "    <tr>\n",
       "      <th>3</th>\n",
       "      <td>0.923776</td>\n",
       "      <td>0.905313</td>\n",
       "      <td>0.018464</td>\n",
       "      <td>0.974888</td>\n",
       "      <td>0.913876</td>\n",
       "      <td>0.851180</td>\n",
       "      <td>0.943396</td>\n",
       "    </tr>\n",
       "    <tr>\n",
       "      <th>4</th>\n",
       "      <td>0.923037</td>\n",
       "      <td>0.901595</td>\n",
       "      <td>0.021442</td>\n",
       "      <td>0.975454</td>\n",
       "      <td>0.908900</td>\n",
       "      <td>0.855414</td>\n",
       "      <td>0.941002</td>\n",
       "    </tr>\n",
       "    <tr>\n",
       "      <th>5</th>\n",
       "      <td>0.922815</td>\n",
       "      <td>0.899199</td>\n",
       "      <td>0.023617</td>\n",
       "      <td>0.973722</td>\n",
       "      <td>0.907751</td>\n",
       "      <td>0.845130</td>\n",
       "      <td>0.939580</td>\n",
       "    </tr>\n",
       "    <tr>\n",
       "      <th>6</th>\n",
       "      <td>0.972383</td>\n",
       "      <td>0.243328</td>\n",
       "      <td>0.729055</td>\n",
       "      <td>0.997689</td>\n",
       "      <td>0.123923</td>\n",
       "      <td>0.998185</td>\n",
       "      <td>0.220463</td>\n",
       "    </tr>\n",
       "  </tbody>\n",
       "</table>\n",
       "</div>"
      ],
      "text/plain": [
       "   train_accuracy  test_accuracy  variance  test_precision  test_recall  \\\n",
       "0        0.925699       0.901429  0.024269        0.974377     0.909761   \n",
       "1        0.926425       0.924316  0.002109        0.966256     0.945359   \n",
       "2        0.922372       0.906965  0.015407        0.974552     0.916172   \n",
       "3        0.923776       0.905313  0.018464        0.974888     0.913876   \n",
       "4        0.923037       0.901595  0.021442        0.975454     0.908900   \n",
       "5        0.922815       0.899199  0.023617        0.973722     0.907751   \n",
       "6        0.972383       0.243328  0.729055        0.997689     0.123923   \n",
       "\n",
       "   test_specificity   test_f1  \n",
       "0          0.848760  0.940961  \n",
       "1          0.791289  0.955693  \n",
       "2          0.848760  0.944461  \n",
       "3          0.851180  0.943396  \n",
       "4          0.855414  0.941002  \n",
       "5          0.845130  0.939580  \n",
       "6          0.998185  0.220463  "
      ]
     },
     "execution_count": 240,
     "metadata": {},
     "output_type": "execute_result"
    }
   ],
   "source": [
    "xgb_results"
   ]
  },
  {
   "cell_type": "markdown",
   "id": "04e13c7f",
   "metadata": {},
   "source": [
    "The last set is a very odd outlier; the accuracy is far lower than the other 6, which are pretty consistent. The low accuracy would indicate low reliability of the model and it will be excluded from participating in the majority vote for labeling. "
   ]
  },
  {
   "cell_type": "markdown",
   "id": "36070d6e",
   "metadata": {},
   "source": [
    "The problem now is that the vote can split evenly with even number of models. Labeling the evenly split votes with -1, I found that the number of evenly split predictions was about 100, which is not significant fraction of the dataset. In such case, I will randomly assign 1 or 0."
   ]
  },
  {
   "cell_type": "code",
   "execution_count": 286,
   "id": "bcb0b99d",
   "metadata": {},
   "outputs": [],
   "source": [
    "y_pred_final = subset1['preds_test'].copy()\n",
    "\n",
    "for i in range(len(subset1['preds_test'])):\n",
    "    n_ones = sum([subset1['preds_test'][i],\n",
    "                  subset2['preds_test'][i],\n",
    "                  subset3['preds_test'][i],\n",
    "                  subset4['preds_test'][i],\n",
    "                  subset5['preds_test'][i],\n",
    "                  subset6['preds_test'][i]])             \n",
    "    \n",
    "    if n_ones > 3:\n",
    "        y_pred_final[i] = 1\n",
    "    elif n_ones == 3:\n",
    "        y_pred_final[i] = np.random.choice(2, 1) # will choose randomly if ties\n",
    "    elif n_ones < 3:\n",
    "        y_pred_final[i] = 0"
   ]
  },
  {
   "cell_type": "code",
   "execution_count": 289,
   "id": "30d55773",
   "metadata": {},
   "outputs": [
    {
     "name": "stdout",
     "output_type": "stream",
     "text": [
      "              precision    recall  f1-score   support\n",
      "\n",
      "           0       0.63      0.85      0.72      1653\n",
      "           1       0.98      0.92      0.95     10450\n",
      "\n",
      "    accuracy                           0.91     12103\n",
      "   macro avg       0.80      0.89      0.83     12103\n",
      "weighted avg       0.93      0.91      0.92     12103\n",
      "\n"
     ]
    }
   ],
   "source": [
    "cl_rep = classification_report(y_val, y_pred_final)\n",
    "print(cl_rep)"
   ]
  },
  {
   "cell_type": "markdown",
   "id": "f0383530",
   "metadata": {},
   "source": [
    "### Test Model"
   ]
  },
  {
   "cell_type": "code",
   "execution_count": 348,
   "id": "eaaa0f2f",
   "metadata": {},
   "outputs": [],
   "source": [
    "test_s = pd.read_csv(\"../data/snorklabeled_tweets_test.csv\")"
   ]
  },
  {
   "cell_type": "code",
   "execution_count": 351,
   "id": "d46aeb07",
   "metadata": {},
   "outputs": [],
   "source": [
    "text_process(test_s, 'text')"
   ]
  },
  {
   "cell_type": "code",
   "execution_count": 354,
   "id": "99b2c06b",
   "metadata": {},
   "outputs": [],
   "source": [
    "X_test_s = test_s['p_text']\n",
    "y_test_s = test_s['label']"
   ]
  },
  {
   "cell_type": "code",
   "execution_count": 345,
   "id": "98e1194d",
   "metadata": {},
   "outputs": [],
   "source": [
    "xgb_pipe = Pipeline([\n",
    "    ('xgb_tvec', TfidfVectorizer(lowercase=True, \n",
    "                                  preprocessor=None,\n",
    "                                  tokenizer=LemmaTokenizer(),\n",
    "                                  stop_words=stopwords,\n",
    "                                  analyzer='word'\n",
    "                                 )), \n",
    "    ('xgb', XGBClassifier())\n",
    "])"
   ]
  },
  {
   "cell_type": "code",
   "execution_count": 356,
   "id": "8a39448e",
   "metadata": {},
   "outputs": [],
   "source": [
    "def xgb_preds(X_train, y_train, X_test):\n",
    "    xgb_pipe.fit(X_train, y_train)\n",
    "    preds = xgb_pipe.predict(X_test)\n",
    "    \n",
    "    return preds"
   ]
  },
  {
   "cell_type": "code",
   "execution_count": 360,
   "id": "c26def84",
   "metadata": {},
   "outputs": [],
   "source": [
    "pred1 = xgb_preds(X_train1, y_train1, X_test_s)\n",
    "pred2 = xgb_preds(X_train2, y_train2, X_test_s)\n",
    "pred3 = xgb_preds(X_train3, y_train3, X_test_s)\n",
    "pred4 = xgb_preds(X_train4, y_train4, X_test_s)\n",
    "pred5 = xgb_preds(X_train5, y_train5, X_test_s)\n",
    "pred6 = xgb_preds(X_train6, y_train6, X_test_s)"
   ]
  },
  {
   "cell_type": "code",
   "execution_count": 368,
   "id": "ef0d7103",
   "metadata": {},
   "outputs": [],
   "source": [
    "test_pred = pred1.copy()\n",
    "\n",
    "for i in range(len(pred1)):\n",
    "    n_ones = sum([pred1[i],\n",
    "                  pred2[i],\n",
    "                  pred3[i],\n",
    "                  pred4[i],\n",
    "                  pred5[i],\n",
    "                  pred6[i]])             \n",
    "    \n",
    "    if n_ones > 3:\n",
    "        test_pred[i] = 1\n",
    "    elif n_ones == 3:\n",
    "        test_pred[i] = np.random.choice(2, 1) # will choose randomly if ties\n",
    "    elif n_ones < 3:\n",
    "        test_pred[i] = 0"
   ]
  },
  {
   "cell_type": "markdown",
   "id": "e3f102d6",
   "metadata": {},
   "source": [
    "There were 250 tied vote, which is small portion of the dataframe. As I did with the validation set, I randomly assigned 0 or 1. "
   ]
  },
  {
   "cell_type": "code",
   "execution_count": 369,
   "id": "b91f0eb6",
   "metadata": {},
   "outputs": [
    {
     "data": {
      "text/plain": [
       "(array([0, 1]), array([ 2808, 12321]))"
      ]
     },
     "execution_count": 369,
     "metadata": {},
     "output_type": "execute_result"
    }
   ],
   "source": [
    "np.unique(test_pred, return_counts=True)"
   ]
  },
  {
   "cell_type": "code",
   "execution_count": 371,
   "id": "89138d3f",
   "metadata": {},
   "outputs": [
    {
     "name": "stdout",
     "output_type": "stream",
     "text": [
      "              precision    recall  f1-score   support\n",
      "\n",
      "           0       0.61      0.84      0.71      2042\n",
      "           1       0.97      0.92      0.94     13087\n",
      "\n",
      "    accuracy                           0.91     15129\n",
      "   macro avg       0.79      0.88      0.83     15129\n",
      "weighted avg       0.93      0.91      0.91     15129\n",
      "\n"
     ]
    }
   ],
   "source": [
    "test_report = classification_report(y_test_s, test_pred)\n",
    "print(test_report)"
   ]
  },
  {
   "cell_type": "markdown",
   "id": "d6b5b9bd",
   "metadata": {},
   "source": [
    "Final accuracy of the Snorkel-Labeled model is 0.91."
   ]
  },
  {
   "cell_type": "markdown",
   "id": "40751c94",
   "metadata": {},
   "source": [
    "---"
   ]
  },
  {
   "cell_type": "markdown",
   "id": "1c3bb0b6",
   "metadata": {},
   "source": [
    "## Insights"
   ]
  },
  {
   "cell_type": "code",
   "execution_count": 380,
   "id": "8dab3fa0",
   "metadata": {},
   "outputs": [],
   "source": [
    "# baseline scores\n",
    "base_h = np.full_like(preds_h, 1)\n",
    "base_s = np.full_like(test_pred, 1)"
   ]
  },
  {
   "cell_type": "code",
   "execution_count": 378,
   "id": "265642ac",
   "metadata": {
    "scrolled": false
   },
   "outputs": [
    {
     "data": {
      "image/png": "[encoded data removed]",
      "text/plain": [
       "<Figure size 432x288 with 2 Axes>"
      ]
     },
     "metadata": {
      "needs_background": "light"
     },
     "output_type": "display_data"
    }
   ],
   "source": [
    "# Hashtag labeled data\n",
    "ConfusionMatrixDisplay.from_predictions(y_test_h, preds_h, cmap='Blues');"
   ]
  },
  {
   "cell_type": "code",
   "execution_count": 389,
   "id": "2d6b6063",
   "metadata": {},
   "outputs": [
    {
     "name": "stdout",
     "output_type": "stream",
     "text": [
      "              precision    recall  f1-score   support\n",
      "\n",
      "           0       0.75      0.82      0.78      3242\n",
      "           1       0.79      0.72      0.76      3124\n",
      "\n",
      "    accuracy                           0.77      6366\n",
      "   macro avg       0.77      0.77      0.77      6366\n",
      "weighted avg       0.77      0.77      0.77      6366\n",
      "\n"
     ]
    }
   ],
   "source": [
    "print(classification_report(y_test_h, preds_h))"
   ]
  },
  {
   "cell_type": "code",
   "execution_count": 381,
   "id": "3535f3c7",
   "metadata": {
    "scrolled": true
   },
   "outputs": [
    {
     "data": {
      "image/png": "[encoded data removed]",
      "text/plain": [
       "<Figure size 432x288 with 2 Axes>"
      ]
     },
     "metadata": {
      "needs_background": "light"
     },
     "output_type": "display_data"
    }
   ],
   "source": [
    "# baseline\n",
    "ConfusionMatrixDisplay.from_predictions(y_test_h, base_h, cmap='Blues');"
   ]
  },
  {
   "cell_type": "code",
   "execution_count": 391,
   "id": "c351c4d4",
   "metadata": {},
   "outputs": [
    {
     "name": "stdout",
     "output_type": "stream",
     "text": [
      "              precision    recall  f1-score   support\n",
      "\n",
      "           0       0.00      0.00      0.00      3242\n",
      "           1       0.49      1.00      0.66      3124\n",
      "\n",
      "    accuracy                           0.49      6366\n",
      "   macro avg       0.25      0.50      0.33      6366\n",
      "weighted avg       0.24      0.49      0.32      6366\n",
      "\n"
     ]
    }
   ],
   "source": [
    "print(classification_report(y_test_h, base_h, zero_division=0))"
   ]
  },
  {
   "cell_type": "code",
   "execution_count": 379,
   "id": "b1fccd40",
   "metadata": {
    "scrolled": true
   },
   "outputs": [
    {
     "data": {
      "image/png": "[encoded data removed]",
      "text/plain": [
       "<Figure size 432x288 with 2 Axes>"
      ]
     },
     "metadata": {
      "needs_background": "light"
     },
     "output_type": "display_data"
    }
   ],
   "source": [
    "# Snorkel labeled data\n",
    "ConfusionMatrixDisplay.from_predictions(y_test_s, test_pred, cmap='Greens');"
   ]
  },
  {
   "cell_type": "code",
   "execution_count": 385,
   "id": "1c71cb28",
   "metadata": {},
   "outputs": [
    {
     "name": "stdout",
     "output_type": "stream",
     "text": [
      "              precision    recall  f1-score   support\n",
      "\n",
      "           0       0.61      0.84      0.71      2042\n",
      "           1       0.97      0.92      0.94     13087\n",
      "\n",
      "    accuracy                           0.91     15129\n",
      "   macro avg       0.79      0.88      0.83     15129\n",
      "weighted avg       0.93      0.91      0.91     15129\n",
      "\n"
     ]
    }
   ],
   "source": [
    "print(test_report)"
   ]
  },
  {
   "cell_type": "code",
   "execution_count": 383,
   "id": "1e1c943c",
   "metadata": {},
   "outputs": [
    {
     "data": {
      "image/png": "[encoded data removed]",
      "text/plain": [
       "<Figure size 432x288 with 2 Axes>"
      ]
     },
     "metadata": {
      "needs_background": "light"
     },
     "output_type": "display_data"
    }
   ],
   "source": [
    "# baseline\n",
    "ConfusionMatrixDisplay.from_predictions(y_test_s, base_s, cmap='Greens');"
   ]
  },
  {
   "cell_type": "code",
   "execution_count": 388,
   "id": "44c8902d",
   "metadata": {},
   "outputs": [
    {
     "name": "stdout",
     "output_type": "stream",
     "text": [
      "              precision    recall  f1-score   support\n",
      "\n",
      "           0       0.00      0.00      0.00      2042\n",
      "           1       0.87      1.00      0.93     13087\n",
      "\n",
      "    accuracy                           0.87     15129\n",
      "   macro avg       0.43      0.50      0.46     15129\n",
      "weighted avg       0.75      0.87      0.80     15129\n",
      "\n"
     ]
    }
   ],
   "source": [
    "print(classification_report(y_test_s, base_s, zero_division=0))"
   ]
  },
  {
   "cell_type": "markdown",
   "id": "66f755ea",
   "metadata": {},
   "source": [
    "With both the hashtag-labeled and Snorkel-labeled dataset, the best performing model does beat the baseline accuracy. \n",
    "\n",
    "TFIDF vectorizing with regularized logistic regression on Hashtag labeled data scored 0.77 accuracy, where baseline score was 0.5. Recall for the 0 class label (anti_vax) was higher than that of 1 class, meaning that the model had higher coverage of 0 class prediction. However, the precision was slightly lower, likely indicating that the model tends to overestimate the anti_vax texts. \n",
    "\n",
    "Predicting Snorkel labeled data (TFIDF vectors with XGBoost Classification) scored 0.91 in accuracy. Considering the baseline accuracy of 0.87, the model beat the baseline by about 0.04. Referring to the confusion matrix, the model over-predicted on the class 0 anti_vax, lowering its precision. There seems to be some trade off between 0 class precision and its recall of score 0.84. \n",
    "\n",
    "Aside from the model performance, it is slightly questionable how the model decently performed on the snorkel labeled dataset. This could be some investigation point in the next step, to look into whether the model is picking up the features from data with wrong label or if the Snorkel development set accuracy simply underestimated the accuracy of Snorkel labeling function.  "
   ]
  },
  {
   "cell_type": "code",
   "execution_count": null,
   "id": "c991e006",
   "metadata": {},
   "outputs": [],
   "source": []
  }
 ],
 "metadata": {
  "kernelspec": {
   "display_name": "Python 3 (ipykernel)",
   "language": "python",
   "name": "python3"
  },
  "language_info": {
   "codemirror_mode": {
    "name": "ipython",
    "version": 3
   },
   "file_extension": ".py",
   "mimetype": "text/x-python",
   "name": "python",
   "nbconvert_exporter": "python",
   "pygments_lexer": "ipython3",
   "version": "3.8.12"
  }
 },
 "nbformat": 4,
 "nbformat_minor": 5
}
