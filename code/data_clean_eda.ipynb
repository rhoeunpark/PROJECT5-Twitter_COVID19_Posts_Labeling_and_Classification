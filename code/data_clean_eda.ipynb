{
 "cells": [
  {
   "cell_type": "markdown",
   "id": "3aa9139d",
   "metadata": {},
   "source": [
    "# Data Cleaning and EDA"
   ]
  },
  {
   "cell_type": "markdown",
   "id": "41db3242",
   "metadata": {},
   "source": [
    "* Feature selection\n",
    "* see what can be considered for Snorkel labeling"
   ]
  },
  {
   "cell_type": "markdown",
   "id": "5f3fd47d",
   "metadata": {},
   "source": [
    "## Imports"
   ]
  },
  {
   "cell_type": "code",
   "execution_count": 458,
   "id": "634cbcc6",
   "metadata": {},
   "outputs": [],
   "source": [
    "import pandas as pd\n",
    "import numpy as np\n",
    "import seaborn as sns\n",
    "import matplotlib.pyplot as plt\n",
    "import re\n",
    "\n",
    "import preprocessor as p\n",
    "\n",
    "from sklearn.feature_extraction.text import CountVectorizer\n",
    "from sklearn.model_selection import train_test_split\n",
    "\n",
    "from nltk import word_tokenize, sent_tokenize, FreqDist\n",
    "from nltk.corpus import stopwords\n",
    "from nltk.stem import LancasterStemmer, WordNetLemmatizer\n",
    "from nltk.tokenize import TweetTokenizer\n",
    "\n",
    "pd.options.display.max_colwidth = 400"
   ]
  },
  {
   "cell_type": "markdown",
   "id": "2411c79c",
   "metadata": {},
   "source": [
    "## Load Data"
   ]
  },
  {
   "cell_type": "code",
   "execution_count": 335,
   "id": "f0d25ef6",
   "metadata": {},
   "outputs": [],
   "source": [
    "# load hash-labeled and non-labeled datasets\n",
    "tweets_labeled = pd.read_csv('../data/tweets_hash_label.csv') # hash-labeled data\n",
    "tweets_unlabeled = pd.read_csv('../data/twitter_scrape2.csv') # no-label data"
   ]
  },
  {
   "cell_type": "code",
   "execution_count": 336,
   "id": "6f943ca0",
   "metadata": {},
   "outputs": [
    {
     "data": {
      "text/html": [
       "<div>\n",
       "<style scoped>\n",
       "    .dataframe tbody tr th:only-of-type {\n",
       "        vertical-align: middle;\n",
       "    }\n",
       "\n",
       "    .dataframe tbody tr th {\n",
       "        vertical-align: top;\n",
       "    }\n",
       "\n",
       "    .dataframe thead th {\n",
       "        text-align: right;\n",
       "    }\n",
       "</style>\n",
       "<table border=\"1\" class=\"dataframe\">\n",
       "  <thead>\n",
       "    <tr style=\"text-align: right;\">\n",
       "      <th></th>\n",
       "      <th>datetime</th>\n",
       "      <th>tweet_id</th>\n",
       "      <th>username</th>\n",
       "      <th>text</th>\n",
       "      <th>likes</th>\n",
       "      <th>retweet</th>\n",
       "      <th>get_vaccine</th>\n",
       "    </tr>\n",
       "  </thead>\n",
       "  <tbody>\n",
       "    <tr>\n",
       "      <th>0</th>\n",
       "      <td>2021-10-16 13:26:08+00:00</td>\n",
       "      <td>1.449366e+18</td>\n",
       "      <td>ColoradoMounta8</td>\n",
       "      <td>Thank you @GovBillLee for sticking up for common sense!  #MedicalFreedom #Tennessee\\n\"Tennessee legislators looking to call special session on COVID restrictions\" https://t.co/cUwPdcD5Yx</td>\n",
       "      <td>3.0</td>\n",
       "      <td>2.0</td>\n",
       "      <td>0</td>\n",
       "    </tr>\n",
       "    <tr>\n",
       "      <th>1</th>\n",
       "      <td>2022-08-01 01:29:50+00:00</td>\n",
       "      <td>1.553916e+18</td>\n",
       "      <td>GeoffyPJohnston</td>\n",
       "      <td>When anti-Vaxxers tweet #vaccineinjuries at you, remind them that more than 18 million people around the world had died of COVID-19 by the end of 2021. Also point out that COVID vaccines saved an estimated 20 million lives in the first year. Get vaccinated. Vaccinate your kids. https://t.co/Ld9ToqLcX1</td>\n",
       "      <td>7.0</td>\n",
       "      <td>3.0</td>\n",
       "      <td>0</td>\n",
       "    </tr>\n",
       "    <tr>\n",
       "      <th>2</th>\n",
       "      <td>2021-07-29 18:38:33+00:00</td>\n",
       "      <td>1.420816e+18</td>\n",
       "      <td>tobybhowes</td>\n",
       "      <td>@GregoryDavisHNH @beverleyturner @JamesfWells your #naivety is breath-taking. you think removing #freedoms for #unvaccinated &amp;amp; £325 million spent on #Jab marketing fits within the #Legal framework of #InformedConsent ? ... the patient / recipient should not feel coerced or pressurised etc. #COVID19 #Olympics #COVID</td>\n",
       "      <td>1.0</td>\n",
       "      <td>0.0</td>\n",
       "      <td>0</td>\n",
       "    </tr>\n",
       "    <tr>\n",
       "      <th>3</th>\n",
       "      <td>2022-08-01 17:00:00+00:00</td>\n",
       "      <td>1.554150e+18</td>\n",
       "      <td>HW_Lancashire</td>\n",
       "      <td>What do you think about the Covid-19 vaccination?💉 Whether you have had four doses or none, we want to hear from you! You can tell us anything🗣️ whether it is positive or negative. Have your say here👉https://t.co/Wv0hA73mrg\\n\\n#CovidVaccine #LANCASHIRE #grabajab https://t.co/ymNZ3YdA3M</td>\n",
       "      <td>3.0</td>\n",
       "      <td>2.0</td>\n",
       "      <td>1</td>\n",
       "    </tr>\n",
       "    <tr>\n",
       "      <th>4</th>\n",
       "      <td>2021-12-17 12:17:42+00:00</td>\n",
       "      <td>1.471817e+18</td>\n",
       "      <td>MartheFroysadal</td>\n",
       "      <td>It’s been out there in plain sight for many years… #WakeUpEverybody ! Wake the fuck up! NOW!!! #TogetherDeclaration #arrestfaucinow #TheRealAnthonyFauci #ArrestBillGates #Nuremberg2 #NurembergCode #NurembergTrialsForCovid #NurembergCodeViolations #Covid_19 #tyranny #ww3 #WakeUp https://t.co/EyK498kinu</td>\n",
       "      <td>3.0</td>\n",
       "      <td>4.0</td>\n",
       "      <td>0</td>\n",
       "    </tr>\n",
       "  </tbody>\n",
       "</table>\n",
       "</div>"
      ],
      "text/plain": [
       "                    datetime      tweet_id         username  \\\n",
       "0  2021-10-16 13:26:08+00:00  1.449366e+18  ColoradoMounta8   \n",
       "1  2022-08-01 01:29:50+00:00  1.553916e+18  GeoffyPJohnston   \n",
       "2  2021-07-29 18:38:33+00:00  1.420816e+18       tobybhowes   \n",
       "3  2022-08-01 17:00:00+00:00  1.554150e+18    HW_Lancashire   \n",
       "4  2021-12-17 12:17:42+00:00  1.471817e+18  MartheFroysadal   \n",
       "\n",
       "                                                                                                                                                                                                                                                                                                                               text  \\\n",
       "0                                                                                                                                        Thank you @GovBillLee for sticking up for common sense!  #MedicalFreedom #Tennessee\\n\"Tennessee legislators looking to call special session on COVID restrictions\" https://t.co/cUwPdcD5Yx   \n",
       "1                    When anti-Vaxxers tweet #vaccineinjuries at you, remind them that more than 18 million people around the world had died of COVID-19 by the end of 2021. Also point out that COVID vaccines saved an estimated 20 million lives in the first year. Get vaccinated. Vaccinate your kids. https://t.co/Ld9ToqLcX1   \n",
       "2  @GregoryDavisHNH @beverleyturner @JamesfWells your #naivety is breath-taking. you think removing #freedoms for #unvaccinated &amp; £325 million spent on #Jab marketing fits within the #Legal framework of #InformedConsent ? ... the patient / recipient should not feel coerced or pressurised etc. #COVID19 #Olympics #COVID   \n",
       "3                                    What do you think about the Covid-19 vaccination?💉 Whether you have had four doses or none, we want to hear from you! You can tell us anything🗣️ whether it is positive or negative. Have your say here👉https://t.co/Wv0hA73mrg\\n\\n#CovidVaccine #LANCASHIRE #grabajab https://t.co/ymNZ3YdA3M   \n",
       "4                    It’s been out there in plain sight for many years… #WakeUpEverybody ! Wake the fuck up! NOW!!! #TogetherDeclaration #arrestfaucinow #TheRealAnthonyFauci #ArrestBillGates #Nuremberg2 #NurembergCode #NurembergTrialsForCovid #NurembergCodeViolations #Covid_19 #tyranny #ww3 #WakeUp https://t.co/EyK498kinu   \n",
       "\n",
       "   likes  retweet  get_vaccine  \n",
       "0    3.0      2.0            0  \n",
       "1    7.0      3.0            0  \n",
       "2    1.0      0.0            0  \n",
       "3    3.0      2.0            1  \n",
       "4    3.0      4.0            0  "
      ]
     },
     "execution_count": 336,
     "metadata": {},
     "output_type": "execute_result"
    }
   ],
   "source": [
    "tweets_labeled.head()"
   ]
  },
  {
   "cell_type": "code",
   "execution_count": 337,
   "id": "7fd19402",
   "metadata": {},
   "outputs": [
    {
     "data": {
      "text/plain": [
       "(32843, 7)"
      ]
     },
     "execution_count": 337,
     "metadata": {},
     "output_type": "execute_result"
    }
   ],
   "source": [
    "tweets_labeled.shape"
   ]
  },
  {
   "cell_type": "code",
   "execution_count": 338,
   "id": "5a7436da",
   "metadata": {},
   "outputs": [
    {
     "data": {
      "text/html": [
       "<div>\n",
       "<style scoped>\n",
       "    .dataframe tbody tr th:only-of-type {\n",
       "        vertical-align: middle;\n",
       "    }\n",
       "\n",
       "    .dataframe tbody tr th {\n",
       "        vertical-align: top;\n",
       "    }\n",
       "\n",
       "    .dataframe thead th {\n",
       "        text-align: right;\n",
       "    }\n",
       "</style>\n",
       "<table border=\"1\" class=\"dataframe\">\n",
       "  <thead>\n",
       "    <tr style=\"text-align: right;\">\n",
       "      <th></th>\n",
       "      <th>datetime</th>\n",
       "      <th>tweet_id</th>\n",
       "      <th>username</th>\n",
       "      <th>text</th>\n",
       "      <th>likes</th>\n",
       "      <th>retweet</th>\n",
       "    </tr>\n",
       "  </thead>\n",
       "  <tbody>\n",
       "    <tr>\n",
       "      <th>0</th>\n",
       "      <td>2021-01-20 23:59:58+00:00</td>\n",
       "      <td>1.352043e+18</td>\n",
       "      <td>AliceMaySays</td>\n",
       "      <td>@acevenvevo @ADM_Briggs @Anthony37662002 @VibesCake @DanielRegha @TravisAllen02 @JoeBiden 2) and Trump’s Covid response has caused those numbers to go significantly higher as did his botched vaccine release</td>\n",
       "      <td>2.0</td>\n",
       "      <td>0.0</td>\n",
       "    </tr>\n",
       "    <tr>\n",
       "      <th>1</th>\n",
       "      <td>2021-01-20 23:59:52+00:00</td>\n",
       "      <td>1.352043e+18</td>\n",
       "      <td>Elijah4Senate</td>\n",
       "      <td>Please read this important thread from my office with an update on COVID vaccines in Rockland and Westchester. https://t.co/rvpHjeE8Ts</td>\n",
       "      <td>7.0</td>\n",
       "      <td>4.0</td>\n",
       "    </tr>\n",
       "    <tr>\n",
       "      <th>2</th>\n",
       "      <td>2021-01-20 23:59:42+00:00</td>\n",
       "      <td>1.352043e+18</td>\n",
       "      <td>yvngdaggadickk</td>\n",
       "      <td>Just saw two homeless people giving themselves the COVID vaccine 🙁 faith in humanity restored ❤️</td>\n",
       "      <td>6.0</td>\n",
       "      <td>0.0</td>\n",
       "    </tr>\n",
       "    <tr>\n",
       "      <th>3</th>\n",
       "      <td>2021-01-20 23:59:40+00:00</td>\n",
       "      <td>1.352043e+18</td>\n",
       "      <td>patinindy</td>\n",
       "      <td>Those who refuse to get the COVID-19 vaccine could be chalked up to only endangering themselves.  \\n\\nNot true.  \\n\\nThey will become viral mutation factories.  \\n\\nSome mutations will do nothing. Others enhance infectivity.  /1</td>\n",
       "      <td>0.0</td>\n",
       "      <td>0.0</td>\n",
       "    </tr>\n",
       "    <tr>\n",
       "      <th>4</th>\n",
       "      <td>2021-01-20 23:59:38+00:00</td>\n",
       "      <td>1.352043e+18</td>\n",
       "      <td>KION546</td>\n",
       "      <td>Santa Cruz County says the goal is to distribute vaccines to the 14,700 Phase 1A health care workers within the county, calling it a key step in the fight against COVID-19. https://t.co/pVNNC8cTKs</td>\n",
       "      <td>3.0</td>\n",
       "      <td>0.0</td>\n",
       "    </tr>\n",
       "  </tbody>\n",
       "</table>\n",
       "</div>"
      ],
      "text/plain": [
       "                    datetime      tweet_id        username  \\\n",
       "0  2021-01-20 23:59:58+00:00  1.352043e+18    AliceMaySays   \n",
       "1  2021-01-20 23:59:52+00:00  1.352043e+18   Elijah4Senate   \n",
       "2  2021-01-20 23:59:42+00:00  1.352043e+18  yvngdaggadickk   \n",
       "3  2021-01-20 23:59:40+00:00  1.352043e+18       patinindy   \n",
       "4  2021-01-20 23:59:38+00:00  1.352043e+18         KION546   \n",
       "\n",
       "                                                                                                                                                                                                                                   text  \\\n",
       "0                        @acevenvevo @ADM_Briggs @Anthony37662002 @VibesCake @DanielRegha @TravisAllen02 @JoeBiden 2) and Trump’s Covid response has caused those numbers to go significantly higher as did his botched vaccine release   \n",
       "1                                                                                                Please read this important thread from my office with an update on COVID vaccines in Rockland and Westchester. https://t.co/rvpHjeE8Ts   \n",
       "2                                                                                                                                      Just saw two homeless people giving themselves the COVID vaccine 🙁 faith in humanity restored ❤️   \n",
       "3  Those who refuse to get the COVID-19 vaccine could be chalked up to only endangering themselves.  \\n\\nNot true.  \\n\\nThey will become viral mutation factories.  \\n\\nSome mutations will do nothing. Others enhance infectivity.  /1   \n",
       "4                                  Santa Cruz County says the goal is to distribute vaccines to the 14,700 Phase 1A health care workers within the county, calling it a key step in the fight against COVID-19. https://t.co/pVNNC8cTKs   \n",
       "\n",
       "   likes  retweet  \n",
       "0    2.0      0.0  \n",
       "1    7.0      4.0  \n",
       "2    6.0      0.0  \n",
       "3    0.0      0.0  \n",
       "4    3.0      0.0  "
      ]
     },
     "execution_count": 338,
     "metadata": {},
     "output_type": "execute_result"
    }
   ],
   "source": [
    "tweets_unlabeled.head()"
   ]
  },
  {
   "cell_type": "code",
   "execution_count": 339,
   "id": "070804a1",
   "metadata": {
    "scrolled": true
   },
   "outputs": [
    {
     "data": {
      "text/plain": [
       "(111959, 6)"
      ]
     },
     "execution_count": 339,
     "metadata": {},
     "output_type": "execute_result"
    }
   ],
   "source": [
    "tweets_unlabeled.shape"
   ]
  },
  {
   "cell_type": "markdown",
   "id": "8479dd7d",
   "metadata": {},
   "source": [
    "## Data Cleaning"
   ]
  },
  {
   "cell_type": "markdown",
   "id": "7e4b90a5",
   "metadata": {},
   "source": [
    "**Hash-labeled dataset**"
   ]
  },
  {
   "cell_type": "code",
   "execution_count": 340,
   "id": "17d78c45",
   "metadata": {
    "scrolled": true
   },
   "outputs": [
    {
     "name": "stdout",
     "output_type": "stream",
     "text": [
      "<class 'pandas.core.frame.DataFrame'>\n",
      "RangeIndex: 32843 entries, 0 to 32842\n",
      "Data columns (total 7 columns):\n",
      " #   Column       Non-Null Count  Dtype  \n",
      "---  ------       --------------  -----  \n",
      " 0   datetime     32843 non-null  object \n",
      " 1   tweet_id     32839 non-null  float64\n",
      " 2   username     32839 non-null  object \n",
      " 3   text         32837 non-null  object \n",
      " 4   likes        32835 non-null  float64\n",
      " 5   retweet      32835 non-null  float64\n",
      " 6   get_vaccine  32843 non-null  int64  \n",
      "dtypes: float64(3), int64(1), object(3)\n",
      "memory usage: 1.8+ MB\n"
     ]
    }
   ],
   "source": [
    "tweets_labeled.info()"
   ]
  },
  {
   "cell_type": "code",
   "execution_count": 341,
   "id": "a0bc1dc0",
   "metadata": {
    "scrolled": false
   },
   "outputs": [
    {
     "data": {
      "text/plain": [
       "datetime       0\n",
       "tweet_id       4\n",
       "username       4\n",
       "text           6\n",
       "likes          8\n",
       "retweet        8\n",
       "get_vaccine    0\n",
       "dtype: int64"
      ]
     },
     "execution_count": 341,
     "metadata": {},
     "output_type": "execute_result"
    }
   ],
   "source": [
    "tweets_labeled.isnull().sum()"
   ]
  },
  {
   "cell_type": "code",
   "execution_count": 342,
   "id": "ff9af681",
   "metadata": {},
   "outputs": [
    {
     "data": {
      "text/html": [
       "<div>\n",
       "<style scoped>\n",
       "    .dataframe tbody tr th:only-of-type {\n",
       "        vertical-align: middle;\n",
       "    }\n",
       "\n",
       "    .dataframe tbody tr th {\n",
       "        vertical-align: top;\n",
       "    }\n",
       "\n",
       "    .dataframe thead th {\n",
       "        text-align: right;\n",
       "    }\n",
       "</style>\n",
       "<table border=\"1\" class=\"dataframe\">\n",
       "  <thead>\n",
       "    <tr style=\"text-align: right;\">\n",
       "      <th></th>\n",
       "      <th>datetime</th>\n",
       "      <th>tweet_id</th>\n",
       "      <th>username</th>\n",
       "      <th>text</th>\n",
       "      <th>likes</th>\n",
       "      <th>retweet</th>\n",
       "      <th>get_vaccine</th>\n",
       "    </tr>\n",
       "  </thead>\n",
       "  <tbody>\n",
       "    <tr>\n",
       "      <th>4896</th>\n",
       "      <td>THE #UNVAXXED</td>\n",
       "      <td>NaN</td>\n",
       "      <td>NaN</td>\n",
       "      <td>NaN</td>\n",
       "      <td>NaN</td>\n",
       "      <td>NaN</td>\n",
       "      <td>0</td>\n",
       "    </tr>\n",
       "    <tr>\n",
       "      <th>7372</th>\n",
       "      <td>MESSAGE FROM God ✝️❤️</td>\n",
       "      <td>NaN</td>\n",
       "      <td>NaN</td>\n",
       "      <td>NaN</td>\n",
       "      <td>NaN</td>\n",
       "      <td>NaN</td>\n",
       "      <td>0</td>\n",
       "    </tr>\n",
       "    <tr>\n",
       "      <th>10726</th>\n",
       "      <td>YOU ARE IN GOOD COMPANY! https://t.co/4iDBSelPeJ</td>\n",
       "      <td>2.100000e+01</td>\n",
       "      <td>13</td>\n",
       "      <td>NaN</td>\n",
       "      <td>NaN</td>\n",
       "      <td>NaN</td>\n",
       "      <td>0</td>\n",
       "    </tr>\n",
       "    <tr>\n",
       "      <th>13846</th>\n",
       "      <td>WAKEUP PEOPLE!!! 🔥</td>\n",
       "      <td>2.000000e+00</td>\n",
       "      <td>2</td>\n",
       "      <td>NaN</td>\n",
       "      <td>NaN</td>\n",
       "      <td>NaN</td>\n",
       "      <td>0</td>\n",
       "    </tr>\n",
       "    <tr>\n",
       "      <th>18221</th>\n",
       "      <td>2021-12-03 06:30:11+00:00</td>\n",
       "      <td>1.466656e+18</td>\n",
       "      <td>HipFriends</td>\n",
       "      <td>@TheInsiderPaper #Wakeup #Agenda2030 #VaccinePassports #Transhumanism #Vaccines #Depopulation #DoNotComply #Freedom #Covid #Tech #IoT #IoT #AI #robots #GreatReset</td>\n",
       "      <td>NaN</td>\n",
       "      <td>NaN</td>\n",
       "      <td>0</td>\n",
       "    </tr>\n",
       "    <tr>\n",
       "      <th>21596</th>\n",
       "      <td>DO NOT GIVE YOUR #CHILDREN THE #VACCINES</td>\n",
       "      <td>NaN</td>\n",
       "      <td>NaN</td>\n",
       "      <td>NaN</td>\n",
       "      <td>NaN</td>\n",
       "      <td>NaN</td>\n",
       "      <td>0</td>\n",
       "    </tr>\n",
       "    <tr>\n",
       "      <th>27396</th>\n",
       "      <td>2021-10-17 21:59:57+00:00</td>\n",
       "      <td>1.449858e+18</td>\n",
       "      <td>HipFriends</td>\n",
       "      <td>#God #Jesus #covid #CovidVaccines #vaccinated #Covid19 #vaccineinjuries #VaccineDeaths  #DEATH #DEPOPULATION #GreatReset #Ivermectin #PleaseRetweet</td>\n",
       "      <td>NaN</td>\n",
       "      <td>NaN</td>\n",
       "      <td>0</td>\n",
       "    </tr>\n",
       "    <tr>\n",
       "      <th>31499</th>\n",
       "      <td>DO NOT TAKE  THE #VACCINE</td>\n",
       "      <td>NaN</td>\n",
       "      <td>NaN</td>\n",
       "      <td>NaN</td>\n",
       "      <td>NaN</td>\n",
       "      <td>NaN</td>\n",
       "      <td>0</td>\n",
       "    </tr>\n",
       "  </tbody>\n",
       "</table>\n",
       "</div>"
      ],
      "text/plain": [
       "                                               datetime      tweet_id  \\\n",
       "4896                                      THE #UNVAXXED           NaN   \n",
       "7372                              MESSAGE FROM God ✝️❤️           NaN   \n",
       "10726  YOU ARE IN GOOD COMPANY! https://t.co/4iDBSelPeJ  2.100000e+01   \n",
       "13846                                WAKEUP PEOPLE!!! 🔥  2.000000e+00   \n",
       "18221                         2021-12-03 06:30:11+00:00  1.466656e+18   \n",
       "21596          DO NOT GIVE YOUR #CHILDREN THE #VACCINES           NaN   \n",
       "27396                         2021-10-17 21:59:57+00:00  1.449858e+18   \n",
       "31499                         DO NOT TAKE  THE #VACCINE           NaN   \n",
       "\n",
       "         username  \\\n",
       "4896          NaN   \n",
       "7372          NaN   \n",
       "10726          13   \n",
       "13846           2   \n",
       "18221  HipFriends   \n",
       "21596         NaN   \n",
       "27396  HipFriends   \n",
       "31499         NaN   \n",
       "\n",
       "                                                                                                                                                                       text  \\\n",
       "4896                                                                                                                                                                    NaN   \n",
       "7372                                                                                                                                                                    NaN   \n",
       "10726                                                                                                                                                                   NaN   \n",
       "13846                                                                                                                                                                   NaN   \n",
       "18221  @TheInsiderPaper #Wakeup #Agenda2030 #VaccinePassports #Transhumanism #Vaccines #Depopulation #DoNotComply #Freedom #Covid #Tech #IoT #IoT #AI #robots #GreatReset     \n",
       "21596                                                                                                                                                                   NaN   \n",
       "27396                   #God #Jesus #covid #CovidVaccines #vaccinated #Covid19 #vaccineinjuries #VaccineDeaths  #DEATH #DEPOPULATION #GreatReset #Ivermectin #PleaseRetweet   \n",
       "31499                                                                                                                                                                   NaN   \n",
       "\n",
       "       likes  retweet  get_vaccine  \n",
       "4896     NaN      NaN            0  \n",
       "7372     NaN      NaN            0  \n",
       "10726    NaN      NaN            0  \n",
       "13846    NaN      NaN            0  \n",
       "18221    NaN      NaN            0  \n",
       "21596    NaN      NaN            0  \n",
       "27396    NaN      NaN            0  \n",
       "31499    NaN      NaN            0  "
      ]
     },
     "execution_count": 342,
     "metadata": {},
     "output_type": "execute_result"
    }
   ],
   "source": [
    "tweets_labeled[tweets_labeled['likes'].isnull()]"
   ]
  },
  {
   "cell_type": "code",
   "execution_count": 343,
   "id": "4ae30936",
   "metadata": {},
   "outputs": [],
   "source": [
    "tweets_labeled = tweets_labeled.dropna().reset_index(drop=True)"
   ]
  },
  {
   "cell_type": "code",
   "execution_count": 344,
   "id": "fbfb981e",
   "metadata": {},
   "outputs": [
    {
     "data": {
      "text/plain": [
       "(32835, 7)"
      ]
     },
     "execution_count": 344,
     "metadata": {},
     "output_type": "execute_result"
    }
   ],
   "source": [
    "tweets_labeled.shape # "
   ]
  },
  {
   "cell_type": "markdown",
   "id": "4727e5d0",
   "metadata": {},
   "source": [
    "It seems like there was some error that misplaced values under wrong column name when parsing the data from twitter. To make EDA and analysis easier, I dropped any rows with null values. Doing so should not affect the modeling result dramatically since it is less than 0.01% of the dataframe. It ended up dropping 8 rows total."
   ]
  },
  {
   "cell_type": "markdown",
   "id": "7281a6c0",
   "metadata": {},
   "source": [
    "**unlabeled dataset**"
   ]
  },
  {
   "cell_type": "code",
   "execution_count": 345,
   "id": "768c0eff",
   "metadata": {},
   "outputs": [
    {
     "name": "stdout",
     "output_type": "stream",
     "text": [
      "<class 'pandas.core.frame.DataFrame'>\n",
      "RangeIndex: 111959 entries, 0 to 111958\n",
      "Data columns (total 6 columns):\n",
      " #   Column    Non-Null Count   Dtype  \n",
      "---  ------    --------------   -----  \n",
      " 0   datetime  111959 non-null  object \n",
      " 1   tweet_id  111958 non-null  float64\n",
      " 2   username  111958 non-null  object \n",
      " 3   text      111957 non-null  object \n",
      " 4   likes     111956 non-null  float64\n",
      " 5   retweet   111956 non-null  float64\n",
      "dtypes: float64(3), object(3)\n",
      "memory usage: 5.1+ MB\n"
     ]
    }
   ],
   "source": [
    "tweets_unlabeled.info()"
   ]
  },
  {
   "cell_type": "code",
   "execution_count": 346,
   "id": "bba84647",
   "metadata": {},
   "outputs": [
    {
     "data": {
      "text/plain": [
       "datetime    0\n",
       "tweet_id    1\n",
       "username    1\n",
       "text        2\n",
       "likes       3\n",
       "retweet     3\n",
       "dtype: int64"
      ]
     },
     "execution_count": 346,
     "metadata": {},
     "output_type": "execute_result"
    }
   ],
   "source": [
    "tweets_unlabeled.isnull().sum()"
   ]
  },
  {
   "cell_type": "code",
   "execution_count": 347,
   "id": "72574f64",
   "metadata": {
    "scrolled": true
   },
   "outputs": [
    {
     "data": {
      "text/html": [
       "<div>\n",
       "<style scoped>\n",
       "    .dataframe tbody tr th:only-of-type {\n",
       "        vertical-align: middle;\n",
       "    }\n",
       "\n",
       "    .dataframe tbody tr th {\n",
       "        vertical-align: top;\n",
       "    }\n",
       "\n",
       "    .dataframe thead th {\n",
       "        text-align: right;\n",
       "    }\n",
       "</style>\n",
       "<table border=\"1\" class=\"dataframe\">\n",
       "  <thead>\n",
       "    <tr style=\"text-align: right;\">\n",
       "      <th></th>\n",
       "      <th>datetime</th>\n",
       "      <th>tweet_id</th>\n",
       "      <th>username</th>\n",
       "      <th>text</th>\n",
       "      <th>likes</th>\n",
       "      <th>retweet</th>\n",
       "    </tr>\n",
       "  </thead>\n",
       "  <tbody>\n",
       "    <tr>\n",
       "      <th>65581</th>\n",
       "      <td>2021-12-12 23:55:04+00:00</td>\n",
       "      <td>1.470180e+18</td>\n",
       "      <td>HipFriends</td>\n",
       "      <td>#DoNotComply #AI #IoT #NWO #VaccineSideEffects #VaccineDeaths #NoVaccinePassports #Covid #Covid19 #vaccines #NoVaccineMandates #GREATRESET</td>\n",
       "      <td>NaN</td>\n",
       "      <td>NaN</td>\n",
       "    </tr>\n",
       "    <tr>\n",
       "      <th>65582</th>\n",
       "      <td>MUST SEE🔥‼️‼️</td>\n",
       "      <td>NaN</td>\n",
       "      <td>NaN</td>\n",
       "      <td>NaN</td>\n",
       "      <td>NaN</td>\n",
       "      <td>NaN</td>\n",
       "    </tr>\n",
       "    <tr>\n",
       "      <th>65583</th>\n",
       "      <td>THE GREAT RESET &amp;amp; COVID &amp;amp; SILENT WEAPONS https://t.co/UMhzicXYWv</td>\n",
       "      <td>1.000000e+00</td>\n",
       "      <td>2</td>\n",
       "      <td>NaN</td>\n",
       "      <td>NaN</td>\n",
       "      <td>NaN</td>\n",
       "    </tr>\n",
       "  </tbody>\n",
       "</table>\n",
       "</div>"
      ],
      "text/plain": [
       "                                                                       datetime  \\\n",
       "65581                                                 2021-12-12 23:55:04+00:00   \n",
       "65582                                                             MUST SEE🔥‼️‼️   \n",
       "65583  THE GREAT RESET &amp; COVID &amp; SILENT WEAPONS https://t.co/UMhzicXYWv   \n",
       "\n",
       "           tweet_id    username  \\\n",
       "65581  1.470180e+18  HipFriends   \n",
       "65582           NaN         NaN   \n",
       "65583  1.000000e+00           2   \n",
       "\n",
       "                                                                                                                                              text  \\\n",
       "65581  #DoNotComply #AI #IoT #NWO #VaccineSideEffects #VaccineDeaths #NoVaccinePassports #Covid #Covid19 #vaccines #NoVaccineMandates #GREATRESET    \n",
       "65582                                                                                                                                          NaN   \n",
       "65583                                                                                                                                          NaN   \n",
       "\n",
       "       likes  retweet  \n",
       "65581    NaN      NaN  \n",
       "65582    NaN      NaN  \n",
       "65583    NaN      NaN  "
      ]
     },
     "execution_count": 347,
     "metadata": {},
     "output_type": "execute_result"
    }
   ],
   "source": [
    "tweets_unlabeled[tweets_unlabeled['likes'].isnull()]"
   ]
  },
  {
   "cell_type": "code",
   "execution_count": 348,
   "id": "269a7739",
   "metadata": {},
   "outputs": [],
   "source": [
    "tweets_unlabeled = tweets_unlabeled.dropna().reset_index(drop=True)"
   ]
  },
  {
   "cell_type": "code",
   "execution_count": 349,
   "id": "d6c9f6d6",
   "metadata": {},
   "outputs": [
    {
     "data": {
      "text/plain": [
       "(111956, 6)"
      ]
     },
     "execution_count": 349,
     "metadata": {},
     "output_type": "execute_result"
    }
   ],
   "source": [
    "tweets_unlabeled.shape"
   ]
  },
  {
   "cell_type": "markdown",
   "id": "93decda9",
   "metadata": {},
   "source": [
    "Same with unlabeled dataset, I dropped any rows containing null values which ended up dropping 3 rows total."
   ]
  },
  {
   "cell_type": "markdown",
   "id": "47c7edcf",
   "metadata": {},
   "source": [
    "## EDA (I)\n",
    "EDA before preprocessing the text data"
   ]
  },
  {
   "cell_type": "markdown",
   "id": "3a017412",
   "metadata": {},
   "source": [
    "#### *Hash-labled dataset*"
   ]
  },
  {
   "cell_type": "code",
   "execution_count": 350,
   "id": "7ab38e92",
   "metadata": {
    "scrolled": false
   },
   "outputs": [
    {
     "data": {
      "text/plain": [
       "0    0.509487\n",
       "1    0.490513\n",
       "Name: get_vaccine, dtype: float64"
      ]
     },
     "execution_count": 350,
     "metadata": {},
     "output_type": "execute_result"
    }
   ],
   "source": [
    "# label distribution\n",
    "tweets_labeled['get_vaccine'].value_counts(normalize=True)"
   ]
  },
  {
   "cell_type": "markdown",
   "id": "1c80965f",
   "metadata": {},
   "source": [
    "The class is balanced with 50% of each class in the dataset."
   ]
  },
  {
   "cell_type": "code",
   "execution_count": 351,
   "id": "4cff6505",
   "metadata": {},
   "outputs": [],
   "source": [
    "# define functions to filter out the specific class. \n",
    "def no_vax(df):\n",
    "    return df[df['get_vaccine']==0]\n",
    "\n",
    "def yes_vax(df):\n",
    "    return df[df['get_vaccine']==1]"
   ]
  },
  {
   "cell_type": "markdown",
   "id": "f7d0e8ca",
   "metadata": {},
   "source": [
    "* **charachter and word counts**"
   ]
  },
  {
   "cell_type": "code",
   "execution_count": 352,
   "id": "e55d57e2",
   "metadata": {},
   "outputs": [
    {
     "data": {
      "text/plain": [
       "dtype('O')"
      ]
     },
     "execution_count": 352,
     "metadata": {},
     "output_type": "execute_result"
    }
   ],
   "source": [
    "tweets_labeled['text'].dtype"
   ]
  },
  {
   "cell_type": "code",
   "execution_count": 353,
   "id": "fa78d0db",
   "metadata": {},
   "outputs": [
    {
     "data": {
      "text/plain": [
       "0        185\n",
       "1        302\n",
       "2        320\n",
       "3        284\n",
       "4        302\n",
       "        ... \n",
       "32830    252\n",
       "32831    275\n",
       "32832    227\n",
       "32833    190\n",
       "32834    302\n",
       "Name: text, Length: 32835, dtype: int64"
      ]
     },
     "execution_count": 353,
     "metadata": {},
     "output_type": "execute_result"
    }
   ],
   "source": [
    "tweets_labeled['text'].str.len()"
   ]
  },
  {
   "cell_type": "code",
   "execution_count": 354,
   "id": "a16f1ad9",
   "metadata": {},
   "outputs": [
    {
     "data": {
      "text/plain": [
       "0                                                                                                                                              Thank you @GovBillLee for sticking up for common sense!  #MedicalFreedom #Tennessee\\n\"Tennessee legislators looking to call special session on COVID restrictions\" https://t.co/cUwPdcD5Yx\n",
       "1                          When anti-Vaxxers tweet #vaccineinjuries at you, remind them that more than 18 million people around the world had died of COVID-19 by the end of 2021. Also point out that COVID vaccines saved an estimated 20 million lives in the first year. Get vaccinated. Vaccinate your kids. https://t.co/Ld9ToqLcX1\n",
       "2        @GregoryDavisHNH @beverleyturner @JamesfWells your #naivety is breath-taking. you think removing #freedoms for #unvaccinated &amp; £325 million spent on #Jab marketing fits within the #Legal framework of #InformedConsent ? ... the patient / recipient should not feel coerced or pressurised etc. #COVID19 #Olympics #COVID\n",
       "3                                          What do you think about the Covid-19 vaccination?💉 Whether you have had four doses or none, we want to hear from you! You can tell us anything🗣️ whether it is positive or negative. Have your say here👉https://t.co/Wv0hA73mrg\\n\\n#CovidVaccine #LANCASHIRE #grabajab https://t.co/ymNZ3YdA3M\n",
       "4                          It’s been out there in plain sight for many years… #WakeUpEverybody ! Wake the fuck up! NOW!!! #TogetherDeclaration #arrestfaucinow #TheRealAnthonyFauci #ArrestBillGates #Nuremberg2 #NurembergCode #NurembergTrialsForCovid #NurembergCodeViolations #Covid_19 #tyranny #ww3 #WakeUp https://t.co/EyK498kinu\n",
       "                                                                                                                                                                       ...                                                                                                                                                               \n",
       "32830                                                                    Alliance is excited to share up-to-date information on the COVID-19 vaccine at our weekly Friday COVID-19 information session! For Zoom information, contact isabel@alliance.nyc. \\n\\n#VaxedAndProud #CancelCovid #VaccinesSaveLives \\n\\nhttps://t.co/o93OlemDo8\n",
       "32831                                                 My latest podcast:  Proof From Doctor That Bill Gates’ Crazy Cyborg Vaccinations A Threat To Humanity. #DNA #RNA #vaccinations #CDCLied #CDCHoax #BillGatesVaccine #hydrogel #moderna #Cyborg #fraud #eugenics #greed #StopTheCOVIDChaos #Covid_19 #podcast https://t.co/9oxaTR02mn\n",
       "32832                                                                                                 @JustinTrudeau #NewProfilePic This is how my Covid vaccination left me following blood clots and emergency surgery to remove my dead intestines. Not the most flattering of shots!!#vaccineinjuries #bcpoli https://t.co/OkA0c7LB79\n",
       "32833                                                                                                                                      Chinese, American or Russian doesn’t matter I don’t think covid vaccines are really advantageous for our health AT THIS STAGE. Too early to talk and vaccinate ourselves #antivax #AntiVaccine\n",
       "32834                  TOTALITARIANISM SAYS YOUR BODY CAN'T Have Your Choice...\\n\\nAnd in the case of a #woman who isn't #pregnant it is only her #body we would be considering.\\n\\n#covid #covid19 #vaccine #vaccines #vaccinepassport #government #overreach #fascism #civilrights #humanrights #mybodymychoice https://t.co/SJXhG2xcsB\n",
       "Name: text, Length: 32835, dtype: object"
      ]
     },
     "execution_count": 354,
     "metadata": {},
     "output_type": "execute_result"
    }
   ],
   "source": [
    "tweets_labeled['text'].astype(str) # change all values in text column to string"
   ]
  },
  {
   "cell_type": "code",
   "execution_count": 355,
   "id": "dd662135",
   "metadata": {},
   "outputs": [],
   "source": [
    "# 'n_char' and 'n_words' columns\n",
    "tweets_labeled['n_char'] = tweets_labeled['text'].str.len()\n",
    "tweets_labeled['n_words'] = tweets_labeled['text'].map(lambda x: len(x.split(' ')))"
   ]
  },
  {
   "cell_type": "code",
   "execution_count": 356,
   "id": "cb72572d",
   "metadata": {},
   "outputs": [
    {
     "data": {
      "image/png": "[encoded data removed]",
      "text/plain": [
       "<Figure size 1080x360 with 2 Axes>"
      ]
     },
     "metadata": {
      "needs_background": "light"
     },
     "output_type": "display_data"
    }
   ],
   "source": [
    "# 'n_char' distribution\n",
    "fig, axs = plt.subplots(1, 2, figsize = (15, 5), sharey = True, sharex = True)\n",
    "\n",
    "a = tweets_labeled[tweets_labeled['get_vaccine']==0]['n_char'].hist(ax = axs[0], bins=20)\n",
    "b = tweets_labeled[tweets_labeled['get_vaccine']==1]['n_char'].hist(ax = axs[1], bins=20)\n",
    "\n",
    "a.set(title = 'no_vax')\n",
    "b.set(title = 'yes_vax')\n",
    "\n",
    "fig.suptitle('Distribution of tweets by character count');"
   ]
  },
  {
   "cell_type": "markdown",
   "id": "d40a367f",
   "metadata": {},
   "source": [
    "The distribution of the textlength by character count are almost identical in both sets. They are both left skewed with majority of texts in the 300 characters range. "
   ]
  },
  {
   "cell_type": "code",
   "execution_count": 357,
   "id": "206203e7",
   "metadata": {},
   "outputs": [
    {
     "data": {
      "image/png": "[encoded data removed]",
      "text/plain": [
       "<Figure size 1080x360 with 2 Axes>"
      ]
     },
     "metadata": {
      "needs_background": "light"
     },
     "output_type": "display_data"
    }
   ],
   "source": [
    "# 'n_words' distribution\n",
    "fig, axs = plt.subplots(1, 2, figsize = (15, 5), sharey = True, sharex = True)\n",
    "\n",
    "a = tweets_labeled[tweets_labeled['get_vaccine']==0]['n_words'].hist(ax = axs[0], bins=20)\n",
    "b = tweets_labeled[tweets_labeled['get_vaccine']==1]['n_words'].hist(ax = axs[1], bins=20)\n",
    "\n",
    "a.set(title = 'no_vax')\n",
    "b.set(title = 'yes_vax')\n",
    "\n",
    "fig.suptitle('Distribution of tweets by word_labeled count');"
   ]
  },
  {
   "cell_type": "markdown",
   "id": "270ee19f",
   "metadata": {},
   "source": [
    "Again, shapes of the distribution are similar for both classes. There is slightly higher number of texts in 30 words range for pro-twitter users. "
   ]
  },
  {
   "cell_type": "code",
   "execution_count": 358,
   "id": "6bc9dc37",
   "metadata": {},
   "outputs": [
    {
     "data": {
      "text/html": [
       "<div>\n",
       "<style scoped>\n",
       "    .dataframe tbody tr th:only-of-type {\n",
       "        vertical-align: middle;\n",
       "    }\n",
       "\n",
       "    .dataframe tbody tr th {\n",
       "        vertical-align: top;\n",
       "    }\n",
       "\n",
       "    .dataframe thead th {\n",
       "        text-align: right;\n",
       "    }\n",
       "</style>\n",
       "<table border=\"1\" class=\"dataframe\">\n",
       "  <thead>\n",
       "    <tr style=\"text-align: right;\">\n",
       "      <th></th>\n",
       "      <th>n_char</th>\n",
       "      <th>n_words</th>\n",
       "    </tr>\n",
       "  </thead>\n",
       "  <tbody>\n",
       "    <tr>\n",
       "      <th>count</th>\n",
       "      <td>16729.00000</td>\n",
       "      <td>16729.000000</td>\n",
       "    </tr>\n",
       "    <tr>\n",
       "      <th>mean</th>\n",
       "      <td>222.06145</td>\n",
       "      <td>28.663399</td>\n",
       "    </tr>\n",
       "    <tr>\n",
       "      <th>std</th>\n",
       "      <td>68.31110</td>\n",
       "      <td>11.315694</td>\n",
       "    </tr>\n",
       "    <tr>\n",
       "      <th>min</th>\n",
       "      <td>31.00000</td>\n",
       "      <td>3.000000</td>\n",
       "    </tr>\n",
       "    <tr>\n",
       "      <th>25%</th>\n",
       "      <td>170.00000</td>\n",
       "      <td>20.000000</td>\n",
       "    </tr>\n",
       "    <tr>\n",
       "      <th>50%</th>\n",
       "      <td>233.00000</td>\n",
       "      <td>28.000000</td>\n",
       "    </tr>\n",
       "    <tr>\n",
       "      <th>75%</th>\n",
       "      <td>277.00000</td>\n",
       "      <td>37.000000</td>\n",
       "    </tr>\n",
       "    <tr>\n",
       "      <th>max</th>\n",
       "      <td>960.00000</td>\n",
       "      <td>98.000000</td>\n",
       "    </tr>\n",
       "  </tbody>\n",
       "</table>\n",
       "</div>"
      ],
      "text/plain": [
       "            n_char       n_words\n",
       "count  16729.00000  16729.000000\n",
       "mean     222.06145     28.663399\n",
       "std       68.31110     11.315694\n",
       "min       31.00000      3.000000\n",
       "25%      170.00000     20.000000\n",
       "50%      233.00000     28.000000\n",
       "75%      277.00000     37.000000\n",
       "max      960.00000     98.000000"
      ]
     },
     "execution_count": 358,
     "metadata": {},
     "output_type": "execute_result"
    }
   ],
   "source": [
    "# describe\n",
    "no_vax(tweets_labeled)[['n_char', 'n_words']].describe()"
   ]
  },
  {
   "cell_type": "code",
   "execution_count": 359,
   "id": "4f4ee048",
   "metadata": {},
   "outputs": [
    {
     "data": {
      "text/html": [
       "<div>\n",
       "<style scoped>\n",
       "    .dataframe tbody tr th:only-of-type {\n",
       "        vertical-align: middle;\n",
       "    }\n",
       "\n",
       "    .dataframe tbody tr th {\n",
       "        vertical-align: top;\n",
       "    }\n",
       "\n",
       "    .dataframe thead th {\n",
       "        text-align: right;\n",
       "    }\n",
       "</style>\n",
       "<table border=\"1\" class=\"dataframe\">\n",
       "  <thead>\n",
       "    <tr style=\"text-align: right;\">\n",
       "      <th></th>\n",
       "      <th>n_char</th>\n",
       "      <th>n_words</th>\n",
       "    </tr>\n",
       "  </thead>\n",
       "  <tbody>\n",
       "    <tr>\n",
       "      <th>count</th>\n",
       "      <td>16106.000000</td>\n",
       "      <td>16106.000000</td>\n",
       "    </tr>\n",
       "    <tr>\n",
       "      <th>mean</th>\n",
       "      <td>220.604557</td>\n",
       "      <td>28.739166</td>\n",
       "    </tr>\n",
       "    <tr>\n",
       "      <th>std</th>\n",
       "      <td>75.252823</td>\n",
       "      <td>11.383494</td>\n",
       "    </tr>\n",
       "    <tr>\n",
       "      <th>min</th>\n",
       "      <td>25.000000</td>\n",
       "      <td>3.000000</td>\n",
       "    </tr>\n",
       "    <tr>\n",
       "      <th>25%</th>\n",
       "      <td>169.000000</td>\n",
       "      <td>20.000000</td>\n",
       "    </tr>\n",
       "    <tr>\n",
       "      <th>50%</th>\n",
       "      <td>235.000000</td>\n",
       "      <td>29.000000</td>\n",
       "    </tr>\n",
       "    <tr>\n",
       "      <th>75%</th>\n",
       "      <td>277.000000</td>\n",
       "      <td>37.000000</td>\n",
       "    </tr>\n",
       "    <tr>\n",
       "      <th>max</th>\n",
       "      <td>985.000000</td>\n",
       "      <td>118.000000</td>\n",
       "    </tr>\n",
       "  </tbody>\n",
       "</table>\n",
       "</div>"
      ],
      "text/plain": [
       "             n_char       n_words\n",
       "count  16106.000000  16106.000000\n",
       "mean     220.604557     28.739166\n",
       "std       75.252823     11.383494\n",
       "min       25.000000      3.000000\n",
       "25%      169.000000     20.000000\n",
       "50%      235.000000     29.000000\n",
       "75%      277.000000     37.000000\n",
       "max      985.000000    118.000000"
      ]
     },
     "execution_count": 359,
     "metadata": {},
     "output_type": "execute_result"
    }
   ],
   "source": [
    "yes_vax(tweets_labeled)[['n_char', 'n_words']].describe()"
   ]
  },
  {
   "cell_type": "markdown",
   "id": "33ab0aa7",
   "metadata": {},
   "source": [
    "Even with qualitative judgement without statistical testing, the number of characters and number of words between the two classes are very similar. With a big chance, these features are unlikely to help us classify between the two classes. "
   ]
  },
  {
   "cell_type": "markdown",
   "id": "6268b0a2",
   "metadata": {},
   "source": [
    "* **Hashtags**"
   ]
  },
  {
   "cell_type": "markdown",
   "id": "84dd69d5",
   "metadata": {},
   "source": [
    "Hashtags should be different in the two, considering that the data was labeled using hashtag features. However, there should be other hashtags associated with each class, that were not included in the list of hashtags used to label the data. "
   ]
  },
  {
   "cell_type": "code",
   "execution_count": 360,
   "id": "726932bf",
   "metadata": {},
   "outputs": [],
   "source": [
    "# extract hashtags using regex patterns, # followed by the hashtag\n",
    "tweets_labeled['hashtag'] = tweets_labeled['text'].apply(lambda x: re.findall(r\"#(\\w+)\", x))"
   ]
  },
  {
   "cell_type": "code",
   "execution_count": 361,
   "id": "cfad2435",
   "metadata": {},
   "outputs": [
    {
     "data": {
      "text/html": [
       "<div>\n",
       "<style scoped>\n",
       "    .dataframe tbody tr th:only-of-type {\n",
       "        vertical-align: middle;\n",
       "    }\n",
       "\n",
       "    .dataframe tbody tr th {\n",
       "        vertical-align: top;\n",
       "    }\n",
       "\n",
       "    .dataframe thead th {\n",
       "        text-align: right;\n",
       "    }\n",
       "</style>\n",
       "<table border=\"1\" class=\"dataframe\">\n",
       "  <thead>\n",
       "    <tr style=\"text-align: right;\">\n",
       "      <th></th>\n",
       "      <th>datetime</th>\n",
       "      <th>tweet_id</th>\n",
       "      <th>username</th>\n",
       "      <th>text</th>\n",
       "      <th>likes</th>\n",
       "      <th>retweet</th>\n",
       "      <th>get_vaccine</th>\n",
       "      <th>n_char</th>\n",
       "      <th>n_words</th>\n",
       "      <th>hashtag</th>\n",
       "    </tr>\n",
       "  </thead>\n",
       "  <tbody>\n",
       "    <tr>\n",
       "      <th>0</th>\n",
       "      <td>2021-10-16 13:26:08+00:00</td>\n",
       "      <td>1.449366e+18</td>\n",
       "      <td>ColoradoMounta8</td>\n",
       "      <td>Thank you @GovBillLee for sticking up for common sense!  #MedicalFreedom #Tennessee\\n\"Tennessee legislators looking to call special session on COVID restrictions\" https://t.co/cUwPdcD5Yx</td>\n",
       "      <td>3.0</td>\n",
       "      <td>2.0</td>\n",
       "      <td>0</td>\n",
       "      <td>185</td>\n",
       "      <td>22</td>\n",
       "      <td>[MedicalFreedom, Tennessee]</td>\n",
       "    </tr>\n",
       "    <tr>\n",
       "      <th>1</th>\n",
       "      <td>2022-08-01 01:29:50+00:00</td>\n",
       "      <td>1.553916e+18</td>\n",
       "      <td>GeoffyPJohnston</td>\n",
       "      <td>When anti-Vaxxers tweet #vaccineinjuries at you, remind them that more than 18 million people around the world had died of COVID-19 by the end of 2021. Also point out that COVID vaccines saved an estimated 20 million lives in the first year. Get vaccinated. Vaccinate your kids. https://t.co/Ld9ToqLcX1</td>\n",
       "      <td>7.0</td>\n",
       "      <td>3.0</td>\n",
       "      <td>0</td>\n",
       "      <td>302</td>\n",
       "      <td>48</td>\n",
       "      <td>[vaccineinjuries]</td>\n",
       "    </tr>\n",
       "    <tr>\n",
       "      <th>2</th>\n",
       "      <td>2021-07-29 18:38:33+00:00</td>\n",
       "      <td>1.420816e+18</td>\n",
       "      <td>tobybhowes</td>\n",
       "      <td>@GregoryDavisHNH @beverleyturner @JamesfWells your #naivety is breath-taking. you think removing #freedoms for #unvaccinated &amp;amp; £325 million spent on #Jab marketing fits within the #Legal framework of #InformedConsent ? ... the patient / recipient should not feel coerced or pressurised etc. #COVID19 #Olympics #COVID</td>\n",
       "      <td>1.0</td>\n",
       "      <td>0.0</td>\n",
       "      <td>0</td>\n",
       "      <td>320</td>\n",
       "      <td>43</td>\n",
       "      <td>[naivety, freedoms, unvaccinated, Jab, Legal, InformedConsent, COVID19, Olympics, COVID]</td>\n",
       "    </tr>\n",
       "  </tbody>\n",
       "</table>\n",
       "</div>"
      ],
      "text/plain": [
       "                    datetime      tweet_id         username  \\\n",
       "0  2021-10-16 13:26:08+00:00  1.449366e+18  ColoradoMounta8   \n",
       "1  2022-08-01 01:29:50+00:00  1.553916e+18  GeoffyPJohnston   \n",
       "2  2021-07-29 18:38:33+00:00  1.420816e+18       tobybhowes   \n",
       "\n",
       "                                                                                                                                                                                                                                                                                                                               text  \\\n",
       "0                                                                                                                                        Thank you @GovBillLee for sticking up for common sense!  #MedicalFreedom #Tennessee\\n\"Tennessee legislators looking to call special session on COVID restrictions\" https://t.co/cUwPdcD5Yx   \n",
       "1                    When anti-Vaxxers tweet #vaccineinjuries at you, remind them that more than 18 million people around the world had died of COVID-19 by the end of 2021. Also point out that COVID vaccines saved an estimated 20 million lives in the first year. Get vaccinated. Vaccinate your kids. https://t.co/Ld9ToqLcX1   \n",
       "2  @GregoryDavisHNH @beverleyturner @JamesfWells your #naivety is breath-taking. you think removing #freedoms for #unvaccinated &amp; £325 million spent on #Jab marketing fits within the #Legal framework of #InformedConsent ? ... the patient / recipient should not feel coerced or pressurised etc. #COVID19 #Olympics #COVID   \n",
       "\n",
       "   likes  retweet  get_vaccine  n_char  n_words  \\\n",
       "0    3.0      2.0            0     185       22   \n",
       "1    7.0      3.0            0     302       48   \n",
       "2    1.0      0.0            0     320       43   \n",
       "\n",
       "                                                                                    hashtag  \n",
       "0                                                               [MedicalFreedom, Tennessee]  \n",
       "1                                                                         [vaccineinjuries]  \n",
       "2  [naivety, freedoms, unvaccinated, Jab, Legal, InformedConsent, COVID19, Olympics, COVID]  "
      ]
     },
     "execution_count": 361,
     "metadata": {},
     "output_type": "execute_result"
    }
   ],
   "source": [
    "tweets_labeled.head(3)"
   ]
  },
  {
   "cell_type": "code",
   "execution_count": 362,
   "id": "30c2051b",
   "metadata": {},
   "outputs": [],
   "source": [
    "# filter out the hashtags used for labeling\n",
    "\n",
    "# Reading and listing no_vac hashtags\n",
    "file = open(\"../data/antivax_hashtags.txt\", \"r\")\n",
    "data = file.read()\n",
    "antivax_hash = data.split(\"\\n\")\n",
    "file.close()\n",
    "\n",
    "# Reading and listing yes_vac hashtags\n",
    "file = open(\"../data/provax_hashtags.txt\", \"r\")\n",
    "data = file.read()\n",
    "provax_hash = data.split(\"\\n\")\n",
    "file.close()"
   ]
  },
  {
   "cell_type": "code",
   "execution_count": 363,
   "id": "9200a6fe",
   "metadata": {},
   "outputs": [],
   "source": [
    "label_hashtags = antivax_hash + provax_hash"
   ]
  },
  {
   "cell_type": "code",
   "execution_count": 364,
   "id": "72112ce0",
   "metadata": {},
   "outputs": [],
   "source": [
    "# loop over each index of the tweets\n",
    "for i in tweets_labeled.index:\n",
    "    \n",
    "    # call the hashtag list\n",
    "    hashtags = tweets_labeled['hashtag'][i]\n",
    "    hashtag_remove = []\n",
    "    \n",
    "    # loop over each hashtag in the hashtags list\n",
    "    for hashtag in hashtags:\n",
    "        # check if the hashtag is part of the hashtags used for labeling the data and remove if True\n",
    "        if hashtag in label_hashtags:\n",
    "            hashtag_remove.append(hashtag)\n",
    "    \n",
    "    # update the hashtags column\n",
    "    hashtags = [hashtag for hashtag in hashtags if hashtag not in hashtag_remove]\n",
    "    tweets_labeled.at[i, 'hashtag'] = hashtags"
   ]
  },
  {
   "cell_type": "code",
   "execution_count": 365,
   "id": "bb04e585",
   "metadata": {},
   "outputs": [],
   "source": [
    "# counts of different hashtags in each label\n",
    "\n",
    "# no_vax\n",
    "hash_no = {}\n",
    "\n",
    "for i in no_vax(tweets_labeled).index:\n",
    "    for item in no_vax(tweets_labeled)['hashtag'][i]:\n",
    "        if item not in hash_no.keys():\n",
    "            hash_no[item] = 0\n",
    "        \n",
    "        hash_no[item] += 1\n",
    "        \n",
    "# yes_vax\n",
    "hash_yes = {}\n",
    "\n",
    "for i in yes_vax(tweets_labeled).index:\n",
    "    for item in yes_vax(tweets_labeled)['hashtag'][i]:\n",
    "        if item not in hash_yes.keys():\n",
    "            hash_yes[item] = 0\n",
    "        \n",
    "        hash_yes[item] += 1"
   ]
  },
  {
   "cell_type": "code",
   "execution_count": 366,
   "id": "344faeec",
   "metadata": {},
   "outputs": [],
   "source": [
    "hash_no_df = pd.DataFrame(hash_no.values(), index=hash_no.keys(), columns=['n'])\n",
    "hash_yes_df = pd.DataFrame(hash_yes.values(), index=hash_yes.keys(), columns=['n'])"
   ]
  },
  {
   "cell_type": "code",
   "execution_count": 367,
   "id": "4da09e3d",
   "metadata": {
    "scrolled": false
   },
   "outputs": [
    {
     "data": {
      "text/html": [
       "<div>\n",
       "<style scoped>\n",
       "    .dataframe tbody tr th:only-of-type {\n",
       "        vertical-align: middle;\n",
       "    }\n",
       "\n",
       "    .dataframe tbody tr th {\n",
       "        vertical-align: top;\n",
       "    }\n",
       "\n",
       "    .dataframe thead th {\n",
       "        text-align: right;\n",
       "    }\n",
       "</style>\n",
       "<table border=\"1\" class=\"dataframe\">\n",
       "  <thead>\n",
       "    <tr style=\"text-align: right;\">\n",
       "      <th></th>\n",
       "      <th>n</th>\n",
       "    </tr>\n",
       "  </thead>\n",
       "  <tbody>\n",
       "    <tr>\n",
       "      <th>COVID</th>\n",
       "      <td>2239</td>\n",
       "    </tr>\n",
       "    <tr>\n",
       "      <th>COVID19</th>\n",
       "      <td>2032</td>\n",
       "    </tr>\n",
       "    <tr>\n",
       "      <th>Covid_19</th>\n",
       "      <td>1680</td>\n",
       "    </tr>\n",
       "    <tr>\n",
       "      <th>covid</th>\n",
       "      <td>1375</td>\n",
       "    </tr>\n",
       "    <tr>\n",
       "      <th>NoVaccineMandates</th>\n",
       "      <td>1060</td>\n",
       "    </tr>\n",
       "    <tr>\n",
       "      <th>...</th>\n",
       "      <td>...</td>\n",
       "    </tr>\n",
       "    <tr>\n",
       "      <th>sparspandemic</th>\n",
       "      <td>1</td>\n",
       "    </tr>\n",
       "    <tr>\n",
       "      <th>xbox</th>\n",
       "      <td>1</td>\n",
       "    </tr>\n",
       "    <tr>\n",
       "      <th>nfl</th>\n",
       "      <td>1</td>\n",
       "    </tr>\n",
       "    <tr>\n",
       "      <th>lions</th>\n",
       "      <td>1</td>\n",
       "    </tr>\n",
       "    <tr>\n",
       "      <th>pregnant</th>\n",
       "      <td>1</td>\n",
       "    </tr>\n",
       "  </tbody>\n",
       "</table>\n",
       "<p>13297 rows × 1 columns</p>\n",
       "</div>"
      ],
      "text/plain": [
       "                      n\n",
       "COVID              2239\n",
       "COVID19            2032\n",
       "Covid_19           1680\n",
       "covid              1375\n",
       "NoVaccineMandates  1060\n",
       "...                 ...\n",
       "sparspandemic         1\n",
       "xbox                  1\n",
       "nfl                   1\n",
       "lions                 1\n",
       "pregnant              1\n",
       "\n",
       "[13297 rows x 1 columns]"
      ]
     },
     "execution_count": 367,
     "metadata": {},
     "output_type": "execute_result"
    }
   ],
   "source": [
    "hash_no_df.sort_values(\"n\", ascending=False)"
   ]
  },
  {
   "cell_type": "code",
   "execution_count": 368,
   "id": "47675d7a",
   "metadata": {},
   "outputs": [
    {
     "data": {
      "text/html": [
       "<div>\n",
       "<style scoped>\n",
       "    .dataframe tbody tr th:only-of-type {\n",
       "        vertical-align: middle;\n",
       "    }\n",
       "\n",
       "    .dataframe tbody tr th {\n",
       "        vertical-align: top;\n",
       "    }\n",
       "\n",
       "    .dataframe thead th {\n",
       "        text-align: right;\n",
       "    }\n",
       "</style>\n",
       "<table border=\"1\" class=\"dataframe\">\n",
       "  <thead>\n",
       "    <tr style=\"text-align: right;\">\n",
       "      <th></th>\n",
       "      <th>n</th>\n",
       "    </tr>\n",
       "  </thead>\n",
       "  <tbody>\n",
       "    <tr>\n",
       "      <th>COVID19</th>\n",
       "      <td>2832</td>\n",
       "    </tr>\n",
       "    <tr>\n",
       "      <th>COVID</th>\n",
       "      <td>2336</td>\n",
       "    </tr>\n",
       "    <tr>\n",
       "      <th>covid</th>\n",
       "      <td>1423</td>\n",
       "    </tr>\n",
       "    <tr>\n",
       "      <th>IndiaFightsCorona</th>\n",
       "      <td>1245</td>\n",
       "    </tr>\n",
       "    <tr>\n",
       "      <th>Covid_19</th>\n",
       "      <td>1145</td>\n",
       "    </tr>\n",
       "    <tr>\n",
       "      <th>...</th>\n",
       "      <td>...</td>\n",
       "    </tr>\n",
       "    <tr>\n",
       "      <th>sycophants</th>\n",
       "      <td>1</td>\n",
       "    </tr>\n",
       "    <tr>\n",
       "      <th>DrSameerBhati</th>\n",
       "      <td>1</td>\n",
       "    </tr>\n",
       "    <tr>\n",
       "      <th>Hindustanmerijaan</th>\n",
       "      <td>1</td>\n",
       "    </tr>\n",
       "    <tr>\n",
       "      <th>information</th>\n",
       "      <td>1</td>\n",
       "    </tr>\n",
       "    <tr>\n",
       "      <th>coviddeaths</th>\n",
       "      <td>1</td>\n",
       "    </tr>\n",
       "  </tbody>\n",
       "</table>\n",
       "<p>9525 rows × 1 columns</p>\n",
       "</div>"
      ],
      "text/plain": [
       "                      n\n",
       "COVID19            2832\n",
       "COVID              2336\n",
       "covid              1423\n",
       "IndiaFightsCorona  1245\n",
       "Covid_19           1145\n",
       "...                 ...\n",
       "sycophants            1\n",
       "DrSameerBhati         1\n",
       "Hindustanmerijaan     1\n",
       "information           1\n",
       "coviddeaths           1\n",
       "\n",
       "[9525 rows x 1 columns]"
      ]
     },
     "execution_count": 368,
     "metadata": {},
     "output_type": "execute_result"
    }
   ],
   "source": [
    "hash_yes_df.sort_values(\"n\", ascending=False)"
   ]
  },
  {
   "cell_type": "code",
   "execution_count": 369,
   "id": "bc8a85d9",
   "metadata": {},
   "outputs": [
    {
     "data": {
      "text/html": [
       "<div>\n",
       "<style scoped>\n",
       "    .dataframe tbody tr th:only-of-type {\n",
       "        vertical-align: middle;\n",
       "    }\n",
       "\n",
       "    .dataframe tbody tr th {\n",
       "        vertical-align: top;\n",
       "    }\n",
       "\n",
       "    .dataframe thead th {\n",
       "        text-align: right;\n",
       "    }\n",
       "</style>\n",
       "<table border=\"1\" class=\"dataframe\">\n",
       "  <thead>\n",
       "    <tr style=\"text-align: right;\">\n",
       "      <th></th>\n",
       "      <th>n</th>\n",
       "    </tr>\n",
       "  </thead>\n",
       "  <tbody>\n",
       "    <tr>\n",
       "      <th>count</th>\n",
       "      <td>13297.000000</td>\n",
       "    </tr>\n",
       "    <tr>\n",
       "      <th>mean</th>\n",
       "      <td>5.118673</td>\n",
       "    </tr>\n",
       "    <tr>\n",
       "      <th>std</th>\n",
       "      <td>42.511758</td>\n",
       "    </tr>\n",
       "    <tr>\n",
       "      <th>min</th>\n",
       "      <td>1.000000</td>\n",
       "    </tr>\n",
       "    <tr>\n",
       "      <th>25%</th>\n",
       "      <td>1.000000</td>\n",
       "    </tr>\n",
       "    <tr>\n",
       "      <th>50%</th>\n",
       "      <td>1.000000</td>\n",
       "    </tr>\n",
       "    <tr>\n",
       "      <th>75%</th>\n",
       "      <td>2.000000</td>\n",
       "    </tr>\n",
       "    <tr>\n",
       "      <th>max</th>\n",
       "      <td>2239.000000</td>\n",
       "    </tr>\n",
       "  </tbody>\n",
       "</table>\n",
       "</div>"
      ],
      "text/plain": [
       "                  n\n",
       "count  13297.000000\n",
       "mean       5.118673\n",
       "std       42.511758\n",
       "min        1.000000\n",
       "25%        1.000000\n",
       "50%        1.000000\n",
       "75%        2.000000\n",
       "max     2239.000000"
      ]
     },
     "execution_count": 369,
     "metadata": {},
     "output_type": "execute_result"
    }
   ],
   "source": [
    "hash_no_df.describe()"
   ]
  },
  {
   "cell_type": "code",
   "execution_count": 370,
   "id": "e50b33e5",
   "metadata": {},
   "outputs": [
    {
     "data": {
      "text/html": [
       "<div>\n",
       "<style scoped>\n",
       "    .dataframe tbody tr th:only-of-type {\n",
       "        vertical-align: middle;\n",
       "    }\n",
       "\n",
       "    .dataframe tbody tr th {\n",
       "        vertical-align: top;\n",
       "    }\n",
       "\n",
       "    .dataframe thead th {\n",
       "        text-align: right;\n",
       "    }\n",
       "</style>\n",
       "<table border=\"1\" class=\"dataframe\">\n",
       "  <thead>\n",
       "    <tr style=\"text-align: right;\">\n",
       "      <th></th>\n",
       "      <th>n</th>\n",
       "    </tr>\n",
       "  </thead>\n",
       "  <tbody>\n",
       "    <tr>\n",
       "      <th>count</th>\n",
       "      <td>9525.000000</td>\n",
       "    </tr>\n",
       "    <tr>\n",
       "      <th>mean</th>\n",
       "      <td>5.367979</td>\n",
       "    </tr>\n",
       "    <tr>\n",
       "      <th>std</th>\n",
       "      <td>51.161350</td>\n",
       "    </tr>\n",
       "    <tr>\n",
       "      <th>min</th>\n",
       "      <td>1.000000</td>\n",
       "    </tr>\n",
       "    <tr>\n",
       "      <th>25%</th>\n",
       "      <td>1.000000</td>\n",
       "    </tr>\n",
       "    <tr>\n",
       "      <th>50%</th>\n",
       "      <td>1.000000</td>\n",
       "    </tr>\n",
       "    <tr>\n",
       "      <th>75%</th>\n",
       "      <td>2.000000</td>\n",
       "    </tr>\n",
       "    <tr>\n",
       "      <th>max</th>\n",
       "      <td>2832.000000</td>\n",
       "    </tr>\n",
       "  </tbody>\n",
       "</table>\n",
       "</div>"
      ],
      "text/plain": [
       "                 n\n",
       "count  9525.000000\n",
       "mean      5.367979\n",
       "std      51.161350\n",
       "min       1.000000\n",
       "25%       1.000000\n",
       "50%       1.000000\n",
       "75%       2.000000\n",
       "max    2832.000000"
      ]
     },
     "execution_count": 370,
     "metadata": {},
     "output_type": "execute_result"
    }
   ],
   "source": [
    "hash_yes_df.describe()"
   ]
  },
  {
   "cell_type": "markdown",
   "id": "0f2e179c",
   "metadata": {},
   "source": [
    "For both of the classes, majority of the hashtags do not appear more than once. 25% of the hashtags appear more than twice. "
   ]
  },
  {
   "cell_type": "code",
   "execution_count": 371,
   "id": "c5687219",
   "metadata": {},
   "outputs": [
    {
     "data": {
      "text/html": [
       "<div>\n",
       "<style scoped>\n",
       "    .dataframe tbody tr th:only-of-type {\n",
       "        vertical-align: middle;\n",
       "    }\n",
       "\n",
       "    .dataframe tbody tr th {\n",
       "        vertical-align: top;\n",
       "    }\n",
       "\n",
       "    .dataframe thead th {\n",
       "        text-align: right;\n",
       "    }\n",
       "</style>\n",
       "<table border=\"1\" class=\"dataframe\">\n",
       "  <thead>\n",
       "    <tr style=\"text-align: right;\">\n",
       "      <th></th>\n",
       "      <th>n</th>\n",
       "    </tr>\n",
       "  </thead>\n",
       "  <tbody>\n",
       "    <tr>\n",
       "      <th>COVID</th>\n",
       "      <td>2239</td>\n",
       "    </tr>\n",
       "    <tr>\n",
       "      <th>COVID19</th>\n",
       "      <td>2032</td>\n",
       "    </tr>\n",
       "    <tr>\n",
       "      <th>Covid_19</th>\n",
       "      <td>1680</td>\n",
       "    </tr>\n",
       "    <tr>\n",
       "      <th>covid</th>\n",
       "      <td>1375</td>\n",
       "    </tr>\n",
       "    <tr>\n",
       "      <th>NoVaccineMandates</th>\n",
       "      <td>1060</td>\n",
       "    </tr>\n",
       "    <tr>\n",
       "      <th>vaccine</th>\n",
       "      <td>1047</td>\n",
       "    </tr>\n",
       "    <tr>\n",
       "      <th>Covid</th>\n",
       "      <td>1001</td>\n",
       "    </tr>\n",
       "    <tr>\n",
       "      <th>coronavirus</th>\n",
       "      <td>873</td>\n",
       "    </tr>\n",
       "    <tr>\n",
       "      <th>InformedConsent</th>\n",
       "      <td>748</td>\n",
       "    </tr>\n",
       "    <tr>\n",
       "      <th>AntiVaccine</th>\n",
       "      <td>636</td>\n",
       "    </tr>\n",
       "    <tr>\n",
       "      <th>vaccines</th>\n",
       "      <td>549</td>\n",
       "    </tr>\n",
       "    <tr>\n",
       "      <th>MyBodyMyChoice</th>\n",
       "      <td>545</td>\n",
       "    </tr>\n",
       "    <tr>\n",
       "      <th>ExposeBillGates</th>\n",
       "      <td>539</td>\n",
       "    </tr>\n",
       "    <tr>\n",
       "      <th>NoVaccinePassports</th>\n",
       "      <td>528</td>\n",
       "    </tr>\n",
       "    <tr>\n",
       "      <th>VaccineSideEffects</th>\n",
       "      <td>513</td>\n",
       "    </tr>\n",
       "    <tr>\n",
       "      <th>MedicalFreedom</th>\n",
       "      <td>503</td>\n",
       "    </tr>\n",
       "    <tr>\n",
       "      <th>IDoNotConsent</th>\n",
       "      <td>484</td>\n",
       "    </tr>\n",
       "    <tr>\n",
       "      <th>BillGates</th>\n",
       "      <td>461</td>\n",
       "    </tr>\n",
       "    <tr>\n",
       "      <th>covid19</th>\n",
       "      <td>450</td>\n",
       "    </tr>\n",
       "    <tr>\n",
       "      <th>VaccineInjury</th>\n",
       "      <td>419</td>\n",
       "    </tr>\n",
       "  </tbody>\n",
       "</table>\n",
       "</div>"
      ],
      "text/plain": [
       "                       n\n",
       "COVID               2239\n",
       "COVID19             2032\n",
       "Covid_19            1680\n",
       "covid               1375\n",
       "NoVaccineMandates   1060\n",
       "vaccine             1047\n",
       "Covid               1001\n",
       "coronavirus          873\n",
       "InformedConsent      748\n",
       "AntiVaccine          636\n",
       "vaccines             549\n",
       "MyBodyMyChoice       545\n",
       "ExposeBillGates      539\n",
       "NoVaccinePassports   528\n",
       "VaccineSideEffects   513\n",
       "MedicalFreedom       503\n",
       "IDoNotConsent        484\n",
       "BillGates            461\n",
       "covid19              450\n",
       "VaccineInjury        419"
      ]
     },
     "execution_count": 371,
     "metadata": {},
     "output_type": "execute_result"
    }
   ],
   "source": [
    "hash_no_df.sort_values('n', ascending=False).head(20)"
   ]
  },
  {
   "cell_type": "code",
   "execution_count": 372,
   "id": "fdb31df6",
   "metadata": {},
   "outputs": [
    {
     "data": {
      "text/html": [
       "<div>\n",
       "<style scoped>\n",
       "    .dataframe tbody tr th:only-of-type {\n",
       "        vertical-align: middle;\n",
       "    }\n",
       "\n",
       "    .dataframe tbody tr th {\n",
       "        vertical-align: top;\n",
       "    }\n",
       "\n",
       "    .dataframe thead th {\n",
       "        text-align: right;\n",
       "    }\n",
       "</style>\n",
       "<table border=\"1\" class=\"dataframe\">\n",
       "  <thead>\n",
       "    <tr style=\"text-align: right;\">\n",
       "      <th></th>\n",
       "      <th>n</th>\n",
       "    </tr>\n",
       "  </thead>\n",
       "  <tbody>\n",
       "    <tr>\n",
       "      <th>COVID19</th>\n",
       "      <td>2832</td>\n",
       "    </tr>\n",
       "    <tr>\n",
       "      <th>COVID</th>\n",
       "      <td>2336</td>\n",
       "    </tr>\n",
       "    <tr>\n",
       "      <th>covid</th>\n",
       "      <td>1423</td>\n",
       "    </tr>\n",
       "    <tr>\n",
       "      <th>IndiaFightsCorona</th>\n",
       "      <td>1245</td>\n",
       "    </tr>\n",
       "    <tr>\n",
       "      <th>Covid_19</th>\n",
       "      <td>1145</td>\n",
       "    </tr>\n",
       "    <tr>\n",
       "      <th>Unite2FightCorona</th>\n",
       "      <td>1000</td>\n",
       "    </tr>\n",
       "    <tr>\n",
       "      <th>Covid</th>\n",
       "      <td>811</td>\n",
       "    </tr>\n",
       "    <tr>\n",
       "      <th>vaccine</th>\n",
       "      <td>686</td>\n",
       "    </tr>\n",
       "    <tr>\n",
       "      <th>StaySafe</th>\n",
       "      <td>679</td>\n",
       "    </tr>\n",
       "    <tr>\n",
       "      <th>covidvaccine</th>\n",
       "      <td>659</td>\n",
       "    </tr>\n",
       "    <tr>\n",
       "      <th>covid19</th>\n",
       "      <td>566</td>\n",
       "    </tr>\n",
       "    <tr>\n",
       "      <th>GetVaccinated</th>\n",
       "      <td>473</td>\n",
       "    </tr>\n",
       "    <tr>\n",
       "      <th>vaccination</th>\n",
       "      <td>454</td>\n",
       "    </tr>\n",
       "    <tr>\n",
       "      <th>Vaccinated</th>\n",
       "      <td>417</td>\n",
       "    </tr>\n",
       "    <tr>\n",
       "      <th>LargestVaccinationDrive</th>\n",
       "      <td>381</td>\n",
       "    </tr>\n",
       "    <tr>\n",
       "      <th>coronavirus</th>\n",
       "      <td>363</td>\n",
       "    </tr>\n",
       "    <tr>\n",
       "      <th>healthcare</th>\n",
       "      <td>360</td>\n",
       "    </tr>\n",
       "    <tr>\n",
       "      <th>COVIDisAirborne</th>\n",
       "      <td>337</td>\n",
       "    </tr>\n",
       "    <tr>\n",
       "      <th>COVIDAppropriateBehaviour</th>\n",
       "      <td>332</td>\n",
       "    </tr>\n",
       "    <tr>\n",
       "      <th>Covid19</th>\n",
       "      <td>291</td>\n",
       "    </tr>\n",
       "  </tbody>\n",
       "</table>\n",
       "</div>"
      ],
      "text/plain": [
       "                              n\n",
       "COVID19                    2832\n",
       "COVID                      2336\n",
       "covid                      1423\n",
       "IndiaFightsCorona          1245\n",
       "Covid_19                   1145\n",
       "Unite2FightCorona          1000\n",
       "Covid                       811\n",
       "vaccine                     686\n",
       "StaySafe                    679\n",
       "covidvaccine                659\n",
       "covid19                     566\n",
       "GetVaccinated               473\n",
       "vaccination                 454\n",
       "Vaccinated                  417\n",
       "LargestVaccinationDrive     381\n",
       "coronavirus                 363\n",
       "healthcare                  360\n",
       "COVIDisAirborne             337\n",
       "COVIDAppropriateBehaviour   332\n",
       "Covid19                     291"
      ]
     },
     "execution_count": 372,
     "metadata": {},
     "output_type": "execute_result"
    }
   ],
   "source": [
    "hash_yes_df.sort_values('n', ascending=False).head(20)"
   ]
  },
  {
   "cell_type": "code",
   "execution_count": 373,
   "id": "5089dee5",
   "metadata": {},
   "outputs": [],
   "source": [
    "hash_no_df = hash_no_df.sort_values('n', ascending=False).head(20)\n",
    "hash_yes_df = hash_yes_df.sort_values('n', ascending=False).head(20)"
   ]
  },
  {
   "cell_type": "markdown",
   "id": "b98fdf18",
   "metadata": {},
   "source": [
    "I picked top 20 hashtags from each class. The least mentioned hashtag \"COVIDAppropriateBehaviour\" is mentioned in about 1% of the whole dataset. hashtags mentioned less than 1% will not be considered, as it likely does not contribute to classifying the class a lot."
   ]
  },
  {
   "cell_type": "code",
   "execution_count": 374,
   "id": "94f1e3a1",
   "metadata": {},
   "outputs": [
    {
     "data": {
      "text/plain": [
       "['COVID',\n",
       " 'covid19',\n",
       " 'Covid',\n",
       " 'coronavirus',\n",
       " 'vaccine',\n",
       " 'covid',\n",
       " 'COVID19',\n",
       " 'Covid_19']"
      ]
     },
     "execution_count": 374,
     "metadata": {},
     "output_type": "execute_result"
    }
   ],
   "source": [
    "# remove overlap to see hashtags exclusive to each set\n",
    "overlap = list(set(hash_no_df.index).intersection(set(hash_yes_df.index)))\n",
    "overlap"
   ]
  },
  {
   "cell_type": "code",
   "execution_count": 375,
   "id": "721361d7",
   "metadata": {},
   "outputs": [],
   "source": [
    "# Drop the overlapping hashtags as they are general covid terms regardless of anti or pro vaccine. \n",
    "hash_no_df = hash_no_df.drop(index=overlap).sort_values('n', ascending=False)\n",
    "hash_yes_df = hash_yes_df.drop(index=overlap).sort_values('n', ascending=False)"
   ]
  },
  {
   "cell_type": "code",
   "execution_count": 376,
   "id": "186c2320",
   "metadata": {},
   "outputs": [
    {
     "data": {
      "text/html": [
       "<div>\n",
       "<style scoped>\n",
       "    .dataframe tbody tr th:only-of-type {\n",
       "        vertical-align: middle;\n",
       "    }\n",
       "\n",
       "    .dataframe tbody tr th {\n",
       "        vertical-align: top;\n",
       "    }\n",
       "\n",
       "    .dataframe thead th {\n",
       "        text-align: right;\n",
       "    }\n",
       "</style>\n",
       "<table border=\"1\" class=\"dataframe\">\n",
       "  <thead>\n",
       "    <tr style=\"text-align: right;\">\n",
       "      <th></th>\n",
       "      <th>n</th>\n",
       "    </tr>\n",
       "  </thead>\n",
       "  <tbody>\n",
       "    <tr>\n",
       "      <th>NoVaccineMandates</th>\n",
       "      <td>1060</td>\n",
       "    </tr>\n",
       "    <tr>\n",
       "      <th>InformedConsent</th>\n",
       "      <td>748</td>\n",
       "    </tr>\n",
       "    <tr>\n",
       "      <th>AntiVaccine</th>\n",
       "      <td>636</td>\n",
       "    </tr>\n",
       "    <tr>\n",
       "      <th>vaccines</th>\n",
       "      <td>549</td>\n",
       "    </tr>\n",
       "    <tr>\n",
       "      <th>MyBodyMyChoice</th>\n",
       "      <td>545</td>\n",
       "    </tr>\n",
       "    <tr>\n",
       "      <th>ExposeBillGates</th>\n",
       "      <td>539</td>\n",
       "    </tr>\n",
       "    <tr>\n",
       "      <th>NoVaccinePassports</th>\n",
       "      <td>528</td>\n",
       "    </tr>\n",
       "    <tr>\n",
       "      <th>VaccineSideEffects</th>\n",
       "      <td>513</td>\n",
       "    </tr>\n",
       "    <tr>\n",
       "      <th>MedicalFreedom</th>\n",
       "      <td>503</td>\n",
       "    </tr>\n",
       "    <tr>\n",
       "      <th>IDoNotConsent</th>\n",
       "      <td>484</td>\n",
       "    </tr>\n",
       "    <tr>\n",
       "      <th>BillGates</th>\n",
       "      <td>461</td>\n",
       "    </tr>\n",
       "    <tr>\n",
       "      <th>VaccineInjury</th>\n",
       "      <td>419</td>\n",
       "    </tr>\n",
       "  </tbody>\n",
       "</table>\n",
       "</div>"
      ],
      "text/plain": [
       "                       n\n",
       "NoVaccineMandates   1060\n",
       "InformedConsent      748\n",
       "AntiVaccine          636\n",
       "vaccines             549\n",
       "MyBodyMyChoice       545\n",
       "ExposeBillGates      539\n",
       "NoVaccinePassports   528\n",
       "VaccineSideEffects   513\n",
       "MedicalFreedom       503\n",
       "IDoNotConsent        484\n",
       "BillGates            461\n",
       "VaccineInjury        419"
      ]
     },
     "execution_count": 376,
     "metadata": {},
     "output_type": "execute_result"
    }
   ],
   "source": [
    "hash_no_df"
   ]
  },
  {
   "cell_type": "code",
   "execution_count": 377,
   "id": "c1a4115b",
   "metadata": {},
   "outputs": [
    {
     "data": {
      "text/html": [
       "<div>\n",
       "<style scoped>\n",
       "    .dataframe tbody tr th:only-of-type {\n",
       "        vertical-align: middle;\n",
       "    }\n",
       "\n",
       "    .dataframe tbody tr th {\n",
       "        vertical-align: top;\n",
       "    }\n",
       "\n",
       "    .dataframe thead th {\n",
       "        text-align: right;\n",
       "    }\n",
       "</style>\n",
       "<table border=\"1\" class=\"dataframe\">\n",
       "  <thead>\n",
       "    <tr style=\"text-align: right;\">\n",
       "      <th></th>\n",
       "      <th>n</th>\n",
       "    </tr>\n",
       "  </thead>\n",
       "  <tbody>\n",
       "    <tr>\n",
       "      <th>IndiaFightsCorona</th>\n",
       "      <td>1245</td>\n",
       "    </tr>\n",
       "    <tr>\n",
       "      <th>Unite2FightCorona</th>\n",
       "      <td>1000</td>\n",
       "    </tr>\n",
       "    <tr>\n",
       "      <th>StaySafe</th>\n",
       "      <td>679</td>\n",
       "    </tr>\n",
       "    <tr>\n",
       "      <th>covidvaccine</th>\n",
       "      <td>659</td>\n",
       "    </tr>\n",
       "    <tr>\n",
       "      <th>GetVaccinated</th>\n",
       "      <td>473</td>\n",
       "    </tr>\n",
       "    <tr>\n",
       "      <th>vaccination</th>\n",
       "      <td>454</td>\n",
       "    </tr>\n",
       "    <tr>\n",
       "      <th>Vaccinated</th>\n",
       "      <td>417</td>\n",
       "    </tr>\n",
       "    <tr>\n",
       "      <th>LargestVaccinationDrive</th>\n",
       "      <td>381</td>\n",
       "    </tr>\n",
       "    <tr>\n",
       "      <th>healthcare</th>\n",
       "      <td>360</td>\n",
       "    </tr>\n",
       "    <tr>\n",
       "      <th>COVIDisAirborne</th>\n",
       "      <td>337</td>\n",
       "    </tr>\n",
       "    <tr>\n",
       "      <th>COVIDAppropriateBehaviour</th>\n",
       "      <td>332</td>\n",
       "    </tr>\n",
       "    <tr>\n",
       "      <th>Covid19</th>\n",
       "      <td>291</td>\n",
       "    </tr>\n",
       "  </tbody>\n",
       "</table>\n",
       "</div>"
      ],
      "text/plain": [
       "                              n\n",
       "IndiaFightsCorona          1245\n",
       "Unite2FightCorona          1000\n",
       "StaySafe                    679\n",
       "covidvaccine                659\n",
       "GetVaccinated               473\n",
       "vaccination                 454\n",
       "Vaccinated                  417\n",
       "LargestVaccinationDrive     381\n",
       "healthcare                  360\n",
       "COVIDisAirborne             337\n",
       "COVIDAppropriateBehaviour   332\n",
       "Covid19                     291"
      ]
     },
     "execution_count": 377,
     "metadata": {},
     "output_type": "execute_result"
    }
   ],
   "source": [
    "hash_yes_df"
   ]
  },
  {
   "cell_type": "markdown",
   "id": "ed3a2b68",
   "metadata": {},
   "source": [
    "These may possibly used as features for the model. "
   ]
  },
  {
   "cell_type": "code",
   "execution_count": 378,
   "id": "8b7f7c49",
   "metadata": {},
   "outputs": [],
   "source": [
    "unique_hash = list(hash_no_df[hash_no_df['n']>100].index ) + list(hash_yes_df[hash_yes_df['n']>100].index)"
   ]
  },
  {
   "cell_type": "code",
   "execution_count": 379,
   "id": "c4a2f712",
   "metadata": {},
   "outputs": [
    {
     "data": {
      "text/plain": [
       "['NoVaccineMandates',\n",
       " 'InformedConsent',\n",
       " 'AntiVaccine',\n",
       " 'vaccines',\n",
       " 'MyBodyMyChoice',\n",
       " 'ExposeBillGates',\n",
       " 'NoVaccinePassports',\n",
       " 'VaccineSideEffects',\n",
       " 'MedicalFreedom',\n",
       " 'IDoNotConsent',\n",
       " 'BillGates',\n",
       " 'VaccineInjury',\n",
       " 'IndiaFightsCorona',\n",
       " 'Unite2FightCorona',\n",
       " 'StaySafe',\n",
       " 'covidvaccine',\n",
       " 'GetVaccinated',\n",
       " 'vaccination',\n",
       " 'Vaccinated',\n",
       " 'LargestVaccinationDrive',\n",
       " 'healthcare',\n",
       " 'COVIDisAirborne',\n",
       " 'COVIDAppropriateBehaviour',\n",
       " 'Covid19']"
      ]
     },
     "execution_count": 379,
     "metadata": {},
     "output_type": "execute_result"
    }
   ],
   "source": [
    "unique_hash"
   ]
  },
  {
   "cell_type": "code",
   "execution_count": 380,
   "id": "b671bb37",
   "metadata": {},
   "outputs": [],
   "source": [
    "# loop over each index of the tweets\n",
    "for i in tweets_labeled.index:\n",
    "    \n",
    "    # call the hashtag list\n",
    "    hashtags = tweets_labeled['hashtag'][i]\n",
    "    hashtag_remove = []\n",
    "    \n",
    "    # loop over each hashtag in the hashtags list\n",
    "    for hashtag in hashtags:\n",
    "        # check if the hashtag is part of the hashtags used for labeling the data and remove if True\n",
    "        if hashtag not in unique_hash:\n",
    "            hashtag_remove.append(hashtag)\n",
    "    \n",
    "    # update the hashtags column\n",
    "    hashtags = [hashtag for hashtag in hashtags if hashtag not in hashtag_remove]\n",
    "    tweets_labeled.at[i, 'hashtag'] = hashtags"
   ]
  },
  {
   "cell_type": "code",
   "execution_count": 381,
   "id": "f0a50a3d",
   "metadata": {},
   "outputs": [
    {
     "data": {
      "text/html": [
       "<div>\n",
       "<style scoped>\n",
       "    .dataframe tbody tr th:only-of-type {\n",
       "        vertical-align: middle;\n",
       "    }\n",
       "\n",
       "    .dataframe tbody tr th {\n",
       "        vertical-align: top;\n",
       "    }\n",
       "\n",
       "    .dataframe thead th {\n",
       "        text-align: right;\n",
       "    }\n",
       "</style>\n",
       "<table border=\"1\" class=\"dataframe\">\n",
       "  <thead>\n",
       "    <tr style=\"text-align: right;\">\n",
       "      <th></th>\n",
       "      <th>hashtag</th>\n",
       "    </tr>\n",
       "  </thead>\n",
       "  <tbody>\n",
       "    <tr>\n",
       "      <th>0</th>\n",
       "      <td>[MedicalFreedom]</td>\n",
       "    </tr>\n",
       "    <tr>\n",
       "      <th>1</th>\n",
       "      <td>[]</td>\n",
       "    </tr>\n",
       "    <tr>\n",
       "      <th>2</th>\n",
       "      <td>[InformedConsent]</td>\n",
       "    </tr>\n",
       "    <tr>\n",
       "      <th>3</th>\n",
       "      <td>[]</td>\n",
       "    </tr>\n",
       "    <tr>\n",
       "      <th>4</th>\n",
       "      <td>[]</td>\n",
       "    </tr>\n",
       "    <tr>\n",
       "      <th>...</th>\n",
       "      <td>...</td>\n",
       "    </tr>\n",
       "    <tr>\n",
       "      <th>32830</th>\n",
       "      <td>[]</td>\n",
       "    </tr>\n",
       "    <tr>\n",
       "      <th>32831</th>\n",
       "      <td>[]</td>\n",
       "    </tr>\n",
       "    <tr>\n",
       "      <th>32832</th>\n",
       "      <td>[]</td>\n",
       "    </tr>\n",
       "    <tr>\n",
       "      <th>32833</th>\n",
       "      <td>[AntiVaccine]</td>\n",
       "    </tr>\n",
       "    <tr>\n",
       "      <th>32834</th>\n",
       "      <td>[vaccines]</td>\n",
       "    </tr>\n",
       "  </tbody>\n",
       "</table>\n",
       "<p>32835 rows × 1 columns</p>\n",
       "</div>"
      ],
      "text/plain": [
       "                 hashtag\n",
       "0       [MedicalFreedom]\n",
       "1                     []\n",
       "2      [InformedConsent]\n",
       "3                     []\n",
       "4                     []\n",
       "...                  ...\n",
       "32830                 []\n",
       "32831                 []\n",
       "32832                 []\n",
       "32833      [AntiVaccine]\n",
       "32834         [vaccines]\n",
       "\n",
       "[32835 rows x 1 columns]"
      ]
     },
     "execution_count": 381,
     "metadata": {},
     "output_type": "execute_result"
    }
   ],
   "source": [
    "tweets_labeled[['hashtag']]"
   ]
  },
  {
   "cell_type": "markdown",
   "id": "a5df1263",
   "metadata": {},
   "source": [
    "* **Likes and Retweets**"
   ]
  },
  {
   "cell_type": "code",
   "execution_count": 382,
   "id": "97f221e6",
   "metadata": {
    "scrolled": false
   },
   "outputs": [
    {
     "data": {
      "text/html": [
       "<div>\n",
       "<style scoped>\n",
       "    .dataframe tbody tr th:only-of-type {\n",
       "        vertical-align: middle;\n",
       "    }\n",
       "\n",
       "    .dataframe tbody tr th {\n",
       "        vertical-align: top;\n",
       "    }\n",
       "\n",
       "    .dataframe thead th {\n",
       "        text-align: right;\n",
       "    }\n",
       "</style>\n",
       "<table border=\"1\" class=\"dataframe\">\n",
       "  <thead>\n",
       "    <tr style=\"text-align: right;\">\n",
       "      <th></th>\n",
       "      <th>get_vaccine</th>\n",
       "      <th>0</th>\n",
       "      <th>1</th>\n",
       "    </tr>\n",
       "  </thead>\n",
       "  <tbody>\n",
       "    <tr>\n",
       "      <th rowspan=\"8\" valign=\"top\">likes</th>\n",
       "      <th>count</th>\n",
       "      <td>16729.000000</td>\n",
       "      <td>16106.000000</td>\n",
       "    </tr>\n",
       "    <tr>\n",
       "      <th>mean</th>\n",
       "      <td>7.740630</td>\n",
       "      <td>8.652241</td>\n",
       "    </tr>\n",
       "    <tr>\n",
       "      <th>std</th>\n",
       "      <td>147.544210</td>\n",
       "      <td>103.555626</td>\n",
       "    </tr>\n",
       "    <tr>\n",
       "      <th>min</th>\n",
       "      <td>0.000000</td>\n",
       "      <td>0.000000</td>\n",
       "    </tr>\n",
       "    <tr>\n",
       "      <th>25%</th>\n",
       "      <td>0.000000</td>\n",
       "      <td>0.000000</td>\n",
       "    </tr>\n",
       "    <tr>\n",
       "      <th>50%</th>\n",
       "      <td>0.000000</td>\n",
       "      <td>1.000000</td>\n",
       "    </tr>\n",
       "    <tr>\n",
       "      <th>75%</th>\n",
       "      <td>2.000000</td>\n",
       "      <td>4.000000</td>\n",
       "    </tr>\n",
       "    <tr>\n",
       "      <th>max</th>\n",
       "      <td>13725.000000</td>\n",
       "      <td>10059.000000</td>\n",
       "    </tr>\n",
       "    <tr>\n",
       "      <th rowspan=\"8\" valign=\"top\">retweet</th>\n",
       "      <th>count</th>\n",
       "      <td>16729.000000</td>\n",
       "      <td>16106.000000</td>\n",
       "    </tr>\n",
       "    <tr>\n",
       "      <th>mean</th>\n",
       "      <td>2.939925</td>\n",
       "      <td>2.071216</td>\n",
       "    </tr>\n",
       "    <tr>\n",
       "      <th>std</th>\n",
       "      <td>61.592119</td>\n",
       "      <td>18.801988</td>\n",
       "    </tr>\n",
       "    <tr>\n",
       "      <th>min</th>\n",
       "      <td>0.000000</td>\n",
       "      <td>0.000000</td>\n",
       "    </tr>\n",
       "    <tr>\n",
       "      <th>25%</th>\n",
       "      <td>0.000000</td>\n",
       "      <td>0.000000</td>\n",
       "    </tr>\n",
       "    <tr>\n",
       "      <th>50%</th>\n",
       "      <td>0.000000</td>\n",
       "      <td>0.000000</td>\n",
       "    </tr>\n",
       "    <tr>\n",
       "      <th>75%</th>\n",
       "      <td>1.000000</td>\n",
       "      <td>1.000000</td>\n",
       "    </tr>\n",
       "    <tr>\n",
       "      <th>max</th>\n",
       "      <td>7129.000000</td>\n",
       "      <td>1689.000000</td>\n",
       "    </tr>\n",
       "  </tbody>\n",
       "</table>\n",
       "</div>"
      ],
      "text/plain": [
       "get_vaccine               0             1\n",
       "likes   count  16729.000000  16106.000000\n",
       "        mean       7.740630      8.652241\n",
       "        std      147.544210    103.555626\n",
       "        min        0.000000      0.000000\n",
       "        25%        0.000000      0.000000\n",
       "        50%        0.000000      1.000000\n",
       "        75%        2.000000      4.000000\n",
       "        max    13725.000000  10059.000000\n",
       "retweet count  16729.000000  16106.000000\n",
       "        mean       2.939925      2.071216\n",
       "        std       61.592119     18.801988\n",
       "        min        0.000000      0.000000\n",
       "        25%        0.000000      0.000000\n",
       "        50%        0.000000      0.000000\n",
       "        75%        1.000000      1.000000\n",
       "        max     7129.000000   1689.000000"
      ]
     },
     "execution_count": 382,
     "metadata": {},
     "output_type": "execute_result"
    }
   ],
   "source": [
    "tweets_labeled.groupby('get_vaccine')[['likes', 'retweet']].describe().T"
   ]
  },
  {
   "cell_type": "markdown",
   "id": "3b969a4c",
   "metadata": {},
   "source": [
    "There are too many tweets that have no likes or retweets at all. More than 50% of the no_vax class have no likes or retweets. About 50% of the yes_vax tweets have more than 1 likes, 25% have more than 4 likes, therefore slightly higher median than that of the no_vax group. However, the maximum value is less in yes_vax class. More than 50% of yes_vax tweets also have no retweets.\n"
   ]
  },
  {
   "cell_type": "markdown",
   "id": "bf4cc4cf",
   "metadata": {},
   "source": [
    "Although there is a slight difference in the central tendency in number of likes, most of the variance likely comes from the outliers that have thousands of likes. Therefore, it is the number of likes and retweets will **unlikley** be helpful in classifying between the two classes."
   ]
  },
  {
   "cell_type": "markdown",
   "id": "a86627f1",
   "metadata": {},
   "source": [
    "#### *unlabeled dataset*"
   ]
  },
  {
   "cell_type": "markdown",
   "id": "767df0e8",
   "metadata": {},
   "source": [
    "* **charachter and word counts**"
   ]
  },
  {
   "cell_type": "code",
   "execution_count": 383,
   "id": "13cf4d0f",
   "metadata": {},
   "outputs": [
    {
     "data": {
      "text/plain": [
       "dtype('O')"
      ]
     },
     "execution_count": 383,
     "metadata": {},
     "output_type": "execute_result"
    }
   ],
   "source": [
    "tweets_unlabeled['text'].dtype"
   ]
  },
  {
   "cell_type": "code",
   "execution_count": 384,
   "id": "97d5e108",
   "metadata": {},
   "outputs": [
    {
     "data": {
      "text/plain": [
       "0                                                 @acevenvevo @ADM_Briggs @Anthony37662002 @VibesCake @DanielRegha @TravisAllen02 @JoeBiden 2) and Trump’s Covid response has caused those numbers to go significantly higher as did his botched vaccine release\n",
       "1                                                                                                                         Please read this important thread from my office with an update on COVID vaccines in Rockland and Westchester. https://t.co/rvpHjeE8Ts\n",
       "2                                                                                                                                                               Just saw two homeless people giving themselves the COVID vaccine 🙁 faith in humanity restored ❤️\n",
       "3                           Those who refuse to get the COVID-19 vaccine could be chalked up to only endangering themselves.  \\n\\nNot true.  \\n\\nThey will become viral mutation factories.  \\n\\nSome mutations will do nothing. Others enhance infectivity.  /1\n",
       "4                                                           Santa Cruz County says the goal is to distribute vaccines to the 14,700 Phase 1A health care workers within the county, calling it a key step in the fight against COVID-19. https://t.co/pVNNC8cTKs\n",
       "                                                                                                                                   ...                                                                                                                          \n",
       "111951                                                                                                                                                                       In Race for Monkeypox Vaccines, Experts See Repeat of COVID https://t.co/TL9ucDQzDy\n",
       "111952                                                                                                        @GlenBaldwinfu @errjustsaying Yep. The deaths should be down quite significantly if Covid was as bad as they say and if the vaccines work so well!\n",
       "111953    @RyanAforliberty @sophielouisecc “Almost no infection” “reducing transmission” “a very very low risk of getting covid”. Sounds like a lot of people there, including Biden acknowledging that vaccines reduced the effects.\\n\\nhttps://t.co/MfhvU6O9Bc\n",
       "111954           #VaccineInjured. If you still believe the covid 19 vaccine works to stop covid 19 you are stupid. If you still believe in mask you are stupid. If you still believe lockdowns works you are stupid. The unvaccinated people are the smart ones.\n",
       "111955                                                                                              @samanthamarika1 And why did Biden need it to keep him out of hospital and not die from Covid when the vaccine and boosters was suppose to take care of that\n",
       "Name: text, Length: 111956, dtype: object"
      ]
     },
     "execution_count": 384,
     "metadata": {},
     "output_type": "execute_result"
    }
   ],
   "source": [
    "tweets_unlabeled['text'].astype(str) # change all values in text column to string"
   ]
  },
  {
   "cell_type": "code",
   "execution_count": 385,
   "id": "05edc345",
   "metadata": {},
   "outputs": [],
   "source": [
    "# 'n_char' and 'n_words' columns\n",
    "tweets_unlabeled['n_char'] = tweets_unlabeled['text'].str.len()\n",
    "tweets_unlabeled['n_words'] = tweets_unlabeled['text'].map(lambda x: len(x.split(' ')))"
   ]
  },
  {
   "cell_type": "code",
   "execution_count": 386,
   "id": "e5efa64d",
   "metadata": {},
   "outputs": [
    {
     "data": {
      "image/png": "[encoded data removed]",
      "text/plain": [
       "<Figure size 1152x648 with 1 Axes>"
      ]
     },
     "metadata": {
      "needs_background": "light"
     },
     "output_type": "display_data"
    }
   ],
   "source": [
    "# 'n_char' distribution\n",
    "plt.figure(figsize=(16, 9))\n",
    "tweets_unlabeled['n_char'].hist(bins=30).set_title('distribution of character counts in unlabeled dataset');"
   ]
  },
  {
   "cell_type": "code",
   "execution_count": 387,
   "id": "060b35c0",
   "metadata": {},
   "outputs": [
    {
     "data": {
      "image/png": "[encoded data removed]",
      "text/plain": [
       "<Figure size 1152x648 with 1 Axes>"
      ]
     },
     "metadata": {
      "needs_background": "light"
     },
     "output_type": "display_data"
    }
   ],
   "source": [
    "plt.figure(figsize=(16, 9))\n",
    "tweets_unlabeled['n_words'].hist(bins=30).set_title('distribution of character counts in unlabeled dataset');"
   ]
  },
  {
   "cell_type": "markdown",
   "id": "96306a7b",
   "metadata": {},
   "source": [
    "The character counts and word counts take similar distribution shape likely because the two values are related. "
   ]
  },
  {
   "cell_type": "code",
   "execution_count": 388,
   "id": "a9ee324b",
   "metadata": {},
   "outputs": [
    {
     "data": {
      "text/html": [
       "<div>\n",
       "<style scoped>\n",
       "    .dataframe tbody tr th:only-of-type {\n",
       "        vertical-align: middle;\n",
       "    }\n",
       "\n",
       "    .dataframe tbody tr th {\n",
       "        vertical-align: top;\n",
       "    }\n",
       "\n",
       "    .dataframe thead th {\n",
       "        text-align: right;\n",
       "    }\n",
       "</style>\n",
       "<table border=\"1\" class=\"dataframe\">\n",
       "  <thead>\n",
       "    <tr style=\"text-align: right;\">\n",
       "      <th></th>\n",
       "      <th>n_char</th>\n",
       "      <th>n_words</th>\n",
       "    </tr>\n",
       "  </thead>\n",
       "  <tbody>\n",
       "    <tr>\n",
       "      <th>count</th>\n",
       "      <td>111956.000000</td>\n",
       "      <td>111956.000000</td>\n",
       "    </tr>\n",
       "    <tr>\n",
       "      <th>mean</th>\n",
       "      <td>201.119065</td>\n",
       "      <td>30.802190</td>\n",
       "    </tr>\n",
       "    <tr>\n",
       "      <th>std</th>\n",
       "      <td>90.705922</td>\n",
       "      <td>14.395691</td>\n",
       "    </tr>\n",
       "    <tr>\n",
       "      <th>min</th>\n",
       "      <td>13.000000</td>\n",
       "      <td>1.000000</td>\n",
       "    </tr>\n",
       "    <tr>\n",
       "      <th>25%</th>\n",
       "      <td>126.000000</td>\n",
       "      <td>18.000000</td>\n",
       "    </tr>\n",
       "    <tr>\n",
       "      <th>50%</th>\n",
       "      <td>201.000000</td>\n",
       "      <td>31.000000</td>\n",
       "    </tr>\n",
       "    <tr>\n",
       "      <th>75%</th>\n",
       "      <td>274.000000</td>\n",
       "      <td>43.000000</td>\n",
       "    </tr>\n",
       "    <tr>\n",
       "      <th>max</th>\n",
       "      <td>994.000000</td>\n",
       "      <td>119.000000</td>\n",
       "    </tr>\n",
       "  </tbody>\n",
       "</table>\n",
       "</div>"
      ],
      "text/plain": [
       "              n_char        n_words\n",
       "count  111956.000000  111956.000000\n",
       "mean      201.119065      30.802190\n",
       "std        90.705922      14.395691\n",
       "min        13.000000       1.000000\n",
       "25%       126.000000      18.000000\n",
       "50%       201.000000      31.000000\n",
       "75%       274.000000      43.000000\n",
       "max       994.000000     119.000000"
      ]
     },
     "execution_count": 388,
     "metadata": {},
     "output_type": "execute_result"
    }
   ],
   "source": [
    "# describe\n",
    "tweets_unlabeled[['n_char', 'n_words']].describe()"
   ]
  },
  {
   "cell_type": "markdown",
   "id": "c99d6b64",
   "metadata": {},
   "source": [
    "* **Likes and Retweets**"
   ]
  },
  {
   "cell_type": "code",
   "execution_count": 389,
   "id": "69bc68a1",
   "metadata": {
    "scrolled": false
   },
   "outputs": [
    {
     "data": {
      "text/html": [
       "<div>\n",
       "<style scoped>\n",
       "    .dataframe tbody tr th:only-of-type {\n",
       "        vertical-align: middle;\n",
       "    }\n",
       "\n",
       "    .dataframe tbody tr th {\n",
       "        vertical-align: top;\n",
       "    }\n",
       "\n",
       "    .dataframe thead th {\n",
       "        text-align: right;\n",
       "    }\n",
       "</style>\n",
       "<table border=\"1\" class=\"dataframe\">\n",
       "  <thead>\n",
       "    <tr style=\"text-align: right;\">\n",
       "      <th></th>\n",
       "      <th>count</th>\n",
       "      <th>mean</th>\n",
       "      <th>std</th>\n",
       "      <th>min</th>\n",
       "      <th>25%</th>\n",
       "      <th>50%</th>\n",
       "      <th>75%</th>\n",
       "      <th>max</th>\n",
       "    </tr>\n",
       "  </thead>\n",
       "  <tbody>\n",
       "    <tr>\n",
       "      <th>likes</th>\n",
       "      <td>32835.0</td>\n",
       "      <td>8.187787</td>\n",
       "      <td>127.871161</td>\n",
       "      <td>0.0</td>\n",
       "      <td>0.0</td>\n",
       "      <td>1.0</td>\n",
       "      <td>3.0</td>\n",
       "      <td>13725.0</td>\n",
       "    </tr>\n",
       "    <tr>\n",
       "      <th>retweet</th>\n",
       "      <td>32835.0</td>\n",
       "      <td>2.513811</td>\n",
       "      <td>45.894594</td>\n",
       "      <td>0.0</td>\n",
       "      <td>0.0</td>\n",
       "      <td>0.0</td>\n",
       "      <td>1.0</td>\n",
       "      <td>7129.0</td>\n",
       "    </tr>\n",
       "  </tbody>\n",
       "</table>\n",
       "</div>"
      ],
      "text/plain": [
       "           count      mean         std  min  25%  50%  75%      max\n",
       "likes    32835.0  8.187787  127.871161  0.0  0.0  1.0  3.0  13725.0\n",
       "retweet  32835.0  2.513811   45.894594  0.0  0.0  0.0  1.0   7129.0"
      ]
     },
     "execution_count": 389,
     "metadata": {},
     "output_type": "execute_result"
    }
   ],
   "source": [
    "tweets_labeled[['likes', 'retweet']].describe().T"
   ]
  },
  {
   "cell_type": "markdown",
   "id": "d5d703a8",
   "metadata": {},
   "source": [
    "## Texts Processing"
   ]
  },
  {
   "cell_type": "code",
   "execution_count": 413,
   "id": "d6866f70",
   "metadata": {},
   "outputs": [],
   "source": [
    "# processing function\n",
    "def text_process(df, text):\n",
    "    # Removing hashtags, URLs, mentions, reserved words, emojis, smileys\n",
    "    df['p_text'] = df[text].apply(lambda x: p.clean(x))\n",
    "    \n",
    "    # Remove digits\n",
    "    df['p_text'] = df['p_text'].str.replace('\\d+', '', regex=True)\n",
    "    \n",
    "    # remove punctuations\n",
    "    df['p_text'] = df['p_text'].str.replace('&amp', '')\n",
    "    df['p_text'] = df['p_text'].apply(lambda x: re.sub(r'[^\\w\\s]', ' ', x))\n",
    "    \n",
    "    # lower case\n",
    "    df['p_text'] = df['p_text'].str.lower()\n",
    "    \n",
    "    # remove stopwords first\n",
    "    stop_words = set(stopwords.words('english'))\n",
    "    df['p_text'] = df['p_text'].apply(lambda x: \" \".join([item for item in x.split(' ') if item not in stop_words]))\n",
    "    \n",
    "    # tokenize and lemmatize\n",
    "    lem = WordNetLemmatizer()\n",
    "    tok = TweetTokenizer()\n",
    "    \n",
    "    for i, txt in enumerate(df['p_text']):\n",
    "        lem_words = [lem.lemmatize(word) for word in tok.tokenize(txt)]\n",
    "        df.at[i, 'p_text'] = ' '.join(lem_words)"
   ]
  },
  {
   "cell_type": "code",
   "execution_count": 414,
   "id": "1a83a9a6",
   "metadata": {},
   "outputs": [],
   "source": [
    "text_process(tweets_labeled, 'text')"
   ]
  },
  {
   "cell_type": "code",
   "execution_count": 415,
   "id": "129f30f9",
   "metadata": {},
   "outputs": [
    {
     "data": {
      "text/html": [
       "<div>\n",
       "<style scoped>\n",
       "    .dataframe tbody tr th:only-of-type {\n",
       "        vertical-align: middle;\n",
       "    }\n",
       "\n",
       "    .dataframe tbody tr th {\n",
       "        vertical-align: top;\n",
       "    }\n",
       "\n",
       "    .dataframe thead th {\n",
       "        text-align: right;\n",
       "    }\n",
       "</style>\n",
       "<table border=\"1\" class=\"dataframe\">\n",
       "  <thead>\n",
       "    <tr style=\"text-align: right;\">\n",
       "      <th></th>\n",
       "      <th>text</th>\n",
       "      <th>p_text</th>\n",
       "    </tr>\n",
       "  </thead>\n",
       "  <tbody>\n",
       "    <tr>\n",
       "      <th>0</th>\n",
       "      <td>Thank you @GovBillLee for sticking up for common sense!  #MedicalFreedom #Tennessee\\n\"Tennessee legislators looking to call special session on COVID restrictions\" https://t.co/cUwPdcD5Yx</td>\n",
       "      <td>thank sticking common sense tennessee legislator looking call special session covid restriction</td>\n",
       "    </tr>\n",
       "    <tr>\n",
       "      <th>1</th>\n",
       "      <td>When anti-Vaxxers tweet #vaccineinjuries at you, remind them that more than 18 million people around the world had died of COVID-19 by the end of 2021. Also point out that COVID vaccines saved an estimated 20 million lives in the first year. Get vaccinated. Vaccinate your kids. https://t.co/Ld9ToqLcX1</td>\n",
       "      <td>anti vaxxers tweet remind million people around world died covid end also point covid vaccine saved estimated million life first year get vaccinated vaccinate kid</td>\n",
       "    </tr>\n",
       "    <tr>\n",
       "      <th>2</th>\n",
       "      <td>@GregoryDavisHNH @beverleyturner @JamesfWells your #naivety is breath-taking. you think removing #freedoms for #unvaccinated &amp;amp; £325 million spent on #Jab marketing fits within the #Legal framework of #InformedConsent ? ... the patient / recipient should not feel coerced or pressurised etc. #COVID19 #Olympics #COVID</td>\n",
       "      <td>breath taking think removing million spent marketing fit within framework patient recipient feel coerced pressurised etc</td>\n",
       "    </tr>\n",
       "  </tbody>\n",
       "</table>\n",
       "</div>"
      ],
      "text/plain": [
       "                                                                                                                                                                                                                                                                                                                               text  \\\n",
       "0                                                                                                                                        Thank you @GovBillLee for sticking up for common sense!  #MedicalFreedom #Tennessee\\n\"Tennessee legislators looking to call special session on COVID restrictions\" https://t.co/cUwPdcD5Yx   \n",
       "1                    When anti-Vaxxers tweet #vaccineinjuries at you, remind them that more than 18 million people around the world had died of COVID-19 by the end of 2021. Also point out that COVID vaccines saved an estimated 20 million lives in the first year. Get vaccinated. Vaccinate your kids. https://t.co/Ld9ToqLcX1   \n",
       "2  @GregoryDavisHNH @beverleyturner @JamesfWells your #naivety is breath-taking. you think removing #freedoms for #unvaccinated &amp; £325 million spent on #Jab marketing fits within the #Legal framework of #InformedConsent ? ... the patient / recipient should not feel coerced or pressurised etc. #COVID19 #Olympics #COVID   \n",
       "\n",
       "                                                                                                                                                               p_text  \n",
       "0                                                                     thank sticking common sense tennessee legislator looking call special session covid restriction  \n",
       "1  anti vaxxers tweet remind million people around world died covid end also point covid vaccine saved estimated million life first year get vaccinated vaccinate kid  \n",
       "2                                            breath taking think removing million spent marketing fit within framework patient recipient feel coerced pressurised etc  "
      ]
     },
     "execution_count": 415,
     "metadata": {},
     "output_type": "execute_result"
    }
   ],
   "source": [
    "tweets_labeled[['text', 'p_text']].head(3)"
   ]
  },
  {
   "cell_type": "code",
   "execution_count": 416,
   "id": "4e17c090",
   "metadata": {
    "scrolled": true
   },
   "outputs": [
    {
     "data": {
      "text/plain": [
       "datetime       0\n",
       "tweet_id       0\n",
       "username       0\n",
       "text           0\n",
       "likes          0\n",
       "retweet        0\n",
       "get_vaccine    0\n",
       "n_char         0\n",
       "n_words        0\n",
       "hashtag        0\n",
       "p_text         0\n",
       "dtype: int64"
      ]
     },
     "execution_count": 416,
     "metadata": {},
     "output_type": "execute_result"
    }
   ],
   "source": [
    "# check for null values\n",
    "tweets_labeled.isnull().sum()"
   ]
  },
  {
   "cell_type": "code",
   "execution_count": 417,
   "id": "f0769ce4",
   "metadata": {
    "scrolled": true
   },
   "outputs": [
    {
     "data": {
      "text/html": [
       "<div>\n",
       "<style scoped>\n",
       "    .dataframe tbody tr th:only-of-type {\n",
       "        vertical-align: middle;\n",
       "    }\n",
       "\n",
       "    .dataframe tbody tr th {\n",
       "        vertical-align: top;\n",
       "    }\n",
       "\n",
       "    .dataframe thead th {\n",
       "        text-align: right;\n",
       "    }\n",
       "</style>\n",
       "<table border=\"1\" class=\"dataframe\">\n",
       "  <thead>\n",
       "    <tr style=\"text-align: right;\">\n",
       "      <th></th>\n",
       "      <th>text</th>\n",
       "      <th>p_text</th>\n",
       "    </tr>\n",
       "  </thead>\n",
       "  <tbody>\n",
       "    <tr>\n",
       "      <th>884</th>\n",
       "      <td>From #mybodymychoice to  #YourBodyGovernmentChoice \\n\\n#Covid #vaccinesmandates #abortion #roevwade #Inflation #gasprices https://t.co/5ND1dgnpAB</td>\n",
       "      <td></td>\n",
       "    </tr>\n",
       "    <tr>\n",
       "      <th>1455</th>\n",
       "      <td>#Covid_19 #Vaccine #RollUp for the #BlisteryTour. #VaccinesKill #VaccinesMaim</td>\n",
       "      <td></td>\n",
       "    </tr>\n",
       "    <tr>\n",
       "      <th>2084</th>\n",
       "      <td>With #CardiacMan #Boosted at the #AustralianInstituteOfSport #Canberra  @theAIS #COVID #Vaxed https://t.co/Gzbft4bWqj</td>\n",
       "      <td></td>\n",
       "    </tr>\n",
       "    <tr>\n",
       "      <th>2299</th>\n",
       "      <td>https://t.co/H8mP5Nc2yT\\nWatch this #COVID19 #COVID19Vic #Covid #Canada #InformedConsent #malone</td>\n",
       "      <td></td>\n",
       "    </tr>\n",
       "    <tr>\n",
       "      <th>2590</th>\n",
       "      <td>#JustinTrudeau here is the #Science @JustinTrudeau\\n#COVID #unvaccinated #vaccinated #VaccineSideEffects #VaccinateOurKids 🤯\\n#vaccineinjuries\\nhttps://t.co/TO8gfirSOQ</td>\n",
       "      <td></td>\n",
       "    </tr>\n",
       "    <tr>\n",
       "      <th>...</th>\n",
       "      <td>...</td>\n",
       "      <td>...</td>\n",
       "    </tr>\n",
       "    <tr>\n",
       "      <th>29318</th>\n",
       "      <td>#COVID  The #unvaccinated  are the #heros.\\n#COVID19 https://t.co/nh6UoX3GZD</td>\n",
       "      <td></td>\n",
       "    </tr>\n",
       "    <tr>\n",
       "      <th>31282</th>\n",
       "      <td>@Covid_1984_ I am with you.\\n#BillGatesBioTerrorist \\n#BillGatesGoBack</td>\n",
       "      <td></td>\n",
       "    </tr>\n",
       "    <tr>\n",
       "      <th>31997</th>\n",
       "      <td>More #COVID #VaccineInjury #VaccineFailure https://t.co/mLuVX1eD6x</td>\n",
       "      <td></td>\n",
       "    </tr>\n",
       "    <tr>\n",
       "      <th>32465</th>\n",
       "      <td>The #pandemic of the #vaccinated #covid #pfizer\\nhttps://t.co/9OKCLjdUKM</td>\n",
       "      <td></td>\n",
       "    </tr>\n",
       "    <tr>\n",
       "      <th>32811</th>\n",
       "      <td>#Voters are #Dying of #Covid - #AntiVaccine #GOP https://t.co/x0v1kx4To6</td>\n",
       "      <td></td>\n",
       "    </tr>\n",
       "  </tbody>\n",
       "</table>\n",
       "<p>61 rows × 2 columns</p>\n",
       "</div>"
      ],
      "text/plain": [
       "                                                                                                                                                                          text  \\\n",
       "884                          From #mybodymychoice to  #YourBodyGovernmentChoice \\n\\n#Covid #vaccinesmandates #abortion #roevwade #Inflation #gasprices https://t.co/5ND1dgnpAB   \n",
       "1455                                                                                             #Covid_19 #Vaccine #RollUp for the #BlisteryTour. #VaccinesKill #VaccinesMaim   \n",
       "2084                                                     With #CardiacMan #Boosted at the #AustralianInstituteOfSport #Canberra  @theAIS #COVID #Vaxed https://t.co/Gzbft4bWqj   \n",
       "2299                                                                          https://t.co/H8mP5Nc2yT\\nWatch this #COVID19 #COVID19Vic #Covid #Canada #InformedConsent #malone   \n",
       "2590   #JustinTrudeau here is the #Science @JustinTrudeau\\n#COVID #unvaccinated #vaccinated #VaccineSideEffects #VaccinateOurKids 🤯\\n#vaccineinjuries\\nhttps://t.co/TO8gfirSOQ   \n",
       "...                                                                                                                                                                        ...   \n",
       "29318                                                                                             #COVID  The #unvaccinated  are the #heros.\\n#COVID19 https://t.co/nh6UoX3GZD   \n",
       "31282                                                                                                   @Covid_1984_ I am with you.\\n#BillGatesBioTerrorist \\n#BillGatesGoBack   \n",
       "31997                                                                                                       More #COVID #VaccineInjury #VaccineFailure https://t.co/mLuVX1eD6x   \n",
       "32465                                                                                                 The #pandemic of the #vaccinated #covid #pfizer\\nhttps://t.co/9OKCLjdUKM   \n",
       "32811                                                                                                 #Voters are #Dying of #Covid - #AntiVaccine #GOP https://t.co/x0v1kx4To6   \n",
       "\n",
       "      p_text  \n",
       "884           \n",
       "1455          \n",
       "2084          \n",
       "2299          \n",
       "2590          \n",
       "...      ...  \n",
       "29318         \n",
       "31282         \n",
       "31997         \n",
       "32465         \n",
       "32811         \n",
       "\n",
       "[61 rows x 2 columns]"
      ]
     },
     "execution_count": 417,
     "metadata": {},
     "output_type": "execute_result"
    }
   ],
   "source": [
    "# check for blank texts\n",
    "tweets_labeled[tweets_labeled['p_text']==''][['text', 'p_text']]"
   ]
  },
  {
   "cell_type": "code",
   "execution_count": 418,
   "id": "67317970",
   "metadata": {},
   "outputs": [],
   "source": [
    "# remove rows with blank text. These originally only consist of hashtags and urls.\n",
    "tweets_labeled = tweets_labeled.drop(index=tweets_labeled[tweets_labeled['p_text']==''].index).reset_index(drop=True)"
   ]
  },
  {
   "cell_type": "markdown",
   "id": "32c7644d",
   "metadata": {},
   "source": [
    "## EDA (II)\n",
    "EDA after preprocessing texts"
   ]
  },
  {
   "cell_type": "markdown",
   "id": "6a26806c",
   "metadata": {},
   "source": [
    "**Common unigrams and bigrams**"
   ]
  },
  {
   "cell_type": "markdown",
   "id": "566dd443",
   "metadata": {},
   "source": [
    "no_vax class"
   ]
  },
  {
   "cell_type": "code",
   "execution_count": 425,
   "id": "dda3c3be",
   "metadata": {},
   "outputs": [],
   "source": [
    "# unigram\n",
    "cvec = CountVectorizer(stop_words=['bill', 'gate'])\n",
    "\n",
    "no_cvec = cvec.fit_transform(no_vax(tweets_labeled)['p_text'])\n",
    "\n",
    "no_cvec_df = pd.DataFrame(no_cvec.todense(), columns = cvec.get_feature_names_out())\n"
   ]
  },
  {
   "cell_type": "code",
   "execution_count": 426,
   "id": "fc1d75cc",
   "metadata": {},
   "outputs": [
    {
     "data": {
      "text/plain": [
       "covid          11679\n",
       "vaccine         5538\n",
       "people          2287\n",
       "get             1752\n",
       "death           1157\n",
       "vaccinated       941\n",
       "one              922\n",
       "know             812\n",
       "still            746\n",
       "like             745\n",
       "year             732\n",
       "want             700\n",
       "vaccination      690\n",
       "shot             679\n",
       "say              674\n",
       "dtype: int64"
      ]
     },
     "execution_count": 426,
     "metadata": {},
     "output_type": "execute_result"
    }
   ],
   "source": [
    "no_cvec_df.sum().sort_values(ascending=False).head(15)"
   ]
  },
  {
   "cell_type": "code",
   "execution_count": 427,
   "id": "86d87962",
   "metadata": {},
   "outputs": [
    {
     "data": {
      "image/png": "[encoded data removed]",
      "text/plain": [
       "<Figure size 432x288 with 1 Axes>"
      ]
     },
     "metadata": {
      "needs_background": "light"
     },
     "output_type": "display_data"
    }
   ],
   "source": [
    "no_cvec_df.sum().sort_values(ascending = False).head(15).plot(kind='barh', \n",
    "                                                                       title='15 Most Common Unigrams (no_vax)');"
   ]
  },
  {
   "cell_type": "code",
   "execution_count": 428,
   "id": "c417b659",
   "metadata": {},
   "outputs": [],
   "source": [
    "# bigrams\n",
    "cvec_2 = CountVectorizer(stop_words = ['bill', 'gate'], ngram_range=(2, 2))\n",
    "\n",
    "no_cvec2 = cvec_2.fit_transform(no_vax(tweets_labeled)['p_text'])\n",
    "\n",
    "no_cvec2_df = pd.DataFrame(no_cvec2.todense(), columns = cvec_2.get_feature_names_out())"
   ]
  },
  {
   "cell_type": "code",
   "execution_count": 429,
   "id": "847b79df",
   "metadata": {
    "scrolled": true
   },
   "outputs": [
    {
     "data": {
      "text/plain": [
       "covid vaccine          2492\n",
       "get covid               347\n",
       "covid vaccination       287\n",
       "covid death             274\n",
       "side effect             249\n",
       "covid shot              230\n",
       "covid jab               205\n",
       "getting covid           170\n",
       "died covid              162\n",
       "vaccine mandate         161\n",
       "got covid               156\n",
       "covid vax               152\n",
       "conspiracy theorist     146\n",
       "immune system           134\n",
       "get vaccinated          127\n",
       "dtype: int64"
      ]
     },
     "execution_count": 429,
     "metadata": {},
     "output_type": "execute_result"
    }
   ],
   "source": [
    "no_cvec2_df.sum().sort_values(ascending=False).head(15)"
   ]
  },
  {
   "cell_type": "code",
   "execution_count": 430,
   "id": "756511dc",
   "metadata": {},
   "outputs": [
    {
     "data": {
      "image/png": "[encoded data removed]",
      "text/plain": [
       "<Figure size 432x288 with 1 Axes>"
      ]
     },
     "metadata": {
      "needs_background": "light"
     },
     "output_type": "display_data"
    }
   ],
   "source": [
    "no_cvec2_df.sum().sort_values(ascending = False).head(15).plot(kind='barh', \n",
    "                                                                       title='15 Most Common Bigrams (no_vax)');"
   ]
  },
  {
   "cell_type": "markdown",
   "id": "cd401be5",
   "metadata": {},
   "source": [
    "yes_vax class"
   ]
  },
  {
   "cell_type": "code",
   "execution_count": 431,
   "id": "8df7fa6f",
   "metadata": {},
   "outputs": [],
   "source": [
    "# unigrams\n",
    "cvec = CountVectorizer()\n",
    "\n",
    "yes_cvec = cvec.fit_transform(yes_vax(tweets_labeled)['p_text'])\n",
    "\n",
    "yes_cvec_df = pd.DataFrame(yes_cvec.todense(), columns = cvec.get_feature_names_out())"
   ]
  },
  {
   "cell_type": "code",
   "execution_count": 432,
   "id": "7d16b94e",
   "metadata": {
    "scrolled": true
   },
   "outputs": [
    {
     "data": {
      "text/plain": [
       "covid          12586\n",
       "vaccine         5180\n",
       "get             2898\n",
       "vaccination     2021\n",
       "vaccinated      1666\n",
       "people          1526\n",
       "got             1348\n",
       "booster         1193\n",
       "getting         1074\n",
       "day             1057\n",
       "today           1017\n",
       "still           1002\n",
       "dose             976\n",
       "shot             960\n",
       "first            920\n",
       "dtype: int64"
      ]
     },
     "execution_count": 432,
     "metadata": {},
     "output_type": "execute_result"
    }
   ],
   "source": [
    "yes_cvec_df.sum().sort_values(ascending=False).head(15)"
   ]
  },
  {
   "cell_type": "code",
   "execution_count": 433,
   "id": "2fd423f8",
   "metadata": {},
   "outputs": [
    {
     "data": {
      "image/png": "[encoded data removed]",
      "text/plain": [
       "<Figure size 432x288 with 1 Axes>"
      ]
     },
     "metadata": {
      "needs_background": "light"
     },
     "output_type": "display_data"
    }
   ],
   "source": [
    "yes_cvec_df.sum().sort_values(ascending = False).head(15).plot(kind='barh', \n",
    "                                                                       title='15 Most Common Unigrams (yes_vax)');"
   ]
  },
  {
   "cell_type": "code",
   "execution_count": 434,
   "id": "a02b8976",
   "metadata": {},
   "outputs": [],
   "source": [
    "# bigrams\n",
    "cvec_2 = CountVectorizer(ngram_range=(2, 2))\n",
    "\n",
    "yes_cvec2 = cvec_2.fit_transform(yes_vax(tweets_labeled)['p_text'])\n",
    "\n",
    "yes_cvec2_df = pd.DataFrame(yes_cvec2.todense(), columns = cvec_2.get_feature_names_out())"
   ]
  },
  {
   "cell_type": "code",
   "execution_count": 435,
   "id": "720f865b",
   "metadata": {
    "scrolled": true
   },
   "outputs": [
    {
     "data": {
      "text/plain": [
       "covid vaccine        2498\n",
       "covid vaccination     855\n",
       "get vaccinated        493\n",
       "first dose            356\n",
       "get covid             348\n",
       "getting covid         336\n",
       "covid booster         313\n",
       "got covid             306\n",
       "last hour             305\n",
       "covid case            268\n",
       "win battle            258\n",
       "battle covid          257\n",
       "together win          243\n",
       "covid follow          232\n",
       "vaccination site      228\n",
       "dtype: int64"
      ]
     },
     "execution_count": 435,
     "metadata": {},
     "output_type": "execute_result"
    }
   ],
   "source": [
    "yes_cvec2_df.sum().sort_values(ascending=False).head(15)"
   ]
  },
  {
   "cell_type": "code",
   "execution_count": 436,
   "id": "5e7409ec",
   "metadata": {},
   "outputs": [
    {
     "data": {
      "image/png": "[encoded data removed]",
      "text/plain": [
       "<Figure size 432x288 with 1 Axes>"
      ]
     },
     "metadata": {
      "needs_background": "light"
     },
     "output_type": "display_data"
    }
   ],
   "source": [
    "yes_cvec2_df.sum().sort_values(ascending = False).head(15).plot(kind='barh', \n",
    "                                                                       title='15 Most Common bigrams (yes_vax)');"
   ]
  },
  {
   "cell_type": "markdown",
   "id": "54865eda",
   "metadata": {},
   "source": [
    "Remove corpus specific stop words?"
   ]
  },
  {
   "cell_type": "code",
   "execution_count": 437,
   "id": "9a06418e",
   "metadata": {},
   "outputs": [],
   "source": [
    "X = tweets_labeled['p_text']\n",
    "y = tweets_labeled['get_vaccine']"
   ]
  },
  {
   "cell_type": "code",
   "execution_count": 438,
   "id": "994d85d9",
   "metadata": {
    "scrolled": true
   },
   "outputs": [
    {
     "name": "stdout",
     "output_type": "stream",
     "text": [
      "Iteration 1 Complete\n"
     ]
    },
    {
     "name": "stderr",
     "output_type": "stream",
     "text": [
      "/Users/rhoeunpark/opt/anaconda3/envs/dsi/lib/python3.8/site-packages/sklearn/feature_extraction/text.py:396: UserWarning: Your stop_words may be inconsistent with your preprocessing. Tokenizing the stop words generated tokens ['able', 'adhering', 'administered', 'adverse', 'advisable', 'affect', 'ago', 'allergic', 'anti', 'anyone', 'appointment', 'approved', 'around', 'astrazeneca', 'august', 'authority', 'autonomy', 'available', 'avoid', 'back', 'best', 'biden', 'bill', 'billionaire', 'boosted', 'booster', 'called', 'campaign', 'card', 'case', 'catching', 'caused', 'centre', 'check', 'choice', 'clinic', 'clot', 'company', 'conspiracy', 'contracted', 'contracting', 'control', 'covid', 'cr', 'crime', 'crore', 'day', 'decision', 'delta', 'despite', 'detail', 'died', 'disease', 'distance', 'distancing', 'doctor', 'done', 'dos', 'dose', 'double', 'drive', 'effect', 'effective', 'eligible', 'emergency', 'event', 'every', 'experimental', 'expose', 'fake', 'fauci', 'fear', 'feel', 'felt', 'find', 'first', 'flu', 'follow', 'forced', 'foundation', 'free', 'friend', 'front', 'fully', 'gate', 'gauteng', 'get', 'getting', 'gift', 'god', 'got', 'government', 'hand', 'hashtag', 'heart', 'help', 'home', 'hospital', 'hospitalisation', 'hospitalization', 'house', 'human', 'humanity', 'im', 'immune', 'immunity', 'impact', 'including', 'infection', 'insurance', 'issue', 'jab', 'jabbed', 'july', 'keep', 'kid', 'kill', 'lakh', 'largest', 'last', 'latest', 'lie', 'likely', 'lockdown', 'lot', 'made', 'majority', 'make', 'mandatory', 'manufacturer', 'mask', 'medical', 'medium', 'melinda', 'mental', 'might', 'mild', 'ministry', 'moderna', 'monday', 'monkey', 'month', 'nd', 'near', 'negative', 'never', 'new', 'news', 'night', 'non', 'offer', 'older', 'omicron', 'pandemic', 'partner', 'past', 'pcr', 'people', 'person', 'personal', 'pm', 'poison', 'policy', 'positive', 'pre', 'precaution', 'pregnant', 'prevent', 'preventing', 'pro', 'problem', 'professional', 'program', 'protect', 'protected', 'protection', 'protein', 'protocol', 'providing', 'public', 'rapid', 'rat', 'reaction', 'real', 'receiving', 'recovered', 'related', 'remains', 'reported', 'right', 'rise', 'rt', 'safe', 'sanitize', 'say', 'saying', 'season', 'second', 'seems', 'sense', 'severe', 'shiva', 'side', 'site', 'sound', 'st', 'stand', 'statistic', 'stay', 'still', 'stop', 'summer', 'take', 'testing', 'th', 'thank', 'theory', 'therapy', 'think', 'though', 'three', 'thursday', 'time', 'today', 'toward', 'tpr', 'treatment', 'trend', 'truth', 'twice', 'twitter', 'updated', 'urged', 'usa', 'vaccinated', 'vaccinating', 'vaccination', 'vaccine', 'variant', 'vaxxed', 'video', 'virus', 'visit', 'walk', 'want', 'watch', 'wave', 'weapon', 'wear', 'week', 'weekend', 'welcome', 'within', 'world', 'yesterday', 'young', 'yr'] not in stop_words.\n",
      "  warnings.warn(\n"
     ]
    },
    {
     "name": "stdout",
     "output_type": "stream",
     "text": [
      "Iteration 2 Complete\n"
     ]
    },
    {
     "name": "stderr",
     "output_type": "stream",
     "text": [
      "/Users/rhoeunpark/opt/anaconda3/envs/dsi/lib/python3.8/site-packages/sklearn/feature_extraction/text.py:396: UserWarning: Your stop_words may be inconsistent with your preprocessing. Tokenizing the stop words generated tokens ['adhering', 'administered', 'adverse', 'advisable', 'affect', 'ago', 'allergic', 'almost', 'anti', 'appointment', 'approved', 'around', 'astrazeneca', 'august', 'authority', 'autonomy', 'available', 'avoid', 'back', 'best', 'better', 'big', 'bill', 'billionaire', 'body', 'boosted', 'booster', 'bullshit', 'called', 'came', 'campaign', 'card', 'case', 'catching', 'caused', 'cdc', 'centre', 'certificate', 'check', 'choice', 'clinic', 'clot', 'coming', 'community', 'company', 'complication', 'conspiracy', 'contracted', 'contracting', 'control', 'corona', 'county', 'cr', 'crime', 'crore', 'day', 'decision', 'delta', 'despite', 'detail', 'died', 'disease', 'distance', 'doctor', 'done', 'dos', 'dose', 'double', 'drive', 'effective', 'eligible', 'emergency', 'event', 'every', 'experimental', 'expose', 'fake', 'far', 'fear', 'feel', 'felt', 'female', 'find', 'first', 'flu', 'follow', 'forced', 'foundation', 'free', 'friend', 'fully', 'gate', 'gauteng', 'get', 'getting', 'gift', 'got', 'hand', 'hashtag', 'heart', 'help', 'home', 'hospital', 'hospitalisation', 'hospitalization', 'house', 'humanity', 'im', 'immunity', 'including', 'infection', 'injury', 'insurance', 'issue', 'jab', 'jabbed', 'july', 'kill', 'lakh', 'largest', 'last', 'le', 'lie', 'likely', 'lockdown', 'loved', 'made', 'majority', 'mandate', 'mandatory', 'manufacturer', 'medical', 'medium', 'melinda', 'mental', 'might', 'mild', 'ministry', 'moderna', 'monday', 'monkey', 'month', 'myocarditis', 'natural', 'nd', 'near', 'negative', 'new', 'news', 'night', 'non', 'nurse', 'offer', 'older', 'omicron', 'pandemic', 'part', 'partner', 'past', 'pcr', 'person', 'pm', 'poison', 'positive', 'precaution', 'prevent', 'preventing', 'pro', 'professional', 'program', 'proof', 'protect', 'protected', 'protection', 'protocol', 'providing', 'public', 'question', 'rapid', 'rat', 'received', 'receiving', 'recovered', 'reduce', 'related', 'remains', 'report', 'right', 'rt', 'safe', 'say', 'saying', 'schedule', 'season', 'second', 'sense', 'seriously', 'severe', 'shiva', 'single', 'site', 'st', 'statistic', 'stay', 'still', 'stop', 'summer', 'talking', 'testing', 'th', 'thank', 'theory', 'therapy', 'think', 'though', 'three', 'thursday', 'today', 'tpr', 'treatment', 'trend', 'truth', 'twice', 'updated', 'urged', 'vaccinated', 'vaccination', 'vaccine', 'variant', 'vaxxed', 'via', 'video', 'visit', 'wake', 'walk', 'want', 'watch', 'wave', 'weapon', 'wear', 'week', 'weekend', 'welcome', 'within', 'world', 'yesterday', 'young', 'yr'] not in stop_words.\n",
      "  warnings.warn(\n"
     ]
    },
    {
     "name": "stdout",
     "output_type": "stream",
     "text": [
      "Iteration 3 Complete\n"
     ]
    },
    {
     "name": "stderr",
     "output_type": "stream",
     "text": [
      "/Users/rhoeunpark/opt/anaconda3/envs/dsi/lib/python3.8/site-packages/sklearn/feature_extraction/text.py:396: UserWarning: Your stop_words may be inconsistent with your preprocessing. Tokenizing the stop words generated tokens ['adhering', 'administered', 'adverse', 'advisable', 'affect', 'ago', 'allergic', 'anti', 'appointment', 'approved', 'around', 'astrazeneca', 'august', 'authority', 'autonomy', 'available', 'avoid', 'back', 'best', 'bill', 'billion', 'billionaire', 'body', 'boosted', 'booster', 'bullshit', 'called', 'came', 'campaign', 'case', 'caused', 'cdc', 'centre', 'check', 'choice', 'clinic', 'clot', 'coming', 'community', 'company', 'complication', 'conspiracy', 'contracted', 'contracting', 'control', 'corona', 'county', 'cr', 'crime', 'crore', 'day', 'decision', 'delta', 'despite', 'detail', 'developed', 'died', 'distance', 'doctor', 'done', 'dos', 'dose', 'drive', 'effective', 'eligible', 'emergency', 'event', 'experimental', 'expose', 'fake', 'far', 'fear', 'feel', 'felt', 'female', 'finally', 'find', 'first', 'flu', 'follow', 'forced', 'foundation', 'free', 'freedom', 'friend', 'fully', 'gate', 'gauteng', 'get', 'getting', 'gift', 'got', 'hand', 'hashtag', 'heart', 'help', 'hospital', 'hospitalisation', 'hospitalization', 'house', 'humanity', 'im', 'immunity', 'including', 'india', 'infection', 'injection', 'injury', 'insurance', 'issue', 'jab', 'jabbed', 'july', 'lakh', 'largest', 'le', 'lie', 'likely', 'lockdown', 'loved', 'made', 'majority', 'mandate', 'mandating', 'mandatory', 'manufacturer', 'medical', 'medium', 'melinda', 'mental', 'might', 'mild', 'ministry', 'moderna', 'monday', 'monkey', 'month', 'natural', 'nd', 'near', 'negative', 'new', 'news', 'night', 'non', 'noted', 'nurse', 'offer', 'older', 'omicron', 'pandemic', 'part', 'partner', 'past', 'pcr', 'pm', 'poison', 'positive', 'precaution', 'prevent', 'preventing', 'pro', 'professional', 'program', 'proof', 'protect', 'protection', 'protocol', 'providing', 'public', 'question', 'rapid', 'rat', 'receive', 'received', 'receiving', 'recovered', 'reduce', 'refuse', 'remains', 'report', 'right', 'rt', 'safe', 'schedule', 'season', 'second', 'sense', 'severe', 'shiva', 'single', 'site', 'st', 'statistic', 'still', 'summer', 'talking', 'th', 'theory', 'therapy', 'though', 'three', 'thursday', 'today', 'tpr', 'treatment', 'trend', 'trial', 'truth', 'twice', 'updated', 'urged', 'vaccination', 'variant', 'vaxxed', 'video', 'visit', 'wake', 'walk', 'want', 'watch', 'wave', 'weapon', 'wear', 'week', 'weekend', 'welcome', 'within', 'wont', 'world', 'yesterday', 'young'] not in stop_words.\n",
      "  warnings.warn(\n",
      "/Users/rhoeunpark/opt/anaconda3/envs/dsi/lib/python3.8/site-packages/sklearn/linear_model/_logistic.py:814: ConvergenceWarning: lbfgs failed to converge (status=1):\n",
      "STOP: TOTAL NO. of ITERATIONS REACHED LIMIT.\n",
      "\n",
      "Increase the number of iterations (max_iter) or scale the data as shown in:\n",
      "    https://scikit-learn.org/stable/modules/preprocessing.html\n",
      "Please also refer to the documentation for alternative solver options:\n",
      "    https://scikit-learn.org/stable/modules/linear_model.html#logistic-regression\n",
      "  n_iter_i = _check_optimize_result(\n",
      "/Users/rhoeunpark/opt/anaconda3/envs/dsi/lib/python3.8/site-packages/sklearn/feature_extraction/text.py:396: UserWarning: Your stop_words may be inconsistent with your preprocessing. Tokenizing the stop words generated tokens ['adhering', 'administered', 'adverse', 'advisable', 'affect', 'ago', 'anti', 'appointment', 'approved', 'around', 'astrazeneca', 'august', 'authority', 'autonomy', 'available', 'avoid', 'back', 'best', 'bill', 'billion', 'billionaire', 'body', 'boosted', 'booster', 'bullshit', 'called', 'came', 'campaign', 'case', 'caused', 'cdc', 'centre', 'check', 'choice', 'clinic', 'clot', 'coming', 'community', 'company', 'complication', 'conspiracy', 'contracted', 'contracting', 'control', 'corona', 'county', 'cr', 'crime', 'crore', 'day', 'decision', 'delta', 'despite', 'detail', 'developed', 'died', 'distance', 'doctor', 'done', 'dos', 'dose', 'drive', 'effective', 'eligible', 'emergency', 'event', 'experimental', 'expose', 'fake', 'far', 'fear', 'feel', 'felt', 'female', 'finally', 'find', 'first', 'flu', 'follow', 'forced', 'foundation', 'free', 'freedom', 'friend', 'fully', 'gate', 'gauteng', 'get', 'getting', 'gift', 'got', 'hand', 'hashtag', 'heart', 'help', 'hospital', 'hospitalisation', 'hospitalization', 'house', 'humanity', 'im', 'immunity', 'including', 'india', 'infection', 'injection', 'injury', 'insurance', 'issue', 'jab', 'jabbed', 'july', 'lakh', 'largest', 'le', 'lie', 'likely', 'lockdown', 'loved', 'majority', 'mandate', 'mandating', 'mandatory', 'manufacturer', 'medical', 'medium', 'melinda', 'mental', 'might', 'mild', 'ministry', 'moderna', 'monday', 'monkey', 'month', 'natural', 'nd', 'near', 'negative', 'night', 'noted', 'nurse', 'offer', 'older', 'omicron', 'pandemic', 'part', 'partner', 'pcr', 'pm', 'poison', 'positive', 'precaution', 'preventing', 'pro', 'professional', 'program', 'proof', 'protect', 'protection', 'protocol', 'providing', 'public', 'question', 'rapid', 'rat', 'received', 'receiving', 'recovered', 'reduce', 'refuse', 'remains', 'right', 'rt', 'safe', 'schedule', 'season', 'second', 'sense', 'severe', 'shiva', 'single', 'site', 'st', 'statistic', 'still', 'summer', 'talking', 'th', 'theory', 'therapy', 'though', 'three', 'thursday', 'today', 'tpr', 'treatment', 'trend', 'trial', 'truth', 'twice', 'updated', 'urged', 'vaccination', 'variant', 'vaxxed', 'video', 'visit', 'wake', 'walk', 'want', 'watch', 'wave', 'weapon', 'wear', 'week', 'weekend', 'welcome', 'within', 'wont', 'world', 'yesterday', 'young'] not in stop_words.\n",
      "  warnings.warn(\n"
     ]
    },
    {
     "name": "stdout",
     "output_type": "stream",
     "text": [
      "Iteration 4 Complete\n",
      "Iteration 5 Complete\n"
     ]
    }
   ],
   "source": [
    "stopwords = []\n",
    "\n",
    "for num in range(5):\n",
    "\n",
    "    # Vectorize\n",
    "    tfidf = TfidfVectorizer(\n",
    "    stop_words=stopwords,\n",
    "    ngram_range=(1, 2),\n",
    "    min_df=20,\n",
    "    max_df=0.9,\n",
    "    strip_accents='ascii')\n",
    "\n",
    "    # Fit/Transform Vectorizer\n",
    "    X_transform = tfidf.fit_transform(X)\n",
    "\n",
    "    # Logistic Regression model prediction\n",
    "    lr = LogisticRegression()\n",
    "    lr.fit(X_transform, y)\n",
    "    print(f'Iteration {num + 1} Complete')\n",
    "\n",
    "    # Use low coefficients between 0.5 and -0.5 and add them to the list of stopwords to use in the next iteration\n",
    "    coefficients = pd.DataFrame(lr.coef_, columns=tfidf.get_feature_names_out()).T\n",
    "    low_coef_words = coefficients[(coefficients[0] < 0.5) & (coefficients[0] > -0.5)].T.columns\n",
    "    stopwords.extend(low_coef_words)\n",
    "\n",
    "# Final Fit/Transform with completed stopwords list\n",
    "X_transform = tfidf.fit_transform(X)"
   ]
  },
  {
   "cell_type": "code",
   "execution_count": 439,
   "id": "bc265135",
   "metadata": {
    "scrolled": true
   },
   "outputs": [
    {
     "data": {
      "text/plain": [
       "<32771x1515 sparse matrix of type '<class 'numpy.float64'>'\n",
       "\twith 151771 stored elements in Compressed Sparse Row format>"
      ]
     },
     "execution_count": 439,
     "metadata": {},
     "output_type": "execute_result"
    }
   ],
   "source": [
    "X_transform"
   ]
  },
  {
   "cell_type": "code",
   "execution_count": 440,
   "id": "d8999190",
   "metadata": {},
   "outputs": [],
   "source": [
    "df = pd.DataFrame(X_transform.todense(), columns = tfidf.get_feature_names_out())"
   ]
  },
  {
   "cell_type": "code",
   "execution_count": 442,
   "id": "06798c88",
   "metadata": {},
   "outputs": [
    {
     "data": {
      "text/plain": [
       "get            1098.865815\n",
       "vaccination     722.275053\n",
       "got             584.693680\n",
       "getting         531.154026\n",
       "still           522.147109\n",
       "day             447.089434\n",
       "case            441.334875\n",
       "booster         416.464043\n",
       "first           374.067595\n",
       "today           368.915436\n",
       "want            349.390329\n",
       "right           330.939189\n",
       "jab             330.416003\n",
       "world           311.683527\n",
       "pandemic        310.662202\n",
       "dtype: float64"
      ]
     },
     "execution_count": 442,
     "metadata": {},
     "output_type": "execute_result"
    }
   ],
   "source": [
    "df.sum().sort_values(ascending=False).head(15)"
   ]
  },
  {
   "cell_type": "markdown",
   "id": "afda86e8",
   "metadata": {},
   "source": [
    "## Save CSV file"
   ]
  },
  {
   "cell_type": "code",
   "execution_count": 459,
   "id": "c1a4561d",
   "metadata": {},
   "outputs": [],
   "source": [
    "tweets_processed = tweets[['datetime','text', 'p_text', 'hashtag', 'get_vaccine']]"
   ]
  },
  {
   "cell_type": "code",
   "execution_count": 460,
   "id": "4fafe978",
   "metadata": {},
   "outputs": [],
   "source": [
    "# set 1000 aside to test labeling function\n",
    "tweets_labeled_dev = tweets_processed.sample(1000, random_state=42)"
   ]
  },
  {
   "cell_type": "code",
   "execution_count": 461,
   "id": "aa0075cb",
   "metadata": {},
   "outputs": [],
   "source": [
    "# remaining for modeling\n",
    "tweets_processed = tweets_processed.drop(index=tweets_labeled_dev.index)"
   ]
  },
  {
   "cell_type": "code",
   "execution_count": 465,
   "id": "8ff552a6",
   "metadata": {},
   "outputs": [],
   "source": [
    "# set 0.2 of the remaining for test set\n",
    "tweets_test = tweets_processed.sample(frac=0.2, random_state=42)\n",
    "tweets_train = tweets_processed.drop(index=tweets_test.index)"
   ]
  },
  {
   "cell_type": "code",
   "execution_count": 466,
   "id": "0271dcdf",
   "metadata": {},
   "outputs": [],
   "source": [
    "# reset indeces\n",
    "tweets_labeled_dev = tweets_labeled_dev.reset_index(drop=True)\n",
    "tweets_test = tweets_test.reset_index(drop=True)\n",
    "tweets_train = tweets_train.reset_index(drop=True)"
   ]
  },
  {
   "cell_type": "code",
   "execution_count": 467,
   "id": "107a7400",
   "metadata": {},
   "outputs": [],
   "source": [
    "tweets_labeled_dev.to_csv('../data/tweets_labeled_dev.csv', index=False)\n",
    "tweets_test.to_csv('../data/hashlabeled_tweets_test.csv', index=False)\n",
    "tweets_train.to_csv('../data/hashlabeled_tweets_train.csv', index=False)"
   ]
  }
 ],
 "metadata": {
  "kernelspec": {
   "display_name": "Python 3 (ipykernel)",
   "language": "python",
   "name": "python3"
  },
  "language_info": {
   "codemirror_mode": {
    "name": "ipython",
    "version": 3
   },
   "file_extension": ".py",
   "mimetype": "text/x-python",
   "name": "python",
   "nbconvert_exporter": "python",
   "pygments_lexer": "ipython3",
   "version": "3.8.12"
  }
 },
 "nbformat": 4,
 "nbformat_minor": 5
}
