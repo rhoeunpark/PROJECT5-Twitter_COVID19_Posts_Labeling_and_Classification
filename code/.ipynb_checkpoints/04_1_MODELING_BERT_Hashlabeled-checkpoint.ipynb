{
 "cells": [
  {
   "cell_type": "code",
   "execution_count": 1,
   "metadata": {
    "colab": {
     "base_uri": "https://localhost:8080/"
    },
    "id": "S2dYhLoIuWLM",
    "outputId": "ea9603c8-df13-47fe-c72c-f9e39c7a08ec"
   },
   "outputs": [
    {
     "name": "stdout",
     "output_type": "stream",
     "text": [
      "\u001b[K     |████████████████████████████████| 4.6 MB 4.2 MB/s \n",
      "\u001b[K     |████████████████████████████████| 511.7 MB 5.9 kB/s \n",
      "\u001b[K     |████████████████████████████████| 1.6 MB 43.0 MB/s \n",
      "\u001b[K     |████████████████████████████████| 438 kB 57.0 MB/s \n",
      "\u001b[K     |████████████████████████████████| 5.8 MB 48.1 MB/s \n",
      "\u001b[?25h"
     ]
    }
   ],
   "source": [
    "!pip install -q tensorflow_text"
   ]
  },
  {
   "cell_type": "code",
   "execution_count": 3,
   "metadata": {
    "id": "JDwXbBnbt0YR"
   },
   "outputs": [],
   "source": [
    "import tensorflow as tf\n",
    "import tensorflow_hub as hub\n",
    "import tensorflow_text as text\n",
    "from tensorflow.keras.callbacks import EarlyStopping"
   ]
  },
  {
   "cell_type": "code",
   "execution_count": 20,
   "metadata": {
    "id": "INZZiR7CvOG1"
   },
   "outputs": [],
   "source": [
    "import pandas as pd\n",
    "import numpy as np\n",
    "\n",
    "from sklearn.model_selection import train_test_split\n",
    "from sklearn.metrics import confusion_matrix, classification_report\n",
    "\n",
    "from matplotlib import pyplot as plt\n",
    "import seaborn as sns"
   ]
  },
  {
   "cell_type": "code",
   "execution_count": 5,
   "metadata": {
    "colab": {
     "base_uri": "https://localhost:8080/",
     "height": 337
    },
    "id": "KaWV5H-Av6Da",
    "outputId": "312f1b9e-ea3d-4542-a93b-1dabd5312d46"
   },
   "outputs": [
    {
     "data": {
      "text/html": [
       "\n",
       "  <div id=\"df-a5479475-d238-4768-9563-e868b7b8221b\">\n",
       "    <div class=\"colab-df-container\">\n",
       "      <div>\n",
       "<style scoped>\n",
       "    .dataframe tbody tr th:only-of-type {\n",
       "        vertical-align: middle;\n",
       "    }\n",
       "\n",
       "    .dataframe tbody tr th {\n",
       "        vertical-align: top;\n",
       "    }\n",
       "\n",
       "    .dataframe thead th {\n",
       "        text-align: right;\n",
       "    }\n",
       "</style>\n",
       "<table border=\"1\" class=\"dataframe\">\n",
       "  <thead>\n",
       "    <tr style=\"text-align: right;\">\n",
       "      <th></th>\n",
       "      <th>datetime</th>\n",
       "      <th>text</th>\n",
       "      <th>p_text</th>\n",
       "      <th>hashtag</th>\n",
       "      <th>get_vaccine</th>\n",
       "    </tr>\n",
       "  </thead>\n",
       "  <tbody>\n",
       "    <tr>\n",
       "      <th>0</th>\n",
       "      <td>2021-10-16 13:26:08+00:00</td>\n",
       "      <td>Thank you @GovBillLee for sticking up for comm...</td>\n",
       "      <td>thank you for sticking up for common sense   t...</td>\n",
       "      <td>['MedicalFreedom']</td>\n",
       "      <td>0</td>\n",
       "    </tr>\n",
       "    <tr>\n",
       "      <th>1</th>\n",
       "      <td>2022-08-01 01:29:50+00:00</td>\n",
       "      <td>When anti-Vaxxers tweet #vaccineinjuries at yo...</td>\n",
       "      <td>when anti vaxxers tweet at you  remind them th...</td>\n",
       "      <td>[]</td>\n",
       "      <td>0</td>\n",
       "    </tr>\n",
       "    <tr>\n",
       "      <th>2</th>\n",
       "      <td>2021-07-29 18:38:33+00:00</td>\n",
       "      <td>@GregoryDavisHNH @beverleyturner @JamesfWells ...</td>\n",
       "      <td>your is breath taking  you think removing for ...</td>\n",
       "      <td>[]</td>\n",
       "      <td>0</td>\n",
       "    </tr>\n",
       "    <tr>\n",
       "      <th>3</th>\n",
       "      <td>2022-08-01 17:00:00+00:00</td>\n",
       "      <td>What do you think about the Covid-19 vaccinati...</td>\n",
       "      <td>what do you think about the covid  vaccination...</td>\n",
       "      <td>[]</td>\n",
       "      <td>1</td>\n",
       "    </tr>\n",
       "    <tr>\n",
       "      <th>4</th>\n",
       "      <td>2021-12-17 12:17:42+00:00</td>\n",
       "      <td>It’s been out there in plain sight for many ye...</td>\n",
       "      <td>its been out there in plain sight for many yea...</td>\n",
       "      <td>[]</td>\n",
       "      <td>0</td>\n",
       "    </tr>\n",
       "  </tbody>\n",
       "</table>\n",
       "</div>\n",
       "      <button class=\"colab-df-convert\" onclick=\"convertToInteractive('df-a5479475-d238-4768-9563-e868b7b8221b')\"\n",
       "              title=\"Convert this dataframe to an interactive table.\"\n",
       "              style=\"display:none;\">\n",
       "        \n",
       "  <svg xmlns=\"http://www.w3.org/2000/svg\" height=\"24px\"viewBox=\"0 0 24 24\"\n",
       "       width=\"24px\">\n",
       "    <path d=\"M0 0h24v24H0V0z\" fill=\"none\"/>\n",
       "    <path d=\"M18.56 5.44l.94 2.06.94-2.06 2.06-.94-2.06-.94-.94-2.06-.94 2.06-2.06.94zm-11 1L8.5 8.5l.94-2.06 2.06-.94-2.06-.94L8.5 2.5l-.94 2.06-2.06.94zm10 10l.94 2.06.94-2.06 2.06-.94-2.06-.94-.94-2.06-.94 2.06-2.06.94z\"/><path d=\"M17.41 7.96l-1.37-1.37c-.4-.4-.92-.59-1.43-.59-.52 0-1.04.2-1.43.59L10.3 9.45l-7.72 7.72c-.78.78-.78 2.05 0 2.83L4 21.41c.39.39.9.59 1.41.59.51 0 1.02-.2 1.41-.59l7.78-7.78 2.81-2.81c.8-.78.8-2.07 0-2.86zM5.41 20L4 18.59l7.72-7.72 1.47 1.35L5.41 20z\"/>\n",
       "  </svg>\n",
       "      </button>\n",
       "      \n",
       "  <style>\n",
       "    .colab-df-container {\n",
       "      display:flex;\n",
       "      flex-wrap:wrap;\n",
       "      gap: 12px;\n",
       "    }\n",
       "\n",
       "    .colab-df-convert {\n",
       "      background-color: #E8F0FE;\n",
       "      border: none;\n",
       "      border-radius: 50%;\n",
       "      cursor: pointer;\n",
       "      display: none;\n",
       "      fill: #1967D2;\n",
       "      height: 32px;\n",
       "      padding: 0 0 0 0;\n",
       "      width: 32px;\n",
       "    }\n",
       "\n",
       "    .colab-df-convert:hover {\n",
       "      background-color: #E2EBFA;\n",
       "      box-shadow: 0px 1px 2px rgba(60, 64, 67, 0.3), 0px 1px 3px 1px rgba(60, 64, 67, 0.15);\n",
       "      fill: #174EA6;\n",
       "    }\n",
       "\n",
       "    [theme=dark] .colab-df-convert {\n",
       "      background-color: #3B4455;\n",
       "      fill: #D2E3FC;\n",
       "    }\n",
       "\n",
       "    [theme=dark] .colab-df-convert:hover {\n",
       "      background-color: #434B5C;\n",
       "      box-shadow: 0px 1px 3px 1px rgba(0, 0, 0, 0.15);\n",
       "      filter: drop-shadow(0px 1px 2px rgba(0, 0, 0, 0.3));\n",
       "      fill: #FFFFFF;\n",
       "    }\n",
       "  </style>\n",
       "\n",
       "      <script>\n",
       "        const buttonEl =\n",
       "          document.querySelector('#df-a5479475-d238-4768-9563-e868b7b8221b button.colab-df-convert');\n",
       "        buttonEl.style.display =\n",
       "          google.colab.kernel.accessAllowed ? 'block' : 'none';\n",
       "\n",
       "        async function convertToInteractive(key) {\n",
       "          const element = document.querySelector('#df-a5479475-d238-4768-9563-e868b7b8221b');\n",
       "          const dataTable =\n",
       "            await google.colab.kernel.invokeFunction('convertToInteractive',\n",
       "                                                     [key], {});\n",
       "          if (!dataTable) return;\n",
       "\n",
       "          const docLinkHtml = 'Like what you see? Visit the ' +\n",
       "            '<a target=\"_blank\" href=https://colab.research.google.com/notebooks/data_table.ipynb>data table notebook</a>'\n",
       "            + ' to learn more about interactive tables.';\n",
       "          element.innerHTML = '';\n",
       "          dataTable['output_type'] = 'display_data';\n",
       "          await google.colab.output.renderOutput(dataTable, element);\n",
       "          const docLink = document.createElement('div');\n",
       "          docLink.innerHTML = docLinkHtml;\n",
       "          element.appendChild(docLink);\n",
       "        }\n",
       "      </script>\n",
       "    </div>\n",
       "  </div>\n",
       "  "
      ],
      "text/plain": [
       "                    datetime  \\\n",
       "0  2021-10-16 13:26:08+00:00   \n",
       "1  2022-08-01 01:29:50+00:00   \n",
       "2  2021-07-29 18:38:33+00:00   \n",
       "3  2022-08-01 17:00:00+00:00   \n",
       "4  2021-12-17 12:17:42+00:00   \n",
       "\n",
       "                                                text  \\\n",
       "0  Thank you @GovBillLee for sticking up for comm...   \n",
       "1  When anti-Vaxxers tweet #vaccineinjuries at yo...   \n",
       "2  @GregoryDavisHNH @beverleyturner @JamesfWells ...   \n",
       "3  What do you think about the Covid-19 vaccinati...   \n",
       "4  It’s been out there in plain sight for many ye...   \n",
       "\n",
       "                                              p_text             hashtag  \\\n",
       "0  thank you for sticking up for common sense   t...  ['MedicalFreedom']   \n",
       "1  when anti vaxxers tweet at you  remind them th...                  []   \n",
       "2  your is breath taking  you think removing for ...                  []   \n",
       "3  what do you think about the covid  vaccination...                  []   \n",
       "4  its been out there in plain sight for many yea...                  []   \n",
       "\n",
       "   get_vaccine  \n",
       "0            0  \n",
       "1            0  \n",
       "2            0  \n",
       "3            1  \n",
       "4            0  "
      ]
     },
     "execution_count": 5,
     "metadata": {},
     "output_type": "execute_result"
    }
   ],
   "source": [
    "tweets_train = pd.read_csv('/content/drive/MyDrive/Colab Notebooks/Projects/Capstone/data/hashlabeled_tweets_train.csv')\n",
    "tweets_train.head()"
   ]
  },
  {
   "cell_type": "code",
   "execution_count": 6,
   "metadata": {
    "id": "UpccpVhJwIJA"
   },
   "outputs": [],
   "source": [
    "X = tweets_train['text']\n",
    "y = tweets_train['get_vaccine']"
   ]
  },
  {
   "cell_type": "code",
   "execution_count": 7,
   "metadata": {
    "id": "9jVtFL16wNnS"
   },
   "outputs": [],
   "source": [
    "X_train, X_val, y_train, y_val = train_test_split(X, y, random_state=42, stratify=y)"
   ]
  },
  {
   "cell_type": "code",
   "execution_count": 8,
   "metadata": {
    "id": "730_B4w_wRJA"
   },
   "outputs": [],
   "source": [
    "bert_preprocess = hub.KerasLayer(\"https://tfhub.dev/tensorflow/bert_en_uncased_preprocess/3\")\n",
    "bert_encoder = hub.KerasLayer(\"https://tfhub.dev/tensorflow/bert_en_uncased_L-12_H-768_A-12/4\")"
   ]
  },
  {
   "cell_type": "markdown",
   "metadata": {
    "id": "e3d8TK6MxG6x"
   },
   "source": [
    "---"
   ]
  },
  {
   "cell_type": "code",
   "execution_count": 38,
   "metadata": {
    "id": "zDT0yixAxHqf"
   },
   "outputs": [],
   "source": [
    "# Bert layers\n",
    "text_input = tf.keras.layers.Input(shape=(), dtype=tf.string, name='text')\n",
    "preprocessed_text = bert_preprocess(text_input)\n",
    "outputs = bert_encoder(preprocessed_text)\n",
    "\n",
    "# Neural network layers\n",
    "l = tf.keras.layers.Dropout(0.1, name=\"dropout\")(outputs['pooled_output'])\n",
    "l = tf.keras.layers.Dense(1, activation='sigmoid', name=\"output\")(l)\n",
    "\n",
    "# Use inputs and outputs to construct a final model\n",
    "model = tf.keras.Model(inputs=[text_input], outputs = [l])"
   ]
  },
  {
   "cell_type": "code",
   "execution_count": 39,
   "metadata": {
    "colab": {
     "base_uri": "https://localhost:8080/"
    },
    "id": "jiJHVFRtxUlF",
    "outputId": "7612c5f5-8fff-47d5-c694-3bef933ac6ff"
   },
   "outputs": [
    {
     "name": "stdout",
     "output_type": "stream",
     "text": [
      "Model: \"model_1\"\n",
      "__________________________________________________________________________________________________\n",
      " Layer (type)                   Output Shape         Param #     Connected to                     \n",
      "==================================================================================================\n",
      " text (InputLayer)              [(None,)]            0           []                               \n",
      "                                                                                                  \n",
      " keras_layer (KerasLayer)       {'input_word_ids':   0           ['text[0][0]']                   \n",
      "                                (None, 128),                                                      \n",
      "                                 'input_mask': (Non                                               \n",
      "                                e, 128),                                                          \n",
      "                                 'input_type_ids':                                                \n",
      "                                (None, 128)}                                                      \n",
      "                                                                                                  \n",
      " keras_layer_1 (KerasLayer)     {'encoder_outputs':  109482241   ['keras_layer[1][0]',            \n",
      "                                 [(None, 128, 768),               'keras_layer[1][1]',            \n",
      "                                 (None, 128, 768),                'keras_layer[1][2]']            \n",
      "                                 (None, 128, 768),                                                \n",
      "                                 (None, 128, 768),                                                \n",
      "                                 (None, 128, 768),                                                \n",
      "                                 (None, 128, 768),                                                \n",
      "                                 (None, 128, 768),                                                \n",
      "                                 (None, 128, 768),                                                \n",
      "                                 (None, 128, 768),                                                \n",
      "                                 (None, 128, 768),                                                \n",
      "                                 (None, 128, 768),                                                \n",
      "                                 (None, 128, 768)],                                               \n",
      "                                 'sequence_output':                                               \n",
      "                                 (None, 128, 768),                                                \n",
      "                                 'pooled_output': (                                               \n",
      "                                None, 768),                                                       \n",
      "                                 'default': (None,                                                \n",
      "                                768)}                                                             \n",
      "                                                                                                  \n",
      " dropout (Dropout)              (None, 768)          0           ['keras_layer_1[1][13]']         \n",
      "                                                                                                  \n",
      " output (Dense)                 (None, 1)            769         ['dropout[0][0]']                \n",
      "                                                                                                  \n",
      "==================================================================================================\n",
      "Total params: 109,483,010\n",
      "Trainable params: 769\n",
      "Non-trainable params: 109,482,241\n",
      "__________________________________________________________________________________________________\n"
     ]
    }
   ],
   "source": [
    "model.summary()"
   ]
  },
  {
   "cell_type": "code",
   "execution_count": 42,
   "metadata": {
    "id": "xB0sLSaQxY15"
   },
   "outputs": [],
   "source": [
    "early_stop = EarlyStopping(monitor='val_loss',\n",
    "                           min_delta=0,\n",
    "                           patience=5,\n",
    "                           verbose=1\n",
    "                           )\n",
    "\n",
    "METRICS = [\n",
    "      tf.keras.metrics.BinaryAccuracy(name='accuracy'),\n",
    "      tf.keras.metrics.Precision(name='precision'),\n",
    "      tf.keras.metrics.Recall(name='recall')\n",
    "]\n",
    "\n",
    "model.compile(optimizer='adam',\n",
    "              loss='binary_crossentropy',\n",
    "              metrics=METRICS)"
   ]
  },
  {
   "cell_type": "code",
   "execution_count": 43,
   "metadata": {
    "colab": {
     "base_uri": "https://localhost:8080/"
    },
    "id": "q6HPpPfcxcbk",
    "outputId": "320f7b4f-11fc-4d79-eece-ec8ccf5b1667"
   },
   "outputs": [
    {
     "name": "stdout",
     "output_type": "stream",
     "text": [
      "Epoch 1/10\n",
      "597/597 [==============================] - 270s 448ms/step - loss: 0.6813 - accuracy: 0.5674 - precision: 0.5615 - recall: 0.5401 - val_loss: 0.6366 - val_accuracy: 0.6587 - val_precision: 0.8184 - val_recall: 0.3910\n",
      "Epoch 2/10\n",
      "597/597 [==============================] - 267s 447ms/step - loss: 0.6259 - accuracy: 0.6594 - precision: 0.6566 - recall: 0.6409 - val_loss: 0.5999 - val_accuracy: 0.7096 - val_precision: 0.8013 - val_recall: 0.5424\n",
      "Epoch 3/10\n",
      "597/597 [==============================] - 266s 446ms/step - loss: 0.5988 - accuracy: 0.6829 - precision: 0.6804 - recall: 0.6670 - val_loss: 0.5746 - val_accuracy: 0.7178 - val_precision: 0.7051 - val_recall: 0.7297\n",
      "Epoch 4/10\n",
      "597/597 [==============================] - 266s 446ms/step - loss: 0.5861 - accuracy: 0.6984 - precision: 0.6932 - recall: 0.6909 - val_loss: 0.5626 - val_accuracy: 0.7319 - val_precision: 0.7708 - val_recall: 0.6452\n",
      "Epoch 5/10\n",
      "597/597 [==============================] - 266s 446ms/step - loss: 0.5712 - accuracy: 0.7078 - precision: 0.7052 - recall: 0.6948 - val_loss: 0.5543 - val_accuracy: 0.7229 - val_precision: 0.6878 - val_recall: 0.7970\n",
      "Epoch 6/10\n",
      "597/597 [==============================] - 267s 447ms/step - loss: 0.5655 - accuracy: 0.7091 - precision: 0.7055 - recall: 0.6988 - val_loss: 0.5445 - val_accuracy: 0.7376 - val_precision: 0.7401 - val_recall: 0.7166\n",
      "Epoch 7/10\n",
      "597/597 [==============================] - 267s 447ms/step - loss: 0.5598 - accuracy: 0.7146 - precision: 0.7114 - recall: 0.7037 - val_loss: 0.5417 - val_accuracy: 0.7427 - val_precision: 0.7899 - val_recall: 0.6478\n",
      "Epoch 8/10\n",
      "597/597 [==============================] - 267s 447ms/step - loss: 0.5551 - accuracy: 0.7171 - precision: 0.7127 - recall: 0.7092 - val_loss: 0.5336 - val_accuracy: 0.7454 - val_precision: 0.7517 - val_recall: 0.7182\n",
      "Epoch 9/10\n",
      "597/597 [==============================] - 267s 448ms/step - loss: 0.5525 - accuracy: 0.7188 - precision: 0.7145 - recall: 0.7111 - val_loss: 0.5369 - val_accuracy: 0.7457 - val_precision: 0.8100 - val_recall: 0.6292\n",
      "Epoch 10/10\n",
      "597/597 [==============================] - 268s 448ms/step - loss: 0.5521 - accuracy: 0.7187 - precision: 0.7154 - recall: 0.7083 - val_loss: 0.5280 - val_accuracy: 0.7515 - val_precision: 0.7853 - val_recall: 0.6792\n"
     ]
    }
   ],
   "source": [
    "history = model.fit(X_train, y_train, \n",
    "                    validation_data = (X_val, y_val),\n",
    "                    epochs=10,\n",
    "                    callbacks=[early_stop]\n",
    "                    )"
   ]
  },
  {
   "cell_type": "markdown",
   "metadata": {
    "id": "ccgcfdctq5D1"
   },
   "source": [
    "save history and model for future use and evaluation"
   ]
  },
  {
   "cell_type": "code",
   "execution_count": 57,
   "metadata": {
    "id": "MR4i_Vp5Qwhk"
   },
   "outputs": [],
   "source": [
    "history_df = pd.DataFrame.from_dict(history.history)"
   ]
  },
  {
   "cell_type": "code",
   "execution_count": 58,
   "metadata": {
    "id": "UF2m_ScUPd7J"
   },
   "outputs": [],
   "source": [
    "pd.DataFrame.from_dict(history.history).to_csv(\"/content/drive/MyDrive/Colab Notebooks/Projects/Capstone/history/hash_model.csv\", index=False)"
   ]
  },
  {
   "cell_type": "code",
   "execution_count": 60,
   "metadata": {
    "id": "hlCYjUEhQYy9"
   },
   "outputs": [],
   "source": [
    "model_path = \"/content/drive/MyDrive/Colab Notebooks/Projects/Capstone/models/hash_model\""
   ]
  },
  {
   "cell_type": "code",
   "execution_count": 61,
   "metadata": {
    "colab": {
     "base_uri": "https://localhost:8080/"
    },
    "id": "ybjY8RIWRXn8",
    "outputId": "13322695-b641-4278-b679-3e71139c547f"
   },
   "outputs": [
    {
     "name": "stderr",
     "output_type": "stream",
     "text": [
      "WARNING:absl:Found untraced functions such as restored_function_body, restored_function_body, restored_function_body, restored_function_body, restored_function_body while saving (showing 5 of 366). These functions will not be directly callable after loading.\n"
     ]
    }
   ],
   "source": [
    "model.save(model_path)"
   ]
  },
  {
   "cell_type": "code",
   "execution_count": 13,
   "metadata": {
    "id": "mIuFsv5KqviB"
   },
   "outputs": [],
   "source": [
    "model_reload = tf.keras.models.load_model(\"/content/drive/MyDrive/Colab Notebooks/Projects/Capstone/models/hash_model\")"
   ]
  },
  {
   "cell_type": "code",
   "execution_count": 10,
   "metadata": {
    "id": "4Y2Ll5w9sAJw"
   },
   "outputs": [],
   "source": [
    "test = pd.read_csv(\"/content/drive/MyDrive/Colab Notebooks/Projects/Capstone/data/hashlabeled_tweets_test.csv\")"
   ]
  },
  {
   "cell_type": "code",
   "execution_count": 11,
   "metadata": {
    "id": "UGwgsDp9srMb"
   },
   "outputs": [],
   "source": [
    "X_test = test['text']\n",
    "y_test = test['get_vaccine']"
   ]
  },
  {
   "cell_type": "code",
   "execution_count": 14,
   "metadata": {
    "colab": {
     "base_uri": "https://localhost:8080/"
    },
    "id": "Air9E42_xfpf",
    "outputId": "bc33ab52-4c31-4e46-9253-d3cf014cfc9d"
   },
   "outputs": [
    {
     "name": "stdout",
     "output_type": "stream",
     "text": [
      "199/199 [==============================] - 2875s 14s/step\n"
     ]
    }
   ],
   "source": [
    "preds = model_reload.predict(X_test)"
   ]
  },
  {
   "cell_type": "code",
   "execution_count": 16,
   "metadata": {
    "id": "Sv4msD_W8D43"
   },
   "outputs": [],
   "source": [
    "preds_class = preds.flatten()\n",
    "preds_class = np.where(preds_class > 0.5, 1, 0)"
   ]
  },
  {
   "cell_type": "code",
   "execution_count": 19,
   "metadata": {
    "colab": {
     "base_uri": "https://localhost:8080/"
    },
    "id": "KgaiqE5R7gM_",
    "outputId": "f9322d1d-2b55-46b8-fb31-a3cd95dae953"
   },
   "outputs": [
    {
     "data": {
      "text/plain": [
       "array([[2625,  617],\n",
       "       [ 973, 2151]])"
      ]
     },
     "execution_count": 19,
     "metadata": {},
     "output_type": "execute_result"
    }
   ],
   "source": [
    "cm = confusion_matrix(y_test, preds_class)\n",
    "cm "
   ]
  },
  {
   "cell_type": "code",
   "execution_count": 21,
   "metadata": {
    "colab": {
     "base_uri": "https://localhost:8080/",
     "height": 297
    },
    "id": "BAXSgzrc7oRT",
    "outputId": "c96b1fcd-c0f0-4286-e715-6c6b24ccf94f"
   },
   "outputs": [
    {
     "data": {
      "text/plain": [
       "Text(33.0, 0.5, 'Truth')"
      ]
     },
     "execution_count": 21,
     "metadata": {},
     "output_type": "execute_result"
    },
    {
     "data": {
      "image/png": "[encoded data removed]",
      "text/plain": [
       "<Figure size 432x288 with 2 Axes>"
      ]
     },
     "metadata": {
      "needs_background": "light"
     },
     "output_type": "display_data"
    }
   ],
   "source": [
    "from matplotlib import pyplot as plt\n",
    "import seaborn as sns\n",
    "sns.heatmap(cm, annot=True, fmt='d')\n",
    "plt.xlabel('Predicted')\n",
    "plt.ylabel('Truth')"
   ]
  },
  {
   "cell_type": "code",
   "execution_count": 24,
   "metadata": {
    "colab": {
     "base_uri": "https://localhost:8080/"
    },
    "id": "7oVOg_ST7rKD",
    "outputId": "ca38c09a-33ce-4edb-a1f6-429757d5ccb7"
   },
   "outputs": [
    {
     "name": "stdout",
     "output_type": "stream",
     "text": [
      "              precision    recall  f1-score   support\n",
      "\n",
      "           0       0.73      0.81      0.77      3242\n",
      "           1       0.78      0.69      0.73      3124\n",
      "\n",
      "    accuracy                           0.75      6366\n",
      "   macro avg       0.75      0.75      0.75      6366\n",
      "weighted avg       0.75      0.75      0.75      6366\n",
      "\n"
     ]
    }
   ],
   "source": [
    "print(classification_report(y_test, preds_class))"
   ]
  },
  {
   "cell_type": "code",
   "execution_count": null,
   "metadata": {
    "id": "NnM6sLgfTORk"
   },
   "outputs": [],
   "source": []
  }
 ],
 "metadata": {
  "accelerator": "GPU",
  "colab": {
   "name": "BERT_Hashlabeled_data.ipynb",
   "provenance": []
  },
  "gpuClass": "standard",
  "kernelspec": {
   "display_name": "Python 3 (ipykernel)",
   "language": "python",
   "name": "python3"
  },
  "language_info": {
   "codemirror_mode": {
    "name": "ipython",
    "version": 3
   },
   "file_extension": ".py",
   "mimetype": "text/x-python",
   "name": "python",
   "nbconvert_exporter": "python",
   "pygments_lexer": "ipython3",
   "version": "3.8.12"
  }
 },
 "nbformat": 4,
 "nbformat_minor": 1
}
