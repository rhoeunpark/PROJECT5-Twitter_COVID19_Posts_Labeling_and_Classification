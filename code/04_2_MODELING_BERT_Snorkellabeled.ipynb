{
 "cells": [
  {
   "cell_type": "markdown",
   "metadata": {},
   "source": [
    "# 04_1: BERT Modeling - Snorkel Labeled"
   ]
  },
  {
   "cell_type": "markdown",
   "metadata": {},
   "source": [
    "***Following codes were run in Google Colab** \n",
    "\\\n",
    "***File paths were modified for local application**\n"
   ]
  },
  {
   "cell_type": "markdown",
   "metadata": {},
   "source": [
    "---"
   ]
  },
  {
   "cell_type": "markdown",
   "metadata": {},
   "source": [
    "## Install & Imports"
   ]
  },
  {
   "cell_type": "code",
   "execution_count": 1,
   "metadata": {
    "colab": {
     "base_uri": "https://localhost:8080/"
    },
    "id": "S2dYhLoIuWLM",
    "outputId": "d6476780-8479-4098-ec06-6343f9f9a086"
   },
   "outputs": [
    {
     "name": "stdout",
     "output_type": "stream",
     "text": [
      "\u001b[K     |████████████████████████████████| 4.6 MB 8.6 MB/s \n",
      "\u001b[K     |████████████████████████████████| 511.7 MB 5.5 kB/s \n",
      "\u001b[K     |████████████████████████████████| 438 kB 51.1 MB/s \n",
      "\u001b[K     |████████████████████████████████| 1.6 MB 38.8 MB/s \n",
      "\u001b[K     |████████████████████████████████| 5.8 MB 39.7 MB/s \n",
      "\u001b[?25h"
     ]
    }
   ],
   "source": [
    "!pip install -q tensorflow_text"
   ]
  },
  {
   "cell_type": "code",
   "execution_count": 2,
   "metadata": {
    "id": "JDwXbBnbt0YR"
   },
   "outputs": [],
   "source": [
    "import tensorflow as tf\n",
    "import tensorflow_hub as hub\n",
    "import tensorflow_text as text\n",
    "from tensorflow.keras.callbacks import EarlyStopping"
   ]
  },
  {
   "cell_type": "code",
   "execution_count": 35,
   "metadata": {
    "id": "INZZiR7CvOG1"
   },
   "outputs": [],
   "source": [
    "import pandas as pd\n",
    "import numpy as np\n",
    "\n",
    "from matplotlib import pyplot as plt\n",
    "import seaborn as sns\n",
    "\n",
    "from sklearn.model_selection import train_test_split\n",
    "from sklearn.metrics import confusion_matrix, classification_report\n"
   ]
  },
  {
   "cell_type": "markdown",
   "metadata": {},
   "source": [
    "## Load Data"
   ]
  },
  {
   "cell_type": "code",
   "execution_count": 6,
   "metadata": {
    "colab": {
     "base_uri": "https://localhost:8080/",
     "height": 206
    },
    "id": "KaWV5H-Av6Da",
    "outputId": "8df563cc-fb44-413e-d0a9-9e0adc019d6a"
   },
   "outputs": [
    {
     "data": {
      "text/html": [
       "\n",
       "  <div id=\"df-3cb6af57-c1a2-4c80-9b8d-759ab4802198\">\n",
       "    <div class=\"colab-df-container\">\n",
       "      <div>\n",
       "<style scoped>\n",
       "    .dataframe tbody tr th:only-of-type {\n",
       "        vertical-align: middle;\n",
       "    }\n",
       "\n",
       "    .dataframe tbody tr th {\n",
       "        vertical-align: top;\n",
       "    }\n",
       "\n",
       "    .dataframe thead th {\n",
       "        text-align: right;\n",
       "    }\n",
       "</style>\n",
       "<table border=\"1\" class=\"dataframe\">\n",
       "  <thead>\n",
       "    <tr style=\"text-align: right;\">\n",
       "      <th></th>\n",
       "      <th>datetime</th>\n",
       "      <th>text</th>\n",
       "      <th>label</th>\n",
       "    </tr>\n",
       "  </thead>\n",
       "  <tbody>\n",
       "    <tr>\n",
       "      <th>0</th>\n",
       "      <td>2021-01-20 23:59:58+00:00</td>\n",
       "      <td>@acevenvevo @ADM_Briggs @Anthony37662002 @Vibe...</td>\n",
       "      <td>1</td>\n",
       "    </tr>\n",
       "    <tr>\n",
       "      <th>1</th>\n",
       "      <td>2021-01-20 23:59:52+00:00</td>\n",
       "      <td>Please read this important thread from my offi...</td>\n",
       "      <td>1</td>\n",
       "    </tr>\n",
       "    <tr>\n",
       "      <th>2</th>\n",
       "      <td>2021-01-20 23:59:42+00:00</td>\n",
       "      <td>Just saw two homeless people giving themselves...</td>\n",
       "      <td>1</td>\n",
       "    </tr>\n",
       "    <tr>\n",
       "      <th>3</th>\n",
       "      <td>2021-01-20 23:59:38+00:00</td>\n",
       "      <td>Santa Cruz County says the goal is to distribu...</td>\n",
       "      <td>1</td>\n",
       "    </tr>\n",
       "    <tr>\n",
       "      <th>4</th>\n",
       "      <td>2021-01-20 23:59:25+00:00</td>\n",
       "      <td>Amazon offers to help Biden speed delivery of ...</td>\n",
       "      <td>1</td>\n",
       "    </tr>\n",
       "  </tbody>\n",
       "</table>\n",
       "</div>\n",
       "      <button class=\"colab-df-convert\" onclick=\"convertToInteractive('df-3cb6af57-c1a2-4c80-9b8d-759ab4802198')\"\n",
       "              title=\"Convert this dataframe to an interactive table.\"\n",
       "              style=\"display:none;\">\n",
       "        \n",
       "  <svg xmlns=\"http://www.w3.org/2000/svg\" height=\"24px\"viewBox=\"0 0 24 24\"\n",
       "       width=\"24px\">\n",
       "    <path d=\"M0 0h24v24H0V0z\" fill=\"none\"/>\n",
       "    <path d=\"M18.56 5.44l.94 2.06.94-2.06 2.06-.94-2.06-.94-.94-2.06-.94 2.06-2.06.94zm-11 1L8.5 8.5l.94-2.06 2.06-.94-2.06-.94L8.5 2.5l-.94 2.06-2.06.94zm10 10l.94 2.06.94-2.06 2.06-.94-2.06-.94-.94-2.06-.94 2.06-2.06.94z\"/><path d=\"M17.41 7.96l-1.37-1.37c-.4-.4-.92-.59-1.43-.59-.52 0-1.04.2-1.43.59L10.3 9.45l-7.72 7.72c-.78.78-.78 2.05 0 2.83L4 21.41c.39.39.9.59 1.41.59.51 0 1.02-.2 1.41-.59l7.78-7.78 2.81-2.81c.8-.78.8-2.07 0-2.86zM5.41 20L4 18.59l7.72-7.72 1.47 1.35L5.41 20z\"/>\n",
       "  </svg>\n",
       "      </button>\n",
       "      \n",
       "  <style>\n",
       "    .colab-df-container {\n",
       "      display:flex;\n",
       "      flex-wrap:wrap;\n",
       "      gap: 12px;\n",
       "    }\n",
       "\n",
       "    .colab-df-convert {\n",
       "      background-color: #E8F0FE;\n",
       "      border: none;\n",
       "      border-radius: 50%;\n",
       "      cursor: pointer;\n",
       "      display: none;\n",
       "      fill: #1967D2;\n",
       "      height: 32px;\n",
       "      padding: 0 0 0 0;\n",
       "      width: 32px;\n",
       "    }\n",
       "\n",
       "    .colab-df-convert:hover {\n",
       "      background-color: #E2EBFA;\n",
       "      box-shadow: 0px 1px 2px rgba(60, 64, 67, 0.3), 0px 1px 3px 1px rgba(60, 64, 67, 0.15);\n",
       "      fill: #174EA6;\n",
       "    }\n",
       "\n",
       "    [theme=dark] .colab-df-convert {\n",
       "      background-color: #3B4455;\n",
       "      fill: #D2E3FC;\n",
       "    }\n",
       "\n",
       "    [theme=dark] .colab-df-convert:hover {\n",
       "      background-color: #434B5C;\n",
       "      box-shadow: 0px 1px 3px 1px rgba(0, 0, 0, 0.15);\n",
       "      filter: drop-shadow(0px 1px 2px rgba(0, 0, 0, 0.3));\n",
       "      fill: #FFFFFF;\n",
       "    }\n",
       "  </style>\n",
       "\n",
       "      <script>\n",
       "        const buttonEl =\n",
       "          document.querySelector('#df-3cb6af57-c1a2-4c80-9b8d-759ab4802198 button.colab-df-convert');\n",
       "        buttonEl.style.display =\n",
       "          google.colab.kernel.accessAllowed ? 'block' : 'none';\n",
       "\n",
       "        async function convertToInteractive(key) {\n",
       "          const element = document.querySelector('#df-3cb6af57-c1a2-4c80-9b8d-759ab4802198');\n",
       "          const dataTable =\n",
       "            await google.colab.kernel.invokeFunction('convertToInteractive',\n",
       "                                                     [key], {});\n",
       "          if (!dataTable) return;\n",
       "\n",
       "          const docLinkHtml = 'Like what you see? Visit the ' +\n",
       "            '<a target=\"_blank\" href=https://colab.research.google.com/notebooks/data_table.ipynb>data table notebook</a>'\n",
       "            + ' to learn more about interactive tables.';\n",
       "          element.innerHTML = '';\n",
       "          dataTable['output_type'] = 'display_data';\n",
       "          await google.colab.output.renderOutput(dataTable, element);\n",
       "          const docLink = document.createElement('div');\n",
       "          docLink.innerHTML = docLinkHtml;\n",
       "          element.appendChild(docLink);\n",
       "        }\n",
       "      </script>\n",
       "    </div>\n",
       "  </div>\n",
       "  "
      ],
      "text/plain": [
       "                    datetime  \\\n",
       "0  2021-01-20 23:59:58+00:00   \n",
       "1  2021-01-20 23:59:52+00:00   \n",
       "2  2021-01-20 23:59:42+00:00   \n",
       "3  2021-01-20 23:59:38+00:00   \n",
       "4  2021-01-20 23:59:25+00:00   \n",
       "\n",
       "                                                text  label  \n",
       "0  @acevenvevo @ADM_Briggs @Anthony37662002 @Vibe...      1  \n",
       "1  Please read this important thread from my offi...      1  \n",
       "2  Just saw two homeless people giving themselves...      1  \n",
       "3  Santa Cruz County says the goal is to distribu...      1  \n",
       "4  Amazon offers to help Biden speed delivery of ...      1  "
      ]
     },
     "execution_count": 6,
     "metadata": {},
     "output_type": "execute_result"
    }
   ],
   "source": [
    "tweets_train = pd.read_csv('../data/snorklabeled_tweets_train.csv')\n",
    "tweets_train.head()"
   ]
  },
  {
   "cell_type": "code",
   "execution_count": 7,
   "metadata": {
    "colab": {
     "base_uri": "https://localhost:8080/"
    },
    "id": "mNELy675b43R",
    "outputId": "5b8a070d-27ab-4a54-aa2b-2d72154484eb"
   },
   "outputs": [
    {
     "data": {
      "text/plain": [
       "(60515, 3)"
      ]
     },
     "execution_count": 7,
     "metadata": {},
     "output_type": "execute_result"
    }
   ],
   "source": [
    "tweets_train.shape"
   ]
  },
  {
   "cell_type": "code",
   "execution_count": 8,
   "metadata": {
    "colab": {
     "base_uri": "https://localhost:8080/"
    },
    "id": "B_f2qfO4b94a",
    "outputId": "94b5fda6-4af6-4173-a666-43d18fd5737c"
   },
   "outputs": [
    {
     "data": {
      "text/plain": [
       "1    52252\n",
       "0     8263\n",
       "Name: label, dtype: int64"
      ]
     },
     "execution_count": 8,
     "metadata": {},
     "output_type": "execute_result"
    }
   ],
   "source": [
    "tweets_train['label'].value_counts()"
   ]
  },
  {
   "cell_type": "code",
   "execution_count": 9,
   "metadata": {
    "colab": {
     "base_uri": "https://localhost:8080/"
    },
    "id": "8qm1Ei6zcDG6",
    "outputId": "9d46cc23-7922-4efd-8923-6b521e8db7b7"
   },
   "outputs": [
    {
     "data": {
      "text/plain": [
       "1    0.863455\n",
       "0    0.136545\n",
       "Name: label, dtype: float64"
      ]
     },
     "execution_count": 9,
     "metadata": {},
     "output_type": "execute_result"
    }
   ],
   "source": [
    "tweets_train['label'].value_counts(normalize=True)"
   ]
  },
  {
   "cell_type": "markdown",
   "metadata": {
    "id": "tg7Uo0fScwG8"
   },
   "source": [
    "The dataset is highly imbalanced due to low coverage of class 0 labeling function. I will choose to undersample as a baseline to reduce the time of training. "
   ]
  },
  {
   "cell_type": "markdown",
   "metadata": {},
   "source": [
    "**Undersampling**"
   ]
  },
  {
   "cell_type": "code",
   "execution_count": 10,
   "metadata": {
    "id": "ENVvj5qZc7Tl"
   },
   "outputs": [],
   "source": [
    "# split the dataset by their classes \n",
    "novax = tweets_train[tweets_train['label']==0]\n",
    "yesvax = tweets_train[tweets_train['label']==1]"
   ]
  },
  {
   "cell_type": "code",
   "execution_count": 11,
   "metadata": {
    "id": "CcgoQut2wq9M"
   },
   "outputs": [],
   "source": [
    "# down sample the majority class to match the shape of the minority class\n",
    "yesvax_ds = yesvax.sample(novax.shape[0])"
   ]
  },
  {
   "cell_type": "code",
   "execution_count": 12,
   "metadata": {
    "colab": {
     "base_uri": "https://localhost:8080/"
    },
    "id": "FxcaLx4SdoOV",
    "outputId": "ecb01d3f-dc74-49e6-c78a-29539b3a5798"
   },
   "outputs": [
    {
     "data": {
      "text/plain": [
       "(16526, 3)"
      ]
     },
     "execution_count": 12,
     "metadata": {},
     "output_type": "execute_result"
    }
   ],
   "source": [
    "# put together the dataframe\n",
    "tweets_balanced_ds = pd.concat([yesvax_ds, novax])\n",
    "tweets_balanced_ds.shape"
   ]
  },
  {
   "cell_type": "markdown",
   "metadata": {},
   "source": [
    "**train-Val Split**"
   ]
  },
  {
   "cell_type": "code",
   "execution_count": 13,
   "metadata": {
    "id": "UpccpVhJwIJA"
   },
   "outputs": [],
   "source": [
    "X = tweets_balanced_ds['text']\n",
    "y = tweets_balanced_ds['label']"
   ]
  },
  {
   "cell_type": "code",
   "execution_count": 14,
   "metadata": {
    "id": "9jVtFL16wNnS"
   },
   "outputs": [],
   "source": [
    "X_train, X_val, y_train, y_val = train_test_split(X, y, random_state=42, stratify=y)"
   ]
  },
  {
   "cell_type": "markdown",
   "metadata": {},
   "source": [
    "<font color='red'>For model integrity, the train/validation set should have been split BEFORE undersampling the training set.</font>"
   ]
  },
  {
   "cell_type": "markdown",
   "metadata": {},
   "source": [
    "By making validation dataset also balanced, it is impossible to check how the imbalance in the dataset would affect the prediction."
   ]
  },
  {
   "cell_type": "markdown",
   "metadata": {
    "id": "e3d8TK6MxG6x"
   },
   "source": [
    "---"
   ]
  },
  {
   "cell_type": "markdown",
   "metadata": {},
   "source": [
    "## BERT Modeling"
   ]
  },
  {
   "cell_type": "code",
   "execution_count": 15,
   "metadata": {
    "id": "730_B4w_wRJA"
   },
   "outputs": [],
   "source": [
    "# Import BERT model from Tensorflow hub\n",
    "bert_preprocess = hub.KerasLayer(\"https://tfhub.dev/tensorflow/bert_en_uncased_preprocess/3\")\n",
    "bert_encoder = hub.KerasLayer(\"https://tfhub.dev/tensorflow/bert_en_uncased_L-12_H-768_A-12/4\")"
   ]
  },
  {
   "cell_type": "code",
   "execution_count": null,
   "metadata": {
    "id": "hMcrK7ZpwesZ"
   },
   "outputs": [],
   "source": [
    "# Bert layers\n",
    "text_input = tf.keras.layers.Input(shape=(), dtype=tf.string, name='text')\n",
    "preprocessed_text = bert_preprocess(text_input)\n",
    "outputs = bert_encoder(preprocessed_text)\n",
    "\n",
    "# Neural network layers\n",
    "l = tf.keras.layers.Dropout(0.1, name=\"dropout\")(outputs['pooled_output'])\n",
    "l = tf.keras.layers.Dense(1, activation='sigmoid', name=\"output\")(l)\n",
    "\n",
    "# Use inputs and outputs to construct a final model\n",
    "model = tf.keras.Model(inputs=[text_input], outputs = [l])"
   ]
  },
  {
   "cell_type": "code",
   "execution_count": 20,
   "metadata": {
    "colab": {
     "base_uri": "https://localhost:8080/"
    },
    "id": "jiJHVFRtxUlF",
    "outputId": "06647121-5624-41a9-d078-34397f5c81fc"
   },
   "outputs": [
    {
     "name": "stdout",
     "output_type": "stream",
     "text": [
      "Model: \"model\"\n",
      "__________________________________________________________________________________________________\n",
      " Layer (type)                   Output Shape         Param #     Connected to                     \n",
      "==================================================================================================\n",
      " text (InputLayer)              [(None,)]            0           []                               \n",
      "                                                                                                  \n",
      " keras_layer (KerasLayer)       {'input_mask': (Non  0           ['text[0][0]']                   \n",
      "                                e, 128),                                                          \n",
      "                                 'input_word_ids':                                                \n",
      "                                (None, 128),                                                      \n",
      "                                 'input_type_ids':                                                \n",
      "                                (None, 128)}                                                      \n",
      "                                                                                                  \n",
      " keras_layer_1 (KerasLayer)     {'default': (None,   109482241   ['keras_layer[0][0]',            \n",
      "                                768),                             'keras_layer[0][1]',            \n",
      "                                 'encoder_outputs':               'keras_layer[0][2]']            \n",
      "                                 [(None, 128, 768),                                               \n",
      "                                 (None, 128, 768),                                                \n",
      "                                 (None, 128, 768),                                                \n",
      "                                 (None, 128, 768),                                                \n",
      "                                 (None, 128, 768),                                                \n",
      "                                 (None, 128, 768),                                                \n",
      "                                 (None, 128, 768),                                                \n",
      "                                 (None, 128, 768),                                                \n",
      "                                 (None, 128, 768),                                                \n",
      "                                 (None, 128, 768),                                                \n",
      "                                 (None, 128, 768),                                                \n",
      "                                 (None, 128, 768)],                                               \n",
      "                                 'pooled_output': (                                               \n",
      "                                None, 768),                                                       \n",
      "                                 'sequence_output':                                               \n",
      "                                 (None, 128, 768)}                                                \n",
      "                                                                                                  \n",
      " dropout (Dropout)              (None, 768)          0           ['keras_layer_1[0][13]']         \n",
      "                                                                                                  \n",
      " output (Dense)                 (None, 1)            769         ['dropout[0][0]']                \n",
      "                                                                                                  \n",
      "==================================================================================================\n",
      "Total params: 109,483,010\n",
      "Trainable params: 769\n",
      "Non-trainable params: 109,482,241\n",
      "__________________________________________________________________________________________________\n"
     ]
    }
   ],
   "source": [
    "model.summary()"
   ]
  },
  {
   "cell_type": "code",
   "execution_count": 21,
   "metadata": {
    "id": "xB0sLSaQxY15"
   },
   "outputs": [],
   "source": [
    "early_stop = EarlyStopping(monitor='val_loss',\n",
    "                           min_delta=0,\n",
    "                           patience=5,\n",
    "                           verbose=1\n",
    "                           )\n",
    "\n",
    "METRICS = [\n",
    "      tf.keras.metrics.BinaryAccuracy(name='accuracy'),\n",
    "      tf.keras.metrics.Precision(name='precision'),\n",
    "      tf.keras.metrics.Recall(name='recall')\n",
    "]\n",
    "\n",
    "model.compile(optimizer='adam',\n",
    "              loss='binary_crossentropy',\n",
    "              metrics=METRICS)"
   ]
  },
  {
   "cell_type": "code",
   "execution_count": 22,
   "metadata": {
    "colab": {
     "base_uri": "https://localhost:8080/"
    },
    "id": "q6HPpPfcxcbk",
    "outputId": "b6a14e0e-a286-4f38-9220-9f55fde79ad9"
   },
   "outputs": [
    {
     "name": "stdout",
     "output_type": "stream",
     "text": [
      "Epoch 1/10\n",
      "388/388 [==============================] - 178s 433ms/step - loss: 0.5776 - accuracy: 0.7098 - precision: 0.7130 - recall: 0.7021 - val_loss: 0.5362 - val_accuracy: 0.7488 - val_precision: 0.7649 - val_recall: 0.7183\n",
      "Epoch 2/10\n",
      "388/388 [==============================] - 174s 449ms/step - loss: 0.5368 - accuracy: 0.7434 - precision: 0.7595 - recall: 0.7124 - val_loss: 0.5494 - val_accuracy: 0.7062 - val_precision: 0.6644 - val_recall: 0.8335\n",
      "Epoch 3/10\n",
      "388/388 [==============================] - 175s 451ms/step - loss: 0.5220 - accuracy: 0.7504 - precision: 0.7686 - recall: 0.7165 - val_loss: 0.5202 - val_accuracy: 0.7369 - val_precision: 0.7102 - val_recall: 0.8006\n",
      "Epoch 4/10\n",
      "388/388 [==============================] - 175s 452ms/step - loss: 0.5145 - accuracy: 0.7517 - precision: 0.7701 - recall: 0.7178 - val_loss: 0.5000 - val_accuracy: 0.7715 - val_precision: 0.8347 - val_recall: 0.6772\n",
      "Epoch 5/10\n",
      "388/388 [==============================] - 175s 451ms/step - loss: 0.5064 - accuracy: 0.7569 - precision: 0.7801 - recall: 0.7155 - val_loss: 0.4899 - val_accuracy: 0.7655 - val_precision: 0.7789 - val_recall: 0.7415\n",
      "Epoch 6/10\n",
      "388/388 [==============================] - 174s 449ms/step - loss: 0.5012 - accuracy: 0.7646 - precision: 0.7869 - recall: 0.7258 - val_loss: 0.4849 - val_accuracy: 0.7691 - val_precision: 0.7887 - val_recall: 0.7352\n",
      "Epoch 7/10\n",
      "388/388 [==============================] - 175s 451ms/step - loss: 0.4978 - accuracy: 0.7592 - precision: 0.7836 - recall: 0.7163 - val_loss: 0.4910 - val_accuracy: 0.7577 - val_precision: 0.7446 - val_recall: 0.7846\n",
      "Epoch 8/10\n",
      "388/388 [==============================] - 175s 451ms/step - loss: 0.4960 - accuracy: 0.7655 - precision: 0.7907 - recall: 0.7220 - val_loss: 0.5192 - val_accuracy: 0.7239 - val_precision: 0.6803 - val_recall: 0.8446\n",
      "Epoch 9/10\n",
      "388/388 [==============================] - 214s 552ms/step - loss: 0.4921 - accuracy: 0.7645 - precision: 0.7872 - recall: 0.7249 - val_loss: 0.4805 - val_accuracy: 0.7812 - val_precision: 0.8508 - val_recall: 0.6820\n",
      "Epoch 10/10\n",
      "388/388 [==============================] - 214s 552ms/step - loss: 0.4904 - accuracy: 0.7666 - precision: 0.7944 - recall: 0.7194 - val_loss: 0.4859 - val_accuracy: 0.7819 - val_precision: 0.8643 - val_recall: 0.6689\n"
     ]
    }
   ],
   "source": [
    "history = model.fit(X_train, y_train, \n",
    "                    validation_data = (X_val, y_val),\n",
    "                    epochs=10,\n",
    "                    callbacks=[early_stop]\n",
    "                    )"
   ]
  },
  {
   "cell_type": "markdown",
   "metadata": {
    "id": "47uEqjPzxCHQ"
   },
   "source": [
    "**Save history and model for later usage and evaluation**"
   ]
  },
  {
   "cell_type": "code",
   "execution_count": 32,
   "metadata": {
    "id": "MR4i_Vp5Qwhk"
   },
   "outputs": [],
   "source": [
    "# save history data into csv\n",
    "history_df = pd.DataFrame.from_dict(history.history)"
   ]
  },
  {
   "cell_type": "code",
   "execution_count": 33,
   "metadata": {
    "id": "UF2m_ScUPd7J"
   },
   "outputs": [],
   "source": [
    "pd.DataFrame.from_dict(history.history).to_csv(\"../nn_history/snorkel_model.csv\", index=False)"
   ]
  },
  {
   "cell_type": "code",
   "execution_count": 16,
   "metadata": {
    "id": "hlCYjUEhQYy9"
   },
   "outputs": [],
   "source": [
    "# save model\n",
    "model_path = \"../nn_model/snorkel_model\""
   ]
  },
  {
   "cell_type": "code",
   "execution_count": 35,
   "metadata": {
    "colab": {
     "base_uri": "https://localhost:8080/"
    },
    "id": "ybjY8RIWRXn8",
    "outputId": "327af48b-9143-4fc1-fff0-a32fd1e03617"
   },
   "outputs": [
    {
     "name": "stderr",
     "output_type": "stream",
     "text": [
      "WARNING:absl:Found untraced functions such as restored_function_body, restored_function_body, restored_function_body, restored_function_body, restored_function_body while saving (showing 5 of 366). These functions will not be directly callable after loading.\n"
     ]
    }
   ],
   "source": [
    "model.save(model_path)"
   ]
  },
  {
   "cell_type": "code",
   "execution_count": 17,
   "metadata": {
    "id": "ElCvjfWIxPhZ"
   },
   "outputs": [],
   "source": [
    "model_reload = tf.keras.models.load_model(model_path)"
   ]
  },
  {
   "cell_type": "markdown",
   "metadata": {
    "id": "N76RnHY2xKPM"
   },
   "source": [
    "**Test the model**"
   ]
  },
  {
   "cell_type": "code",
   "execution_count": 28,
   "metadata": {
    "id": "YUB6nIW_xxj2"
   },
   "outputs": [],
   "source": [
    "test = pd.read_csv(\"/content/drive/MyDrive/Colab Notebooks/Projects/Capstone/data/snorklabeled_tweets_test.csv\")"
   ]
  },
  {
   "cell_type": "code",
   "execution_count": 29,
   "metadata": {
    "colab": {
     "base_uri": "https://localhost:8080/"
    },
    "id": "gGO16WuqynSI",
    "outputId": "c61b94e1-9825-4bcc-cf77-b673936457dd"
   },
   "outputs": [
    {
     "data": {
      "text/plain": [
       "1    0.866\n",
       "0    0.134\n",
       "Name: label, dtype: float64"
      ]
     },
     "execution_count": 29,
     "metadata": {},
     "output_type": "execute_result"
    }
   ],
   "source": [
    "test.sample(5000, random_state=42)['label'].value_counts(normalize=True)"
   ]
  },
  {
   "cell_type": "code",
   "execution_count": 30,
   "metadata": {
    "id": "XDFG0pSezEIY"
   },
   "outputs": [],
   "source": [
    "test = test.sample(5000, random_state=42)"
   ]
  },
  {
   "cell_type": "code",
   "execution_count": 31,
   "metadata": {
    "id": "fHAPRLXmyGS-"
   },
   "outputs": [],
   "source": [
    "X_test = test['text']\n",
    "y_test = test['label']"
   ]
  },
  {
   "cell_type": "code",
   "execution_count": 33,
   "metadata": {
    "colab": {
     "base_uri": "https://localhost:8080/"
    },
    "id": "E6ywqTm668uP",
    "outputId": "76ac54eb-2959-49b8-e97d-8b0367e9d3c1"
   },
   "outputs": [
    {
     "name": "stdout",
     "output_type": "stream",
     "text": [
      "157/157 [==============================] - 2239s 14s/step\n"
     ]
    }
   ],
   "source": [
    "y_pred = model_reload.predict(X_test)"
   ]
  },
  {
   "cell_type": "code",
   "execution_count": 34,
   "metadata": {
    "id": "Sv4msD_W8D43"
   },
   "outputs": [],
   "source": [
    "y_pred_class = y_pred.flatten()\n",
    "y_pred_class = np.where(y_pred_class > 0.5, 1, 0)"
   ]
  },
  {
   "cell_type": "code",
   "execution_count": 36,
   "metadata": {
    "colab": {
     "base_uri": "https://localhost:8080/"
    },
    "id": "KgaiqE5R7gM_",
    "outputId": "b9f9af18-3193-463c-b22a-ca5a2242cc43"
   },
   "outputs": [
    {
     "data": {
      "text/plain": [
       "array([[ 607,   63],\n",
       "       [1426, 2904]])"
      ]
     },
     "execution_count": 36,
     "metadata": {},
     "output_type": "execute_result"
    }
   ],
   "source": [
    "\n",
    "cm = confusion_matrix(y_test, y_pred_class)\n",
    "cm "
   ]
  },
  {
   "cell_type": "code",
   "execution_count": 37,
   "metadata": {
    "colab": {
     "base_uri": "https://localhost:8080/",
     "height": 297
    },
    "id": "BAXSgzrc7oRT",
    "outputId": "9e25c97b-055d-44bd-8dc6-5f1167ce60e8"
   },
   "outputs": [
    {
     "data": {
      "text/plain": [
       "Text(33.0, 0.5, 'Truth')"
      ]
     },
     "execution_count": 37,
     "metadata": {},
     "output_type": "execute_result"
    },
    {
     "data": {
      "image/png": "[encoded data removed]",
      "text/plain": [
       "<Figure size 432x288 with 2 Axes>"
      ]
     },
     "metadata": {
      "needs_background": "light"
     },
     "output_type": "display_data"
    }
   ],
   "source": [
    "sns.heatmap(cm, annot=True, fmt='d')\n",
    "plt.xlabel('Predicted')\n",
    "plt.ylabel('Truth')"
   ]
  },
  {
   "cell_type": "code",
   "execution_count": 39,
   "metadata": {
    "colab": {
     "base_uri": "https://localhost:8080/"
    },
    "id": "7oVOg_ST7rKD",
    "outputId": "01031e12-785f-4e5c-ed3f-9f579c56e4ac"
   },
   "outputs": [
    {
     "name": "stdout",
     "output_type": "stream",
     "text": [
      "              precision    recall  f1-score   support\n",
      "\n",
      "           0       0.30      0.91      0.45       670\n",
      "           1       0.98      0.67      0.80      4330\n",
      "\n",
      "    accuracy                           0.70      5000\n",
      "   macro avg       0.64      0.79      0.62      5000\n",
      "weighted avg       0.89      0.70      0.75      5000\n",
      "\n"
     ]
    }
   ],
   "source": [
    "print(classification_report(y_test, y_pred_class))"
   ]
  },
  {
   "cell_type": "markdown",
   "metadata": {
    "id": "3MNEJttq9A_z"
   },
   "source": [
    "As discussed earlier, test set accuracy went down likely due to balancing the data before train/validation set. Considering the baseline score of 0.8, the model performed poorly. Also, out of the anti_vax predicted data, more than 2/3 are actually pro_vax(according to Snorkel label).\n",
    "\n",
    "Anyhow, as comparable to its computing time, the model as it is is no better, if not worse than the TF-IDF vectorized model. Due to the shortage of Colab GPU usage and to consider time effeciency, I will focus more on TF-ODEFvectorizer model. "
   ]
  },
  {
   "cell_type": "code",
   "execution_count": null,
   "metadata": {},
   "outputs": [],
   "source": []
  }
 ],
 "metadata": {
  "accelerator": "GPU",
  "colab": {
   "name": "BERT_Snorkellabeled_data.ipynb",
   "provenance": []
  },
  "gpuClass": "standard",
  "kernelspec": {
   "display_name": "Python 3 (ipykernel)",
   "language": "python",
   "name": "python3"
  },
  "language_info": {
   "codemirror_mode": {
    "name": "ipython",
    "version": 3
   },
   "file_extension": ".py",
   "mimetype": "text/x-python",
   "name": "python",
   "nbconvert_exporter": "python",
   "pygments_lexer": "ipython3",
   "version": "3.8.12"
  }
 },
 "nbformat": 4,
 "nbformat_minor": 1
}
